{
 "cells": [
  {
   "cell_type": "code",
   "execution_count": 1,
   "id": "4eb4b89a",
   "metadata": {},
   "outputs": [],
   "source": [
    "a=10\n"
   ]
  },
  {
   "cell_type": "code",
   "execution_count": 2,
   "id": "92dc9cef",
   "metadata": {},
   "outputs": [],
   "source": [
    "b=10"
   ]
  },
  {
   "cell_type": "code",
   "execution_count": 3,
   "id": "24937c7e",
   "metadata": {},
   "outputs": [
    {
     "data": {
      "text/plain": [
       "100"
      ]
     },
     "execution_count": 3,
     "metadata": {},
     "output_type": "execute_result"
    }
   ],
   "source": [
    "a*b"
   ]
  },
  {
   "cell_type": "code",
   "execution_count": 5,
   "id": "b96ad074",
   "metadata": {},
   "outputs": [],
   "source": [
    "l = [1,2,3,4,\"Divesh\",45,56]"
   ]
  },
  {
   "cell_type": "code",
   "execution_count": 24,
   "id": "a0550ff4",
   "metadata": {},
   "outputs": [
    {
     "name": "stdout",
     "output_type": "stream",
     "text": [
      "2\n",
      "3\n",
      "4\n",
      "5\n",
      "46\n",
      "57\n"
     ]
    }
   ],
   "source": [
    "for i in l:\n",
    "    if type(i)==int:\n",
    "        print(i+1)"
   ]
  },
  {
   "cell_type": "markdown",
   "id": "9f816806",
   "metadata": {},
   "source": [
    "pass function"
   ]
  },
  {
   "cell_type": "code",
   "execution_count": 26,
   "id": "e9476555",
   "metadata": {},
   "outputs": [
    {
     "name": "stdout",
     "output_type": "stream",
     "text": [
      "2\n",
      "3\n",
      "4\n",
      "5\n",
      "46\n",
      "57\n"
     ]
    }
   ],
   "source": [
    "for i in l:\n",
    "    if type(i) == int :\n",
    "        print(i+1)\n",
    "    elif type(i)==str:\n",
    "        pass\n",
    "   "
   ]
  },
  {
   "cell_type": "markdown",
   "id": "f34b8664",
   "metadata": {},
   "source": [
    "Break function"
   ]
  },
  {
   "cell_type": "code",
   "execution_count": 27,
   "id": "f1b4b249",
   "metadata": {},
   "outputs": [
    {
     "name": "stdout",
     "output_type": "stream",
     "text": [
      "2\n",
      "3\n",
      "4\n",
      "5\n"
     ]
    }
   ],
   "source": [
    "for i in l:\n",
    "    if type(i) == int :\n",
    "        print(i+1)\n",
    "    elif type(i)==str:\n",
    "        break"
   ]
  },
  {
   "cell_type": "code",
   "execution_count": 32,
   "id": "f0e182e9",
   "metadata": {},
   "outputs": [
    {
     "name": "stdout",
     "output_type": "stream",
     "text": [
      "D\n",
      "i\n",
      "v\n"
     ]
    }
   ],
   "source": [
    "D = \"Divesh\"\n",
    "for i in D :\n",
    "    if i == 'e' :\n",
    "        break\n",
    "    print(i)\n",
    "else :\n",
    "    print('Hey Div')"
   ]
  },
  {
   "cell_type": "code",
   "execution_count": 33,
   "id": "ed726c9b",
   "metadata": {},
   "outputs": [
    {
     "name": "stdout",
     "output_type": "stream",
     "text": [
      "D\n",
      "i\n",
      "v\n",
      "e\n",
      "s\n",
      "h\n",
      "Hey Div\n"
     ]
    }
   ],
   "source": [
    "D = \"Divesh\"\n",
    "for i in D :\n",
    "    if i == 'r' :\n",
    "        break\n",
    "    print(i)\n",
    "else :\n",
    "    print('Hey Div')"
   ]
  },
  {
   "cell_type": "code",
   "execution_count": 36,
   "id": "eb40ccd4",
   "metadata": {},
   "outputs": [
    {
     "name": "stdout",
     "output_type": "stream",
     "text": [
      "D\n",
      "i\n",
      "v\n"
     ]
    }
   ],
   "source": [
    "D = \"Divesh\"\n",
    "for i in D :\n",
    "    if i == 'e' :\n",
    "        break\n",
    "    print(i)\n",
    "    pass\n",
    "else :\n",
    "    print('Hey Div')"
   ]
  },
  {
   "cell_type": "code",
   "execution_count": 37,
   "id": "a8cecc37",
   "metadata": {},
   "outputs": [
    {
     "name": "stdout",
     "output_type": "stream",
     "text": [
      "1\n",
      "2\n",
      "3\n",
      "4\n",
      "5\n",
      "6\n",
      "Divesh\n"
     ]
    }
   ],
   "source": [
    "t = (1,2,3,4,5,6,\"Divesh\")\n",
    "for i in t:\n",
    "    print(i)"
   ]
  },
  {
   "cell_type": "code",
   "execution_count": 39,
   "id": "312650da",
   "metadata": {},
   "outputs": [
    {
     "data": {
      "text/plain": [
       "set"
      ]
     },
     "execution_count": 39,
     "metadata": {},
     "output_type": "execute_result"
    }
   ],
   "source": [
    "b={1,2,3,4,5,6,7,7,7,6,5,\"Divesh\"}\n",
    "type(b)"
   ]
  },
  {
   "cell_type": "code",
   "execution_count": 40,
   "id": "9ac93a7e",
   "metadata": {},
   "outputs": [
    {
     "data": {
      "text/plain": [
       "{1, 2, 3, 4, 5, 6, 7, 'Divesh'}"
      ]
     },
     "execution_count": 40,
     "metadata": {},
     "output_type": "execute_result"
    }
   ],
   "source": [
    "b"
   ]
  },
  {
   "cell_type": "code",
   "execution_count": 41,
   "id": "509a408a",
   "metadata": {},
   "outputs": [
    {
     "name": "stdout",
     "output_type": "stream",
     "text": [
      "1\n",
      "2\n",
      "3\n",
      "4\n",
      "5\n",
      "6\n",
      "7\n",
      "Divesh\n"
     ]
    }
   ],
   "source": [
    "for i in b:\n",
    "    print(i)"
   ]
  },
  {
   "cell_type": "code",
   "execution_count": 42,
   "id": "5c41ff3c",
   "metadata": {},
   "outputs": [],
   "source": [
    "D={'AA':'aa','BB':'bb','CC':'cc'}"
   ]
  },
  {
   "cell_type": "code",
   "execution_count": 50,
   "id": "ca7751c4",
   "metadata": {},
   "outputs": [
    {
     "name": "stdout",
     "output_type": "stream",
     "text": [
      "AA aa\n",
      "BB bb\n",
      "CC cc\n"
     ]
    }
   ],
   "source": [
    "for i in D:\n",
    "    print(i,D[i])"
   ]
  },
  {
   "cell_type": "code",
   "execution_count": 49,
   "id": "49a0c770",
   "metadata": {},
   "outputs": [
    {
     "data": {
      "text/plain": [
       "'aa'"
      ]
     },
     "execution_count": 49,
     "metadata": {},
     "output_type": "execute_result"
    }
   ],
   "source": [
    "D[\"AA\"]"
   ]
  },
  {
   "cell_type": "code",
   "execution_count": 60,
   "id": "6bd6f7bd",
   "metadata": {},
   "outputs": [
    {
     "name": "stdout",
     "output_type": "stream",
     "text": [
      "AA aa\n",
      "dict_keys(['AA', 'BB', 'CC'])\n",
      "dict_values(['aa', 'bb', 'cc'])\n",
      "BB bb\n",
      "dict_keys(['AA', 'BB', 'CC'])\n",
      "dict_values(['aa', 'bb', 'cc'])\n",
      "CC cc\n",
      "dict_keys(['AA', 'BB', 'CC'])\n",
      "dict_values(['aa', 'bb', 'cc'])\n"
     ]
    }
   ],
   "source": [
    "for i in D:\n",
    "    if D[i]=='aa' or D[i]=='bb' or D[i]=='cc':\n",
    "        print(i, D[i])\n",
    "        print(D.keys())\n",
    "        print(D.values())"
   ]
  },
  {
   "cell_type": "code",
   "execution_count": 61,
   "id": "dc772672",
   "metadata": {},
   "outputs": [
    {
     "data": {
      "text/plain": [
       "range(0, 10)"
      ]
     },
     "execution_count": 61,
     "metadata": {},
     "output_type": "execute_result"
    }
   ],
   "source": [
    "range(0,10)"
   ]
  },
  {
   "cell_type": "code",
   "execution_count": 62,
   "id": "4d453a04",
   "metadata": {},
   "outputs": [
    {
     "data": {
      "text/plain": [
       "[0, 1, 2, 3, 4, 5, 6, 7, 8, 9, 10]"
      ]
     },
     "execution_count": 62,
     "metadata": {},
     "output_type": "execute_result"
    }
   ],
   "source": [
    "list(range(0,11))"
   ]
  },
  {
   "cell_type": "code",
   "execution_count": 63,
   "id": "24025013",
   "metadata": {},
   "outputs": [
    {
     "name": "stdout",
     "output_type": "stream",
     "text": [
      "0\n",
      "1\n",
      "2\n",
      "3\n",
      "4\n",
      "5\n",
      "6\n",
      "7\n",
      "8\n",
      "9\n",
      "10\n"
     ]
    }
   ],
   "source": [
    "for i in range(11):\n",
    "    print(i)"
   ]
  },
  {
   "cell_type": "code",
   "execution_count": 65,
   "id": "88e60bef",
   "metadata": {},
   "outputs": [
    {
     "data": {
      "text/plain": [
       "[]"
      ]
     },
     "execution_count": 65,
     "metadata": {},
     "output_type": "execute_result"
    }
   ],
   "source": [
    "list(range(0,11,-1))"
   ]
  },
  {
   "cell_type": "code",
   "execution_count": 74,
   "id": "7479f863",
   "metadata": {},
   "outputs": [
    {
     "name": "stdout",
     "output_type": "stream",
     "text": [
      "Divesh    \n",
      "\n",
      "Divesh    Divesh    \n",
      "\n",
      "Divesh    Divesh    Divesh    \n",
      "\n",
      "Divesh    Divesh    Divesh    Divesh    \n",
      "\n"
     ]
    }
   ],
   "source": [
    "n = 4\n",
    "for i in range(4):\n",
    "    for j in range(i+1):\n",
    "        print(\"Divesh\", end= \"    \")\n",
    "    print(\"\\n\")    "
   ]
  },
  {
   "cell_type": "code",
   "execution_count": 76,
   "id": "c2761f41",
   "metadata": {},
   "outputs": [
    {
     "name": "stdout",
     "output_type": "stream",
     "text": [
      "           Divesh  \n",
      "\n",
      "        Divesh  Divesh  \n",
      "\n",
      "     Divesh  Divesh  Divesh  \n",
      "\n",
      "  Divesh  Divesh  Divesh  Divesh  \n",
      "\n"
     ]
    }
   ],
   "source": [
    "n=4\n",
    "for i in range(4):\n",
    "    n=n-1\n",
    "    print('   '*n, end='  ')\n",
    "    for j in range(i+1):\n",
    "        print('Divesh', end='  ')\n",
    "    print('\\n')    "
   ]
  },
  {
   "cell_type": "code",
   "execution_count": 183,
   "id": "48a9b75e",
   "metadata": {},
   "outputs": [
    {
     "name": "stdout",
     "output_type": "stream",
     "text": [
      "              Divesh \n",
      "       Divesh Divesh Divesh \n",
      "Divesh Divesh Divesh Divesh Divesh \n"
     ]
    }
   ],
   "source": [
    "n=3\n",
    "for i in range(n):\n",
    "    for j in range(i , n-1):\n",
    "        print(\" \" * len(\"Divesh\"),end=\" \")\n",
    "    for j in range(i+1):\n",
    "        print(\"Divesh\",end=\" \")\n",
    "    for j in range(i):\n",
    "        print(\"Divesh\",end=\" \")\n",
    "    print()\n",
    "    "
   ]
  },
  {
   "cell_type": "code",
   "execution_count": null,
   "id": "754efc2c",
   "metadata": {},
   "outputs": [],
   "source": []
  },
  {
   "cell_type": "code",
   "execution_count": null,
   "id": "46aa6258",
   "metadata": {},
   "outputs": [],
   "source": []
  },
  {
   "cell_type": "code",
   "execution_count": 82,
   "id": "b2f6c197",
   "metadata": {},
   "outputs": [
    {
     "name": "stdout",
     "output_type": "stream",
     "text": [
      "0 2\n",
      "1 5\n",
      "2 8\n",
      "3 12\n",
      "4 6\n",
      "5 88\n",
      "6 43\n",
      "7 889\n"
     ]
    }
   ],
   "source": [
    "t=(2,5,8,12,6,88,43,889) \n",
    "for i in range(8):\n",
    "    print(i , t[i])"
   ]
  },
  {
   "cell_type": "code",
   "execution_count": 83,
   "id": "87a479c7",
   "metadata": {},
   "outputs": [
    {
     "name": "stdout",
     "output_type": "stream",
     "text": [
      "0 2\n",
      "1 5\n",
      "2 8\n",
      "3 12\n",
      "4 6\n",
      "5 88\n",
      "6 43\n",
      "7 889\n"
     ]
    }
   ],
   "source": [
    "t=(2,5,8,12,6,88,43,889) \n",
    "for i in range(len(t)):\n",
    "    print(i , t[i])"
   ]
  },
  {
   "cell_type": "code",
   "execution_count": 95,
   "id": "c20f7b10",
   "metadata": {},
   "outputs": [
    {
     "name": "stdout",
     "output_type": "stream",
     "text": [
      "6 n\n",
      "5 o\n",
      "4 r\n",
      "3 u\n",
      "2 e\n",
      "1 N\n",
      "0 i\n"
     ]
    }
   ],
   "source": [
    "s = \"iNeuron\"\n",
    "for i in range(len(s)-1,-1,-1):\n",
    "    print(i, s[i])"
   ]
  },
  {
   "cell_type": "code",
   "execution_count": null,
   "id": "e1734119",
   "metadata": {},
   "outputs": [],
   "source": []
  },
  {
   "cell_type": "code",
   "execution_count": 96,
   "id": "fe1e0f1c",
   "metadata": {},
   "outputs": [
    {
     "data": {
      "text/plain": [
       "{'AA': 'aa', 'BB': 'bb', 'CC': 'cc'}"
      ]
     },
     "execution_count": 96,
     "metadata": {},
     "output_type": "execute_result"
    }
   ],
   "source": [
    "D"
   ]
  },
  {
   "cell_type": "code",
   "execution_count": 102,
   "id": "7e128937",
   "metadata": {},
   "outputs": [
    {
     "name": "stdout",
     "output_type": "stream",
     "text": [
      "('AA', 'aa') <class 'tuple'> <class 'str'>\n",
      "('BB', 'bb') <class 'tuple'> <class 'str'>\n",
      "('CC', 'cc') <class 'tuple'> <class 'str'>\n"
     ]
    }
   ],
   "source": [
    "for i in D.items():\n",
    "    print(i,type(i),type(i[1]))"
   ]
  },
  {
   "cell_type": "code",
   "execution_count": 103,
   "id": "1efb5e5b",
   "metadata": {},
   "outputs": [],
   "source": [
    "l = [\"Divesh\",'Babu',\"diveshankolekar.com\",6361646136,1234567890,\"Dikshat\",4567]"
   ]
  },
  {
   "cell_type": "code",
   "execution_count": 116,
   "id": "3b727756",
   "metadata": {},
   "outputs": [],
   "source": [
    "l1=[]\n",
    "for i in l :\n",
    "    if type(i) ==int:\n",
    "        l1.append(i)\n",
    "        l1"
   ]
  },
  {
   "cell_type": "code",
   "execution_count": 117,
   "id": "9bbf6a04",
   "metadata": {},
   "outputs": [
    {
     "data": {
      "text/plain": [
       "[6361646136, 1234567890, 4567]"
      ]
     },
     "execution_count": 117,
     "metadata": {},
     "output_type": "execute_result"
    }
   ],
   "source": [
    "l1"
   ]
  },
  {
   "cell_type": "code",
   "execution_count": 137,
   "id": "4f6dd5f2",
   "metadata": {},
   "outputs": [],
   "source": [
    "d = {1:34567,\"name\":\"Divesh\",'Email id':\"diveshankolekar@gmail.com\",234:'sfdtfddj',43:\"hgfj\", 233 : \"vvbfdvbh\"}"
   ]
  },
  {
   "cell_type": "code",
   "execution_count": 139,
   "id": "d13004b5",
   "metadata": {},
   "outputs": [
    {
     "name": "stdout",
     "output_type": "stream",
     "text": [
      "1 : 34567\n",
      "234 : sfdtfddj\n",
      "43 : hgfj\n",
      "233 : vvbfdvbh\n"
     ]
    }
   ],
   "source": [
    "for i in d:\n",
    "    if type(i)== int:\n",
    "        print(i,':', d[i])"
   ]
  },
  {
   "cell_type": "code",
   "execution_count": 140,
   "id": "e617f8b7",
   "metadata": {},
   "outputs": [
    {
     "name": "stdout",
     "output_type": "stream",
     "text": [
      "name : Divesh\n",
      "Email id : diveshankolekar@gmail.com\n"
     ]
    }
   ],
   "source": [
    "for i in d:\n",
    "    if type(i)== str:\n",
    "        print(i,':', d[i])"
   ]
  },
  {
   "cell_type": "code",
   "execution_count": 144,
   "id": "110fc560",
   "metadata": {},
   "outputs": [],
   "source": [
    "s = \"aaaaabbccd\""
   ]
  },
  {
   "cell_type": "code",
   "execution_count": 145,
   "id": "597d247b",
   "metadata": {},
   "outputs": [
    {
     "data": {
      "text/plain": [
       "['a', 'a', 'a', 'a', 'a', 'b', 'b', 'c', 'c', 'd']"
      ]
     },
     "execution_count": 145,
     "metadata": {},
     "output_type": "execute_result"
    }
   ],
   "source": [
    "list(s)"
   ]
  },
  {
   "cell_type": "code",
   "execution_count": 146,
   "id": "bad24edd",
   "metadata": {},
   "outputs": [
    {
     "data": {
      "text/plain": [
       "5"
      ]
     },
     "execution_count": 146,
     "metadata": {},
     "output_type": "execute_result"
    }
   ],
   "source": [
    "s.count('a')"
   ]
  },
  {
   "cell_type": "code",
   "execution_count": 147,
   "id": "036b5b88",
   "metadata": {},
   "outputs": [
    {
     "data": {
      "text/plain": [
       "2"
      ]
     },
     "execution_count": 147,
     "metadata": {},
     "output_type": "execute_result"
    }
   ],
   "source": [
    "s.count('b')"
   ]
  },
  {
   "cell_type": "code",
   "execution_count": 148,
   "id": "ab7bfbf6",
   "metadata": {},
   "outputs": [
    {
     "data": {
      "text/plain": [
       "2"
      ]
     },
     "execution_count": 148,
     "metadata": {},
     "output_type": "execute_result"
    }
   ],
   "source": [
    "s.count('c')"
   ]
  },
  {
   "cell_type": "code",
   "execution_count": 149,
   "id": "75b8d3d7",
   "metadata": {},
   "outputs": [
    {
     "data": {
      "text/plain": [
       "1"
      ]
     },
     "execution_count": 149,
     "metadata": {},
     "output_type": "execute_result"
    }
   ],
   "source": [
    "s.count('d')"
   ]
  },
  {
   "cell_type": "code",
   "execution_count": 151,
   "id": "6f3225b6",
   "metadata": {},
   "outputs": [
    {
     "name": "stdout",
     "output_type": "stream",
     "text": [
      "a : 5\n",
      "a : 5\n",
      "a : 5\n",
      "a : 5\n",
      "a : 5\n",
      "b : 2\n",
      "b : 2\n",
      "c : 2\n",
      "c : 2\n",
      "d : 1\n"
     ]
    }
   ],
   "source": [
    "for i in list(s):\n",
    "    print(i , ':' , s.count(i))\n",
    "\n"
   ]
  },
  {
   "cell_type": "code",
   "execution_count": 152,
   "id": "da9b6631",
   "metadata": {},
   "outputs": [
    {
     "name": "stdout",
     "output_type": "stream",
     "text": [
      "d : 1\n",
      "b : 2\n",
      "c : 2\n",
      "a : 5\n"
     ]
    }
   ],
   "source": [
    "for i in set(s):\n",
    "    print(i , ':' , s.count(i))"
   ]
  },
  {
   "cell_type": "code",
   "execution_count": 172,
   "id": "bd805213",
   "metadata": {},
   "outputs": [],
   "source": [
    "f=(\"aaassssffggeeyyrttdggcvbfjjfkgiiieytttgsffdhdfjkghplhlghikgigfuyrtyrgfdgxvxzcdadaeqwtwgdfdgdcbfbcvxdaswaewreghfdjhfjfk\")"
   ]
  },
  {
   "cell_type": "code",
   "execution_count": 173,
   "id": "ac5019d3",
   "metadata": {},
   "outputs": [
    {
     "name": "stdout",
     "output_type": "stream",
     "text": [
      "e : 6\n",
      "p : 1\n",
      "d : 11\n",
      "z : 1\n",
      "x : 3\n",
      "y : 5\n",
      "w : 4\n",
      "s : 6\n",
      "q : 1\n",
      "i : 5\n",
      "c : 4\n",
      "v : 3\n",
      "u : 1\n",
      "f : 14\n",
      "k : 4\n",
      "b : 3\n",
      "g : 15\n",
      "t : 7\n",
      "h : 6\n",
      "r : 4\n",
      "j : 5\n",
      "l : 2\n",
      "a : 7\n"
     ]
    }
   ],
   "source": [
    "for i in set(f):\n",
    "    print(i , ':' , f.count(i))"
   ]
  },
  {
   "cell_type": "code",
   "execution_count": 20,
   "id": "0d6235f0",
   "metadata": {},
   "outputs": [],
   "source": [
    "i= 35661753362687"
   ]
  },
  {
   "cell_type": "code",
   "execution_count": 21,
   "id": "2e7ae31f",
   "metadata": {},
   "outputs": [
    {
     "ename": "TypeError",
     "evalue": "'int' object is not iterable",
     "output_type": "error",
     "traceback": [
      "\u001b[1;31m---------------------------------------------------------------------------\u001b[0m",
      "\u001b[1;31mTypeError\u001b[0m                                 Traceback (most recent call last)",
      "\u001b[1;32m~\\AppData\\Local\\Temp/ipykernel_24368/1324627699.py\u001b[0m in \u001b[0;36m<module>\u001b[1;34m\u001b[0m\n\u001b[1;32m----> 1\u001b[1;33m \u001b[1;32mfor\u001b[0m \u001b[0mj\u001b[0m \u001b[1;32min\u001b[0m \u001b[0mi\u001b[0m\u001b[1;33m:\u001b[0m\u001b[1;33m\u001b[0m\u001b[1;33m\u001b[0m\u001b[0m\n\u001b[0m\u001b[0;32m      2\u001b[0m     \u001b[0mprint\u001b[0m\u001b[1;33m(\u001b[0m\u001b[0mi\u001b[0m\u001b[1;33m)\u001b[0m\u001b[1;33m\u001b[0m\u001b[1;33m\u001b[0m\u001b[0m\n",
      "\u001b[1;31mTypeError\u001b[0m: 'int' object is not iterable"
     ]
    }
   ],
   "source": [
    "for j in i:\n",
    "    print(i)"
   ]
  },
  {
   "cell_type": "code",
   "execution_count": 23,
   "id": "a28a2924",
   "metadata": {},
   "outputs": [
    {
     "data": {
      "text/plain": [
       "'35661753362687'"
      ]
     },
     "execution_count": 23,
     "metadata": {},
     "output_type": "execute_result"
    }
   ],
   "source": [
    "str(i)"
   ]
  },
  {
   "cell_type": "code",
   "execution_count": 26,
   "id": "eda6dd74",
   "metadata": {},
   "outputs": [
    {
     "name": "stdout",
     "output_type": "stream",
     "text": [
      "3 <class 'int'>\n",
      "5 <class 'int'>\n",
      "6 <class 'int'>\n",
      "6 <class 'int'>\n",
      "1 <class 'int'>\n",
      "7 <class 'int'>\n",
      "5 <class 'int'>\n",
      "3 <class 'int'>\n",
      "3 <class 'int'>\n",
      "6 <class 'int'>\n",
      "2 <class 'int'>\n",
      "6 <class 'int'>\n",
      "8 <class 'int'>\n",
      "7 <class 'int'>\n"
     ]
    }
   ],
   "source": [
    "for j in str(i):\n",
    "    print(int(j) , type(int(j)))"
   ]
  },
  {
   "cell_type": "code",
   "execution_count": 27,
   "id": "94c82a27",
   "metadata": {},
   "outputs": [],
   "source": [
    "t = (\"Divesh\",\"Babu\",[1,2,3,4,5],(3,4,5,6),{\"Divesh\":\"Data Scientist\",\"Babu\":\"Cricketer\"})"
   ]
  },
  {
   "cell_type": "code",
   "execution_count": 28,
   "id": "1d41b970",
   "metadata": {},
   "outputs": [
    {
     "data": {
      "text/plain": [
       "3"
      ]
     },
     "execution_count": 28,
     "metadata": {},
     "output_type": "execute_result"
    }
   ],
   "source": [
    "t[2][2]"
   ]
  },
  {
   "cell_type": "code",
   "execution_count": 34,
   "id": "3cacba22",
   "metadata": {},
   "outputs": [
    {
     "name": "stdout",
     "output_type": "stream",
     "text": [
      "3 3\n"
     ]
    }
   ],
   "source": [
    "print(t[2][2] , t[3][0])"
   ]
  },
  {
   "cell_type": "markdown",
   "id": "eb7549ab",
   "metadata": {},
   "source": [
    "OR"
   ]
  },
  {
   "cell_type": "code",
   "execution_count": 21,
   "id": "8826f77d",
   "metadata": {},
   "outputs": [],
   "source": [
    "t = (\"Divesh\",\"Babu\",[1,2,3,4,5],(3,4,5,6),{3:3,\"Divesh\":\"Data Scientist\",\"Babu\":\"Cricketer\"})"
   ]
  },
  {
   "cell_type": "code",
   "execution_count": 22,
   "id": "a0471cd1",
   "metadata": {},
   "outputs": [
    {
     "name": "stdout",
     "output_type": "stream",
     "text": [
      "3\n",
      "3\n",
      "3\n"
     ]
    }
   ],
   "source": [
    "for i in t :\n",
    "    if type(i) == list or type(i) == tuple or type(i) == dict :\n",
    "        for j in i :\n",
    "            if j == 3:\n",
    "                print(j)\n",
    "        "
   ]
  },
  {
   "cell_type": "code",
   "execution_count": 23,
   "id": "43e57bf7",
   "metadata": {},
   "outputs": [
    {
     "name": "stdout",
     "output_type": "stream",
     "text": [
      "3\n",
      "3\n",
      "(3, 3)\n",
      "('Divesh', 'Data Scientist')\n",
      "('Babu', 'Cricketer')\n"
     ]
    }
   ],
   "source": [
    "for i in t :\n",
    "    if type(i) == list or type(i) == tuple :\n",
    "        for j in i :\n",
    "            if j == 3:\n",
    "                print(j)\n",
    "    if type (i) == dict:  \n",
    "        for k in i.items() :\n",
    "            print(k)\n",
    "            \n",
    "                "
   ]
  },
  {
   "cell_type": "code",
   "execution_count": 26,
   "id": "df021e3e",
   "metadata": {},
   "outputs": [
    {
     "name": "stdout",
     "output_type": "stream",
     "text": [
      "3\n",
      "3\n",
      "3\n",
      "3\n"
     ]
    }
   ],
   "source": [
    "for i in t :\n",
    "    if type(i) == list or type(i) == tuple :\n",
    "        for j in i :\n",
    "            if j == 3:\n",
    "                print(j)\n",
    "    if type (i) == dict:  \n",
    "        for a,b in i.items() :\n",
    "            if a == 3 or b == 3:\n",
    "                print(a)\n",
    "                print(b)\n",
    "            "
   ]
  },
  {
   "cell_type": "code",
   "execution_count": 27,
   "id": "c9f26ae2",
   "metadata": {},
   "outputs": [],
   "source": [
    "d={1:2,\"Aa\":\"Divesh\",\"Bb\":\"ankolekar\"}"
   ]
  },
  {
   "cell_type": "code",
   "execution_count": 28,
   "id": "55ed895d",
   "metadata": {},
   "outputs": [
    {
     "name": "stdout",
     "output_type": "stream",
     "text": [
      "(1, 2)\n",
      "('Aa', 'Divesh')\n",
      "('Bb', 'ankolekar')\n"
     ]
    }
   ],
   "source": [
    "for i in d.items():\n",
    "    print(i)\n"
   ]
  },
  {
   "cell_type": "code",
   "execution_count": 29,
   "id": "10508821",
   "metadata": {},
   "outputs": [
    {
     "data": {
      "text/plain": [
       "dict_items([(1, 2), ('Aa', 'Divesh'), ('Bb', 'ankolekar')])"
      ]
     },
     "execution_count": 29,
     "metadata": {},
     "output_type": "execute_result"
    }
   ],
   "source": [
    "d.items()"
   ]
  },
  {
   "cell_type": "raw",
   "id": "6d0e9021",
   "metadata": {},
   "source": [
    "ALL ARE SIMILAR BELOW"
   ]
  },
  {
   "cell_type": "code",
   "execution_count": 30,
   "id": "ceed46cb",
   "metadata": {},
   "outputs": [],
   "source": [
    "a = 10\n",
    "b = 20\n",
    "c = 30"
   ]
  },
  {
   "cell_type": "code",
   "execution_count": 31,
   "id": "59094404",
   "metadata": {},
   "outputs": [],
   "source": [
    "a,b,c = 10,20,30"
   ]
  },
  {
   "cell_type": "code",
   "execution_count": 32,
   "id": "b38b6fe4",
   "metadata": {},
   "outputs": [],
   "source": [
    "a,b,c = (10,20,30)"
   ]
  },
  {
   "cell_type": "markdown",
   "id": "9f6226af",
   "metadata": {},
   "source": [
    "Problem Statement:-\n",
    "\n",
    "    Q1\n",
    " ineuron\n",
    " ineuron ineuron \n",
    " ineuron ineuron ineuron\n",
    " ineuron ineuron ineuron\n",
    "            \n",
    "    \n",
    "    \n",
    "   Q2\n",
    "          ineuron\n",
    "    ineuron      ineuron \n",
    "  ineuron  ineuron  ineuron\n",
    "    ineuron      ineuron\n",
    "          ineuron\n",
    "          \n",
    "   \n",
    "   \n",
    "          "
   ]
  },
  {
   "cell_type": "code",
   "execution_count": null,
   "id": "4daab3f4",
   "metadata": {},
   "outputs": [],
   "source": []
  }
 ],
 "metadata": {
  "kernelspec": {
   "display_name": "Python 3 (ipykernel)",
   "language": "python",
   "name": "python3"
  },
  "language_info": {
   "codemirror_mode": {
    "name": "ipython",
    "version": 3
   },
   "file_extension": ".py",
   "mimetype": "text/x-python",
   "name": "python",
   "nbconvert_exporter": "python",
   "pygments_lexer": "ipython3",
   "version": "3.9.7"
  }
 },
 "nbformat": 4,
 "nbformat_minor": 5
}
