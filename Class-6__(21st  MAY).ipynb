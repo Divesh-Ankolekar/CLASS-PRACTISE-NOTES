{
 "cells": [
  {
   "cell_type": "code",
   "execution_count": 1,
   "id": "f0db8c42",
   "metadata": {},
   "outputs": [],
   "source": [
    "l=[1,2,3,4,5,\"divesh\",23,23,True]"
   ]
  },
  {
   "cell_type": "code",
   "execution_count": 2,
   "id": "19fbd9cf",
   "metadata": {},
   "outputs": [
    {
     "data": {
      "text/plain": [
       "1"
      ]
     },
     "execution_count": 2,
     "metadata": {},
     "output_type": "execute_result"
    }
   ],
   "source": [
    "l[0]"
   ]
  },
  {
   "cell_type": "code",
   "execution_count": 3,
   "id": "3b7fc353",
   "metadata": {},
   "outputs": [
    {
     "data": {
      "text/plain": [
       "True"
      ]
     },
     "execution_count": 3,
     "metadata": {},
     "output_type": "execute_result"
    }
   ],
   "source": [
    "l[-1]"
   ]
  },
  {
   "cell_type": "code",
   "execution_count": 4,
   "id": "732f25e2",
   "metadata": {},
   "outputs": [
    {
     "data": {
      "text/plain": [
       "9"
      ]
     },
     "execution_count": 4,
     "metadata": {},
     "output_type": "execute_result"
    }
   ],
   "source": [
    "len(l)"
   ]
  },
  {
   "cell_type": "code",
   "execution_count": 5,
   "id": "7cd0d579",
   "metadata": {},
   "outputs": [
    {
     "data": {
      "text/plain": [
       "[1, 2, 3, 4, 5]"
      ]
     },
     "execution_count": 5,
     "metadata": {},
     "output_type": "execute_result"
    }
   ],
   "source": [
    "l[0:5]"
   ]
  },
  {
   "cell_type": "code",
   "execution_count": 6,
   "id": "3190b9b5",
   "metadata": {},
   "outputs": [
    {
     "data": {
      "text/plain": [
       "[True, 23, 23, 'divesh', 5, 4, 3, 2, 1]"
      ]
     },
     "execution_count": 6,
     "metadata": {},
     "output_type": "execute_result"
    }
   ],
   "source": [
    "l[::-1]"
   ]
  },
  {
   "cell_type": "code",
   "execution_count": 7,
   "id": "cc22de6a",
   "metadata": {},
   "outputs": [
    {
     "data": {
      "text/plain": [
       "[1, 2, 3, 4, 5, 'divesh', 23, 23, True]"
      ]
     },
     "execution_count": 7,
     "metadata": {},
     "output_type": "execute_result"
    }
   ],
   "source": [
    "l[0:100]"
   ]
  },
  {
   "cell_type": "code",
   "execution_count": 8,
   "id": "44c5e8dd",
   "metadata": {},
   "outputs": [
    {
     "data": {
      "text/plain": [
       "[1, 3, 5, 23, True]"
      ]
     },
     "execution_count": 8,
     "metadata": {},
     "output_type": "execute_result"
    }
   ],
   "source": [
    "l[0:100:2]"
   ]
  },
  {
   "cell_type": "code",
   "execution_count": 9,
   "id": "0ceb47db",
   "metadata": {},
   "outputs": [
    {
     "data": {
      "text/plain": [
       "[1, 2, 3, 4, 5, 'divesh', 23, 23, True]"
      ]
     },
     "execution_count": 9,
     "metadata": {},
     "output_type": "execute_result"
    }
   ],
   "source": [
    "l"
   ]
  },
  {
   "cell_type": "code",
   "execution_count": 10,
   "id": "25aa3494",
   "metadata": {},
   "outputs": [
    {
     "data": {
      "text/plain": [
       "[]"
      ]
     },
     "execution_count": 10,
     "metadata": {},
     "output_type": "execute_result"
    }
   ],
   "source": [
    "l[0:8:-1]"
   ]
  },
  {
   "cell_type": "code",
   "execution_count": 11,
   "id": "d6c037e3",
   "metadata": {},
   "outputs": [
    {
     "data": {
      "text/plain": [
       "[1, 2, 3]"
      ]
     },
     "execution_count": 11,
     "metadata": {},
     "output_type": "execute_result"
    }
   ],
   "source": [
    "l[:3]"
   ]
  },
  {
   "cell_type": "code",
   "execution_count": 12,
   "id": "b39e5da1",
   "metadata": {},
   "outputs": [
    {
     "data": {
      "text/plain": [
       "[1, 2, 3, 4, 5, 'divesh', 23, 23, True]"
      ]
     },
     "execution_count": 12,
     "metadata": {},
     "output_type": "execute_result"
    }
   ],
   "source": [
    "l"
   ]
  },
  {
   "cell_type": "code",
   "execution_count": 13,
   "id": "aa718578",
   "metadata": {},
   "outputs": [
    {
     "data": {
      "text/plain": [
       "[1, 2, 3, 4, 5, 'divesh', 23, 23, True, 'divesh']"
      ]
     },
     "execution_count": 13,
     "metadata": {},
     "output_type": "execute_result"
    }
   ],
   "source": [
    "l+[\"divesh\"]"
   ]
  },
  {
   "cell_type": "code",
   "execution_count": 14,
   "id": "15ed4c67",
   "metadata": {},
   "outputs": [
    {
     "data": {
      "text/plain": [
       "[1, 2, 3, 4, 5, 'divesh', 23, 23, True, 1, 2, 3, 4, 5, 'divesh', 23, 23, True]"
      ]
     },
     "execution_count": 14,
     "metadata": {},
     "output_type": "execute_result"
    }
   ],
   "source": [
    "l*2"
   ]
  },
  {
   "cell_type": "code",
   "execution_count": 15,
   "id": "b5176e9f",
   "metadata": {},
   "outputs": [
    {
     "data": {
      "text/plain": [
       "False"
      ]
     },
     "execution_count": 15,
     "metadata": {},
     "output_type": "execute_result"
    }
   ],
   "source": [
    "6 in l"
   ]
  },
  {
   "cell_type": "code",
   "execution_count": 16,
   "id": "b29df248",
   "metadata": {},
   "outputs": [
    {
     "data": {
      "text/plain": [
       "True"
      ]
     },
     "execution_count": 16,
     "metadata": {},
     "output_type": "execute_result"
    }
   ],
   "source": [
    "1 in l"
   ]
  },
  {
   "cell_type": "code",
   "execution_count": 17,
   "id": "b79e13c2",
   "metadata": {},
   "outputs": [],
   "source": [
    "l1=[1,2,6,3,8,9,2,5,10,14,28,34,121,223,12,34,243,131,123,]"
   ]
  },
  {
   "cell_type": "code",
   "execution_count": 18,
   "id": "5d1d8344",
   "metadata": {},
   "outputs": [
    {
     "data": {
      "text/plain": [
       "243"
      ]
     },
     "execution_count": 18,
     "metadata": {},
     "output_type": "execute_result"
    }
   ],
   "source": [
    "max(l1)"
   ]
  },
  {
   "cell_type": "code",
   "execution_count": 19,
   "id": "c908f2eb",
   "metadata": {},
   "outputs": [
    {
     "data": {
      "text/plain": [
       "1"
      ]
     },
     "execution_count": 19,
     "metadata": {},
     "output_type": "execute_result"
    }
   ],
   "source": [
    "min(l1)"
   ]
  },
  {
   "cell_type": "code",
   "execution_count": 20,
   "id": "4bd95950",
   "metadata": {},
   "outputs": [],
   "source": [
    "l2=[\"divesh\",\"ineuron\",\"data scientist\"]"
   ]
  },
  {
   "cell_type": "code",
   "execution_count": 21,
   "id": "64edd7fc",
   "metadata": {},
   "outputs": [
    {
     "data": {
      "text/plain": [
       "'ineuron'"
      ]
     },
     "execution_count": 21,
     "metadata": {},
     "output_type": "execute_result"
    }
   ],
   "source": [
    "max(l2)"
   ]
  },
  {
   "cell_type": "code",
   "execution_count": 22,
   "id": "41ffaa9d",
   "metadata": {},
   "outputs": [
    {
     "data": {
      "text/plain": [
       "'data scientist'"
      ]
     },
     "execution_count": 22,
     "metadata": {},
     "output_type": "execute_result"
    }
   ],
   "source": [
    "min(l2)"
   ]
  },
  {
   "cell_type": "code",
   "execution_count": 23,
   "id": "d539f1f1",
   "metadata": {},
   "outputs": [],
   "source": [
    "l.append(\"Data Scientist\")"
   ]
  },
  {
   "cell_type": "code",
   "execution_count": 24,
   "id": "cb61dcd5",
   "metadata": {},
   "outputs": [
    {
     "data": {
      "text/plain": [
       "[1, 2, 3, 4, 5, 'divesh', 23, 23, True, 'Data Scientist']"
      ]
     },
     "execution_count": 24,
     "metadata": {},
     "output_type": "execute_result"
    }
   ],
   "source": [
    "l"
   ]
  },
  {
   "cell_type": "code",
   "execution_count": 25,
   "id": "18cbe2a2",
   "metadata": {},
   "outputs": [],
   "source": [
    "l.append('leading')"
   ]
  },
  {
   "cell_type": "code",
   "execution_count": 26,
   "id": "d31be582",
   "metadata": {},
   "outputs": [
    {
     "data": {
      "text/plain": [
       "[1, 2, 3, 4, 5, 'divesh', 23, 23, True, 'Data Scientist', 'leading']"
      ]
     },
     "execution_count": 26,
     "metadata": {},
     "output_type": "execute_result"
    }
   ],
   "source": [
    "l"
   ]
  },
  {
   "cell_type": "code",
   "execution_count": 27,
   "id": "88399755",
   "metadata": {},
   "outputs": [],
   "source": [
    "l.append([2,3,4,5])"
   ]
  },
  {
   "cell_type": "code",
   "execution_count": 28,
   "id": "e7860364",
   "metadata": {},
   "outputs": [
    {
     "data": {
      "text/plain": [
       "[1,\n",
       " 2,\n",
       " 3,\n",
       " 4,\n",
       " 5,\n",
       " 'divesh',\n",
       " 23,\n",
       " 23,\n",
       " True,\n",
       " 'Data Scientist',\n",
       " 'leading',\n",
       " [2, 3, 4, 5]]"
      ]
     },
     "execution_count": 28,
     "metadata": {},
     "output_type": "execute_result"
    }
   ],
   "source": [
    "l"
   ]
  },
  {
   "cell_type": "code",
   "execution_count": 29,
   "id": "4413a29d",
   "metadata": {},
   "outputs": [
    {
     "data": {
      "text/plain": [
       "[2, 3, 4, 5]"
      ]
     },
     "execution_count": 29,
     "metadata": {},
     "output_type": "execute_result"
    }
   ],
   "source": [
    "l.pop()"
   ]
  },
  {
   "cell_type": "code",
   "execution_count": 30,
   "id": "f6622651",
   "metadata": {},
   "outputs": [
    {
     "data": {
      "text/plain": [
       "[1, 2, 3, 4, 5, 'divesh', 23, 23, True, 'Data Scientist', 'leading']"
      ]
     },
     "execution_count": 30,
     "metadata": {},
     "output_type": "execute_result"
    }
   ],
   "source": [
    "l"
   ]
  },
  {
   "cell_type": "code",
   "execution_count": 31,
   "id": "0d711b8e",
   "metadata": {},
   "outputs": [
    {
     "data": {
      "text/plain": [
       "23"
      ]
     },
     "execution_count": 31,
     "metadata": {},
     "output_type": "execute_result"
    }
   ],
   "source": [
    "l.pop(6)"
   ]
  },
  {
   "cell_type": "code",
   "execution_count": 32,
   "id": "69f6841a",
   "metadata": {},
   "outputs": [
    {
     "data": {
      "text/plain": [
       "[1, 2, 3, 4, 5, 'divesh', 23, True, 'Data Scientist', 'leading']"
      ]
     },
     "execution_count": 32,
     "metadata": {},
     "output_type": "execute_result"
    }
   ],
   "source": [
    "l"
   ]
  },
  {
   "cell_type": "code",
   "execution_count": 33,
   "id": "b44323cb",
   "metadata": {},
   "outputs": [
    {
     "data": {
      "text/plain": [
       "23"
      ]
     },
     "execution_count": 33,
     "metadata": {},
     "output_type": "execute_result"
    }
   ],
   "source": [
    "l.pop(6)"
   ]
  },
  {
   "cell_type": "code",
   "execution_count": 34,
   "id": "0ff2cdc2",
   "metadata": {},
   "outputs": [
    {
     "data": {
      "text/plain": [
       "[1, 2, 3, 4, 5, 'divesh', True, 'Data Scientist', 'leading']"
      ]
     },
     "execution_count": 34,
     "metadata": {},
     "output_type": "execute_result"
    }
   ],
   "source": [
    "l"
   ]
  },
  {
   "cell_type": "code",
   "execution_count": 35,
   "id": "4ed6f72c",
   "metadata": {},
   "outputs": [],
   "source": [
    "l.reverse()"
   ]
  },
  {
   "cell_type": "code",
   "execution_count": 36,
   "id": "690b7277",
   "metadata": {},
   "outputs": [
    {
     "data": {
      "text/plain": [
       "['leading', 'Data Scientist', True, 'divesh', 5, 4, 3, 2, 1]"
      ]
     },
     "execution_count": 36,
     "metadata": {},
     "output_type": "execute_result"
    }
   ],
   "source": [
    "l"
   ]
  },
  {
   "cell_type": "code",
   "execution_count": 37,
   "id": "4c88be74",
   "metadata": {},
   "outputs": [
    {
     "data": {
      "text/plain": [
       "[1, 2, 3, 4, 5, 'divesh', True, 'Data Scientist', 'leading']"
      ]
     },
     "execution_count": 37,
     "metadata": {},
     "output_type": "execute_result"
    }
   ],
   "source": [
    "l[::-1]"
   ]
  },
  {
   "cell_type": "code",
   "execution_count": 38,
   "id": "c0b4c536",
   "metadata": {},
   "outputs": [],
   "source": [
    "l.reverse()"
   ]
  },
  {
   "cell_type": "code",
   "execution_count": 39,
   "id": "3aaf402c",
   "metadata": {},
   "outputs": [
    {
     "data": {
      "text/plain": [
       "[1, 2, 3, 4, 5, 'divesh', True, 'Data Scientist', 'leading']"
      ]
     },
     "execution_count": 39,
     "metadata": {},
     "output_type": "execute_result"
    }
   ],
   "source": [
    "l"
   ]
  },
  {
   "cell_type": "code",
   "execution_count": 40,
   "id": "6985bef3",
   "metadata": {},
   "outputs": [
    {
     "data": {
      "text/plain": [
       "[1, 2, 6, 3, 8, 9, 2, 5, 10, 14, 28, 34, 121, 223, 12, 34, 243, 131, 123]"
      ]
     },
     "execution_count": 40,
     "metadata": {},
     "output_type": "execute_result"
    }
   ],
   "source": [
    "l1"
   ]
  },
  {
   "cell_type": "code",
   "execution_count": 41,
   "id": "beae823a",
   "metadata": {},
   "outputs": [],
   "source": [
    "l1.sort()"
   ]
  },
  {
   "cell_type": "code",
   "execution_count": 42,
   "id": "02420a91",
   "metadata": {},
   "outputs": [
    {
     "data": {
      "text/plain": [
       "[1, 2, 2, 3, 5, 6, 8, 9, 10, 12, 14, 28, 34, 34, 121, 123, 131, 223, 243]"
      ]
     },
     "execution_count": 42,
     "metadata": {},
     "output_type": "execute_result"
    }
   ],
   "source": [
    "l1"
   ]
  },
  {
   "cell_type": "code",
   "execution_count": 43,
   "id": "bcebb1ff",
   "metadata": {},
   "outputs": [],
   "source": [
    "l1.sort(reverse= True)"
   ]
  },
  {
   "cell_type": "code",
   "execution_count": 44,
   "id": "a9ee8e1b",
   "metadata": {},
   "outputs": [
    {
     "data": {
      "text/plain": [
       "[243, 223, 131, 123, 121, 34, 34, 28, 14, 12, 10, 9, 8, 6, 5, 3, 2, 2, 1]"
      ]
     },
     "execution_count": 44,
     "metadata": {},
     "output_type": "execute_result"
    }
   ],
   "source": [
    "l1"
   ]
  },
  {
   "cell_type": "code",
   "execution_count": 45,
   "id": "29dfcb70",
   "metadata": {},
   "outputs": [],
   "source": [
    "l1\n",
    "l2\n",
    "l3=[0,9,8,7,6,5]"
   ]
  },
  {
   "cell_type": "code",
   "execution_count": 46,
   "id": "df15fddf",
   "metadata": {},
   "outputs": [],
   "source": [
    "l4=[l1,l2,l3]"
   ]
  },
  {
   "cell_type": "code",
   "execution_count": 47,
   "id": "c8062019",
   "metadata": {},
   "outputs": [
    {
     "data": {
      "text/plain": [
       "'data scientist'"
      ]
     },
     "execution_count": 47,
     "metadata": {},
     "output_type": "execute_result"
    }
   ],
   "source": [
    "l4[1][2]"
   ]
  },
  {
   "cell_type": "code",
   "execution_count": 48,
   "id": "f41a7a27",
   "metadata": {},
   "outputs": [
    {
     "data": {
      "text/plain": [
       "[1, 2, 3, 4, 5, 'divesh', True, 'Data Scientist', 'leading']"
      ]
     },
     "execution_count": 48,
     "metadata": {},
     "output_type": "execute_result"
    }
   ],
   "source": [
    "l"
   ]
  },
  {
   "cell_type": "code",
   "execution_count": 49,
   "id": "7c5ff52d",
   "metadata": {},
   "outputs": [
    {
     "data": {
      "text/plain": [
       "1"
      ]
     },
     "execution_count": 49,
     "metadata": {},
     "output_type": "execute_result"
    }
   ],
   "source": [
    "l.count(4)"
   ]
  },
  {
   "cell_type": "code",
   "execution_count": 50,
   "id": "070fd939",
   "metadata": {},
   "outputs": [],
   "source": [
    "l5=[1,2,3,4,5,6,7,8,9,0,9,8,7,6,5,6,4,3,2,1,3,4,5,6,7,89,9,8,7,67,6,56,5,54,4,4,4,4,5,6,7,7,8,8,7,6,55,4]"
   ]
  },
  {
   "cell_type": "code",
   "execution_count": 51,
   "id": "35654c1b",
   "metadata": {},
   "outputs": [
    {
     "data": {
      "text/plain": [
       "3"
      ]
     },
     "execution_count": 51,
     "metadata": {},
     "output_type": "execute_result"
    }
   ],
   "source": [
    "l5.count(9)"
   ]
  },
  {
   "cell_type": "code",
   "execution_count": 52,
   "id": "acac6cc4",
   "metadata": {},
   "outputs": [
    {
     "data": {
      "text/plain": [
       "5"
      ]
     },
     "execution_count": 52,
     "metadata": {},
     "output_type": "execute_result"
    }
   ],
   "source": [
    "l5.count(8)"
   ]
  },
  {
   "cell_type": "code",
   "execution_count": 53,
   "id": "4f922edb",
   "metadata": {},
   "outputs": [
    {
     "data": {
      "text/plain": [
       "5"
      ]
     },
     "execution_count": 53,
     "metadata": {},
     "output_type": "execute_result"
    }
   ],
   "source": [
    "l5.count(5)"
   ]
  },
  {
   "cell_type": "code",
   "execution_count": 54,
   "id": "a0940d30",
   "metadata": {},
   "outputs": [
    {
     "data": {
      "text/plain": [
       "9"
      ]
     },
     "execution_count": 54,
     "metadata": {},
     "output_type": "execute_result"
    }
   ],
   "source": [
    "l4[2][1]"
   ]
  },
  {
   "cell_type": "code",
   "execution_count": 55,
   "id": "561b0bab",
   "metadata": {},
   "outputs": [
    {
     "data": {
      "text/plain": [
       "'divesh'"
      ]
     },
     "execution_count": 55,
     "metadata": {},
     "output_type": "execute_result"
    }
   ],
   "source": [
    "l4[1][0]"
   ]
  },
  {
   "cell_type": "code",
   "execution_count": 56,
   "id": "2c69d19f",
   "metadata": {},
   "outputs": [
    {
     "data": {
      "text/plain": [
       "1"
      ]
     },
     "execution_count": 56,
     "metadata": {},
     "output_type": "execute_result"
    }
   ],
   "source": [
    "l4.count(['divesh', 'ineuron', 'data scientist'])"
   ]
  },
  {
   "cell_type": "code",
   "execution_count": 57,
   "id": "0227b98a",
   "metadata": {},
   "outputs": [
    {
     "data": {
      "text/plain": [
       "[[243, 223, 131, 123, 121, 34, 34, 28, 14, 12, 10, 9, 8, 6, 5, 3, 2, 2, 1],\n",
       " ['divesh', 'ineuron', 'data scientist'],\n",
       " [0, 9, 8, 7, 6, 5]]"
      ]
     },
     "execution_count": 57,
     "metadata": {},
     "output_type": "execute_result"
    }
   ],
   "source": [
    "l4"
   ]
  },
  {
   "cell_type": "code",
   "execution_count": 58,
   "id": "92cd37d5",
   "metadata": {},
   "outputs": [],
   "source": [
    "l4.append(\"director\")"
   ]
  },
  {
   "cell_type": "code",
   "execution_count": 59,
   "id": "7ab88172",
   "metadata": {},
   "outputs": [
    {
     "data": {
      "text/plain": [
       "[[243, 223, 131, 123, 121, 34, 34, 28, 14, 12, 10, 9, 8, 6, 5, 3, 2, 2, 1],\n",
       " ['divesh', 'ineuron', 'data scientist'],\n",
       " [0, 9, 8, 7, 6, 5],\n",
       " 'director']"
      ]
     },
     "execution_count": 59,
     "metadata": {},
     "output_type": "execute_result"
    }
   ],
   "source": [
    "l4"
   ]
  },
  {
   "cell_type": "code",
   "execution_count": 60,
   "id": "99a5e10b",
   "metadata": {},
   "outputs": [],
   "source": [
    "l4.append([999,'salary'])"
   ]
  },
  {
   "cell_type": "code",
   "execution_count": 61,
   "id": "cbd817da",
   "metadata": {},
   "outputs": [
    {
     "data": {
      "text/plain": [
       "[[243, 223, 131, 123, 121, 34, 34, 28, 14, 12, 10, 9, 8, 6, 5, 3, 2, 2, 1],\n",
       " ['divesh', 'ineuron', 'data scientist'],\n",
       " [0, 9, 8, 7, 6, 5],\n",
       " 'director',\n",
       " [999, 'salary']]"
      ]
     },
     "execution_count": 61,
     "metadata": {},
     "output_type": "execute_result"
    }
   ],
   "source": [
    "l4"
   ]
  },
  {
   "cell_type": "code",
   "execution_count": 62,
   "id": "3b48188d",
   "metadata": {},
   "outputs": [],
   "source": [
    "l4.extend('done')"
   ]
  },
  {
   "cell_type": "code",
   "execution_count": 63,
   "id": "235f9d52",
   "metadata": {},
   "outputs": [
    {
     "data": {
      "text/plain": [
       "[[243, 223, 131, 123, 121, 34, 34, 28, 14, 12, 10, 9, 8, 6, 5, 3, 2, 2, 1],\n",
       " ['divesh', 'ineuron', 'data scientist'],\n",
       " [0, 9, 8, 7, 6, 5],\n",
       " 'director',\n",
       " [999, 'salary'],\n",
       " 'd',\n",
       " 'o',\n",
       " 'n',\n",
       " 'e']"
      ]
     },
     "execution_count": 63,
     "metadata": {},
     "output_type": "execute_result"
    }
   ],
   "source": [
    "l4"
   ]
  },
  {
   "cell_type": "code",
   "execution_count": 64,
   "id": "f56e0144",
   "metadata": {},
   "outputs": [],
   "source": [
    "l6=[1,2,3]"
   ]
  },
  {
   "cell_type": "code",
   "execution_count": 65,
   "id": "66d4e6ba",
   "metadata": {},
   "outputs": [],
   "source": [
    "l6.append([4,5,6])"
   ]
  },
  {
   "cell_type": "code",
   "execution_count": 66,
   "id": "5e92c419",
   "metadata": {},
   "outputs": [
    {
     "data": {
      "text/plain": [
       "[1, 2, 3, [4, 5, 6]]"
      ]
     },
     "execution_count": 66,
     "metadata": {},
     "output_type": "execute_result"
    }
   ],
   "source": [
    "l6"
   ]
  },
  {
   "cell_type": "code",
   "execution_count": 67,
   "id": "4d8d3a17",
   "metadata": {},
   "outputs": [],
   "source": [
    "l6.append('divesh')"
   ]
  },
  {
   "cell_type": "code",
   "execution_count": 68,
   "id": "855ed700",
   "metadata": {},
   "outputs": [
    {
     "data": {
      "text/plain": [
       "[1, 2, 3, [4, 5, 6], 'divesh']"
      ]
     },
     "execution_count": 68,
     "metadata": {},
     "output_type": "execute_result"
    }
   ],
   "source": [
    "l6"
   ]
  },
  {
   "cell_type": "code",
   "execution_count": 69,
   "id": "2aaa7555",
   "metadata": {},
   "outputs": [],
   "source": [
    "l6.extend(['divesh'])"
   ]
  },
  {
   "cell_type": "code",
   "execution_count": 70,
   "id": "c5ec3310",
   "metadata": {},
   "outputs": [
    {
     "data": {
      "text/plain": [
       "[1, 2, 3, [4, 5, 6], 'divesh', 'divesh']"
      ]
     },
     "execution_count": 70,
     "metadata": {},
     "output_type": "execute_result"
    }
   ],
   "source": [
    "l6"
   ]
  },
  {
   "cell_type": "code",
   "execution_count": 71,
   "id": "03f5f505",
   "metadata": {},
   "outputs": [],
   "source": [
    "l6.extend([[6,7]])"
   ]
  },
  {
   "cell_type": "code",
   "execution_count": 72,
   "id": "ff7c36fe",
   "metadata": {},
   "outputs": [
    {
     "data": {
      "text/plain": [
       "[1, 2, 3, [4, 5, 6], 'divesh', 'divesh', [6, 7]]"
      ]
     },
     "execution_count": 72,
     "metadata": {},
     "output_type": "execute_result"
    }
   ],
   "source": [
    "l6"
   ]
  },
  {
   "cell_type": "code",
   "execution_count": 73,
   "id": "fa7a4caf",
   "metadata": {},
   "outputs": [],
   "source": [
    "l6.extend(\"scientist\")"
   ]
  },
  {
   "cell_type": "code",
   "execution_count": 74,
   "id": "ce52f325",
   "metadata": {},
   "outputs": [
    {
     "data": {
      "text/plain": [
       "[1,\n",
       " 2,\n",
       " 3,\n",
       " [4, 5, 6],\n",
       " 'divesh',\n",
       " 'divesh',\n",
       " [6, 7],\n",
       " 's',\n",
       " 'c',\n",
       " 'i',\n",
       " 'e',\n",
       " 'n',\n",
       " 't',\n",
       " 'i',\n",
       " 's',\n",
       " 't']"
      ]
     },
     "execution_count": 74,
     "metadata": {},
     "output_type": "execute_result"
    }
   ],
   "source": [
    "l6"
   ]
  },
  {
   "cell_type": "code",
   "execution_count": 75,
   "id": "0aab1155",
   "metadata": {},
   "outputs": [
    {
     "data": {
      "text/plain": [
       "0"
      ]
     },
     "execution_count": 75,
     "metadata": {},
     "output_type": "execute_result"
    }
   ],
   "source": [
    "l6.index(1)"
   ]
  },
  {
   "cell_type": "code",
   "execution_count": 76,
   "id": "4dff7b19",
   "metadata": {},
   "outputs": [
    {
     "data": {
      "text/plain": [
       "3"
      ]
     },
     "execution_count": 76,
     "metadata": {},
     "output_type": "execute_result"
    }
   ],
   "source": [
    "l6.index([4,5,6])"
   ]
  },
  {
   "cell_type": "code",
   "execution_count": 77,
   "id": "99e06c87",
   "metadata": {},
   "outputs": [],
   "source": [
    "l7=[1,2,3,4,5,6,7,6,7]"
   ]
  },
  {
   "cell_type": "code",
   "execution_count": 78,
   "id": "45ba46af",
   "metadata": {},
   "outputs": [
    {
     "data": {
      "text/plain": [
       "5"
      ]
     },
     "execution_count": 78,
     "metadata": {},
     "output_type": "execute_result"
    }
   ],
   "source": [
    "l7.index(6)"
   ]
  },
  {
   "cell_type": "code",
   "execution_count": 79,
   "id": "4d08ba6e",
   "metadata": {},
   "outputs": [
    {
     "data": {
      "text/plain": [
       "[1, 2, 3, 4, 5, 'divesh', True, 'Data Scientist', 'leading']"
      ]
     },
     "execution_count": 79,
     "metadata": {},
     "output_type": "execute_result"
    }
   ],
   "source": [
    " l"
   ]
  },
  {
   "cell_type": "code",
   "execution_count": 80,
   "id": "3e39a063",
   "metadata": {},
   "outputs": [],
   "source": [
    "l.insert(5,'i am')"
   ]
  },
  {
   "cell_type": "code",
   "execution_count": 81,
   "id": "484eb0b3",
   "metadata": {},
   "outputs": [
    {
     "data": {
      "text/plain": [
       "[1, 2, 3, 4, 5, 'i am', 'divesh', True, 'Data Scientist', 'leading']"
      ]
     },
     "execution_count": 81,
     "metadata": {},
     "output_type": "execute_result"
    }
   ],
   "source": [
    "l"
   ]
  },
  {
   "cell_type": "code",
   "execution_count": 82,
   "id": "f7645310",
   "metadata": {},
   "outputs": [],
   "source": [
    "l.insert(7,'want to become')"
   ]
  },
  {
   "cell_type": "code",
   "execution_count": 83,
   "id": "1cafa168",
   "metadata": {},
   "outputs": [
    {
     "data": {
      "text/plain": [
       "[1,\n",
       " 2,\n",
       " 3,\n",
       " 4,\n",
       " 5,\n",
       " 'i am',\n",
       " 'divesh',\n",
       " 'want to become',\n",
       " True,\n",
       " 'Data Scientist',\n",
       " 'leading']"
      ]
     },
     "execution_count": 83,
     "metadata": {},
     "output_type": "execute_result"
    }
   ],
   "source": [
    "l"
   ]
  },
  {
   "cell_type": "code",
   "execution_count": 84,
   "id": "6d448d77",
   "metadata": {},
   "outputs": [
    {
     "data": {
      "text/plain": [
       "[1,\n",
       " 2,\n",
       " 3,\n",
       " 4,\n",
       " 5,\n",
       " 'i am',\n",
       " 'divesh',\n",
       " 'want to become',\n",
       " True,\n",
       " 'Data Scientist',\n",
       " 'leading']"
      ]
     },
     "execution_count": 84,
     "metadata": {},
     "output_type": "execute_result"
    }
   ],
   "source": [
    "l"
   ]
  },
  {
   "cell_type": "code",
   "execution_count": 85,
   "id": "039c4e1a",
   "metadata": {},
   "outputs": [
    {
     "data": {
      "text/plain": [
       "'leading'"
      ]
     },
     "execution_count": 85,
     "metadata": {},
     "output_type": "execute_result"
    }
   ],
   "source": [
    "l.pop()"
   ]
  },
  {
   "cell_type": "code",
   "execution_count": 86,
   "id": "53aefc02",
   "metadata": {},
   "outputs": [
    {
     "data": {
      "text/plain": [
       "[1, 2, 3, 4, 5, 'i am', 'divesh', 'want to become', True, 'Data Scientist']"
      ]
     },
     "execution_count": 86,
     "metadata": {},
     "output_type": "execute_result"
    }
   ],
   "source": [
    "l"
   ]
  },
  {
   "cell_type": "code",
   "execution_count": 87,
   "id": "c96e4dac",
   "metadata": {},
   "outputs": [
    {
     "data": {
      "text/plain": [
       "True"
      ]
     },
     "execution_count": 87,
     "metadata": {},
     "output_type": "execute_result"
    }
   ],
   "source": [
    "l.pop(8)"
   ]
  },
  {
   "cell_type": "code",
   "execution_count": 88,
   "id": "580edbb8",
   "metadata": {},
   "outputs": [
    {
     "data": {
      "text/plain": [
       "[1, 2, 3, 4, 5, 'i am', 'divesh', 'want to become', 'Data Scientist']"
      ]
     },
     "execution_count": 88,
     "metadata": {},
     "output_type": "execute_result"
    }
   ],
   "source": [
    "l"
   ]
  },
  {
   "cell_type": "code",
   "execution_count": 89,
   "id": "6995f4aa",
   "metadata": {},
   "outputs": [],
   "source": [
    "l.remove('i am')"
   ]
  },
  {
   "cell_type": "code",
   "execution_count": 90,
   "id": "48d6d8b9",
   "metadata": {},
   "outputs": [
    {
     "data": {
      "text/plain": [
       "[1, 2, 3, 4, 5, 'divesh', 'want to become', 'Data Scientist']"
      ]
     },
     "execution_count": 90,
     "metadata": {},
     "output_type": "execute_result"
    }
   ],
   "source": [
    "l"
   ]
  },
  {
   "cell_type": "code",
   "execution_count": 91,
   "id": "efeb2dc2",
   "metadata": {},
   "outputs": [],
   "source": [
    "l.remove(3)"
   ]
  },
  {
   "cell_type": "code",
   "execution_count": 92,
   "id": "0ded2e14",
   "metadata": {},
   "outputs": [
    {
     "data": {
      "text/plain": [
       "[1, 2, 4, 5, 'divesh', 'want to become', 'Data Scientist']"
      ]
     },
     "execution_count": 92,
     "metadata": {},
     "output_type": "execute_result"
    }
   ],
   "source": [
    "l"
   ]
  },
  {
   "cell_type": "code",
   "execution_count": 93,
   "id": "8a6efe3a",
   "metadata": {},
   "outputs": [],
   "source": [
    "l[5]='Succesfull'"
   ]
  },
  {
   "cell_type": "code",
   "execution_count": 94,
   "id": "ce2a8bdf",
   "metadata": {},
   "outputs": [
    {
     "data": {
      "text/plain": [
       "[1, 2, 4, 5, 'divesh', 'Succesfull', 'Data Scientist']"
      ]
     },
     "execution_count": 94,
     "metadata": {},
     "output_type": "execute_result"
    }
   ],
   "source": [
    "l"
   ]
  },
  {
   "cell_type": "code",
   "execution_count": 95,
   "id": "87dca8d9",
   "metadata": {},
   "outputs": [],
   "source": [
    "l[3]='Divesh'"
   ]
  },
  {
   "cell_type": "code",
   "execution_count": 96,
   "id": "9195084e",
   "metadata": {},
   "outputs": [
    {
     "data": {
      "text/plain": [
       "[1, 2, 4, 'Divesh', 'divesh', 'Succesfull', 'Data Scientist']"
      ]
     },
     "execution_count": 96,
     "metadata": {},
     "output_type": "execute_result"
    }
   ],
   "source": [
    "l"
   ]
  },
  {
   "cell_type": "code",
   "execution_count": 97,
   "id": "36e1f269",
   "metadata": {},
   "outputs": [],
   "source": [
    "l.insert(6,'person')"
   ]
  },
  {
   "cell_type": "code",
   "execution_count": 98,
   "id": "232e536f",
   "metadata": {},
   "outputs": [
    {
     "data": {
      "text/plain": [
       "[1, 2, 4, 'Divesh', 'divesh', 'Succesfull', 'person', 'Data Scientist']"
      ]
     },
     "execution_count": 98,
     "metadata": {},
     "output_type": "execute_result"
    }
   ],
   "source": [
    "l"
   ]
  },
  {
   "cell_type": "code",
   "execution_count": 99,
   "id": "44f41a0e",
   "metadata": {},
   "outputs": [
    {
     "data": {
      "text/plain": [
       "'Succesfull'"
      ]
     },
     "execution_count": 99,
     "metadata": {},
     "output_type": "execute_result"
    }
   ],
   "source": [
    "l[5]"
   ]
  },
  {
   "cell_type": "code",
   "execution_count": 100,
   "id": "478d3aef",
   "metadata": {},
   "outputs": [],
   "source": [
    "l[5]='data science'"
   ]
  },
  {
   "cell_type": "code",
   "execution_count": 101,
   "id": "243429fd",
   "metadata": {},
   "outputs": [
    {
     "data": {
      "text/plain": [
       "[1, 2, 4, 'Divesh', 'divesh', 'data science', 'person', 'Data Scientist']"
      ]
     },
     "execution_count": 101,
     "metadata": {},
     "output_type": "execute_result"
    }
   ],
   "source": [
    "l"
   ]
  },
  {
   "cell_type": "code",
   "execution_count": 102,
   "id": "807c5396",
   "metadata": {},
   "outputs": [],
   "source": [
    "kk=\"divesh is an data scientist\""
   ]
  },
  {
   "cell_type": "code",
   "execution_count": 103,
   "id": "ecaf8aa3",
   "metadata": {},
   "outputs": [
    {
     "data": {
      "text/plain": [
       "'divesh'"
      ]
     },
     "execution_count": 103,
     "metadata": {},
     "output_type": "execute_result"
    }
   ],
   "source": [
    "kk[0:6]"
   ]
  },
  {
   "cell_type": "code",
   "execution_count": 104,
   "id": "f40a0e8f",
   "metadata": {},
   "outputs": [
    {
     "ename": "TypeError",
     "evalue": "'str' object does not support item assignment",
     "output_type": "error",
     "traceback": [
      "\u001b[1;31m---------------------------------------------------------------------------\u001b[0m",
      "\u001b[1;31mTypeError\u001b[0m                                 Traceback (most recent call last)",
      "\u001b[1;32m~\\AppData\\Local\\Temp/ipykernel_20792/3128389892.py\u001b[0m in \u001b[0;36m<module>\u001b[1;34m\u001b[0m\n\u001b[1;32m----> 1\u001b[1;33m \u001b[0mkk\u001b[0m\u001b[1;33m[\u001b[0m\u001b[1;36m0\u001b[0m\u001b[1;33m:\u001b[0m\u001b[1;36m6\u001b[0m\u001b[1;33m]\u001b[0m\u001b[1;33m=\u001b[0m\u001b[1;34m'abc'\u001b[0m\u001b[1;33m\u001b[0m\u001b[1;33m\u001b[0m\u001b[0m\n\u001b[0m",
      "\u001b[1;31mTypeError\u001b[0m: 'str' object does not support item assignment"
     ]
    }
   ],
   "source": [
    "kk[0:6]='abc'"
   ]
  },
  {
   "cell_type": "markdown",
   "id": "658e0e26",
   "metadata": {},
   "source": [
    "BREAK TILL 4:21 PM IST"
   ]
  },
  {
   "cell_type": "code",
   "execution_count": 105,
   "id": "ad3ecbb2",
   "metadata": {},
   "outputs": [],
   "source": [
    "T=(\"DIVESH\", 'rRRRR', 12222234, False,'leader')"
   ]
  },
  {
   "cell_type": "code",
   "execution_count": 106,
   "id": "300680e9",
   "metadata": {},
   "outputs": [
    {
     "data": {
      "text/plain": [
       "tuple"
      ]
     },
     "execution_count": 106,
     "metadata": {},
     "output_type": "execute_result"
    }
   ],
   "source": [
    "type(T)"
   ]
  },
  {
   "cell_type": "code",
   "execution_count": 107,
   "id": "d86f2111",
   "metadata": {},
   "outputs": [
    {
     "data": {
      "text/plain": [
       "'DIVESH'"
      ]
     },
     "execution_count": 107,
     "metadata": {},
     "output_type": "execute_result"
    }
   ],
   "source": [
    "T[0]"
   ]
  },
  {
   "cell_type": "code",
   "execution_count": 108,
   "id": "fb3e2e04",
   "metadata": {},
   "outputs": [
    {
     "data": {
      "text/plain": [
       "('DIVESH', False)"
      ]
     },
     "execution_count": 108,
     "metadata": {},
     "output_type": "execute_result"
    }
   ],
   "source": [
    "T[0:4:3]"
   ]
  },
  {
   "cell_type": "code",
   "execution_count": 109,
   "id": "a5f476f2",
   "metadata": {},
   "outputs": [
    {
     "data": {
      "text/plain": [
       "(False, 'leader')"
      ]
     },
     "execution_count": 109,
     "metadata": {},
     "output_type": "execute_result"
    }
   ],
   "source": [
    "T[3:]"
   ]
  },
  {
   "cell_type": "code",
   "execution_count": 110,
   "id": "367589e0",
   "metadata": {},
   "outputs": [
    {
     "data": {
      "text/plain": [
       "('leader', False, 12222234, 'rRRRR', 'DIVESH')"
      ]
     },
     "execution_count": 110,
     "metadata": {},
     "output_type": "execute_result"
    }
   ],
   "source": [
    "T[::-1]"
   ]
  },
  {
   "cell_type": "code",
   "execution_count": 111,
   "id": "6f227274",
   "metadata": {},
   "outputs": [
    {
     "data": {
      "text/plain": [
       "('leader', 'DIVESH')"
      ]
     },
     "execution_count": 111,
     "metadata": {},
     "output_type": "execute_result"
    }
   ],
   "source": [
    "T[::-4]"
   ]
  },
  {
   "cell_type": "code",
   "execution_count": 112,
   "id": "ea194eef",
   "metadata": {},
   "outputs": [
    {
     "data": {
      "text/plain": [
       "(False, 'DIVESH')"
      ]
     },
     "execution_count": 112,
     "metadata": {},
     "output_type": "execute_result"
    }
   ],
   "source": [
    "T[-2::-3]"
   ]
  },
  {
   "cell_type": "code",
   "execution_count": 113,
   "id": "3b4b63b6",
   "metadata": {},
   "outputs": [
    {
     "data": {
      "text/plain": [
       "(False, 'rRRRR')"
      ]
     },
     "execution_count": 113,
     "metadata": {},
     "output_type": "execute_result"
    }
   ],
   "source": [
    "T[-2:-5:-2]"
   ]
  },
  {
   "cell_type": "code",
   "execution_count": 114,
   "id": "c8cd4608",
   "metadata": {},
   "outputs": [
    {
     "data": {
      "text/plain": [
       "[1, 2, 4, 'Divesh', 'divesh', 'data science', 'person', 'Data Scientist']"
      ]
     },
     "execution_count": 114,
     "metadata": {},
     "output_type": "execute_result"
    }
   ],
   "source": [
    "l"
   ]
  },
  {
   "cell_type": "code",
   "execution_count": 115,
   "id": "1dd363f6",
   "metadata": {},
   "outputs": [],
   "source": [
    "l[5]='Data Scientist'"
   ]
  },
  {
   "cell_type": "code",
   "execution_count": 116,
   "id": "6486ccd2",
   "metadata": {},
   "outputs": [
    {
     "data": {
      "text/plain": [
       "[1, 2, 4, 'Divesh', 'divesh', 'Data Scientist', 'person', 'Data Scientist']"
      ]
     },
     "execution_count": 116,
     "metadata": {},
     "output_type": "execute_result"
    }
   ],
   "source": [
    "l"
   ]
  },
  {
   "cell_type": "code",
   "execution_count": 117,
   "id": "9ac8357e",
   "metadata": {},
   "outputs": [
    {
     "data": {
      "text/plain": [
       "('DIVESH', 'rRRRR', 12222234, False, 'leader')"
      ]
     },
     "execution_count": 117,
     "metadata": {},
     "output_type": "execute_result"
    }
   ],
   "source": [
    "T"
   ]
  },
  {
   "cell_type": "code",
   "execution_count": 118,
   "id": "5fece5be",
   "metadata": {},
   "outputs": [
    {
     "ename": "TypeError",
     "evalue": "'tuple' object does not support item assignment",
     "output_type": "error",
     "traceback": [
      "\u001b[1;31m---------------------------------------------------------------------------\u001b[0m",
      "\u001b[1;31mTypeError\u001b[0m                                 Traceback (most recent call last)",
      "\u001b[1;32m~\\AppData\\Local\\Temp/ipykernel_20792/1915784305.py\u001b[0m in \u001b[0;36m<module>\u001b[1;34m\u001b[0m\n\u001b[1;32m----> 1\u001b[1;33m \u001b[0mT\u001b[0m\u001b[1;33m[\u001b[0m\u001b[1;36m2\u001b[0m\u001b[1;33m]\u001b[0m\u001b[1;33m=\u001b[0m\u001b[1;34m'True'\u001b[0m\u001b[1;33m\u001b[0m\u001b[1;33m\u001b[0m\u001b[0m\n\u001b[0m",
      "\u001b[1;31mTypeError\u001b[0m: 'tuple' object does not support item assignment"
     ]
    }
   ],
   "source": [
    "T[2]='True'"
   ]
  },
  {
   "cell_type": "code",
   "execution_count": 119,
   "id": "1f50f512",
   "metadata": {},
   "outputs": [],
   "source": [
    "t=(1,2,3,4,5,6,7,8,\"leader\")"
   ]
  },
  {
   "cell_type": "code",
   "execution_count": 120,
   "id": "0a768fc0",
   "metadata": {},
   "outputs": [
    {
     "data": {
      "text/plain": [
       "('DIVESH', 'rRRRR', 12222234, False, 'leader')"
      ]
     },
     "execution_count": 120,
     "metadata": {},
     "output_type": "execute_result"
    }
   ],
   "source": [
    "T"
   ]
  },
  {
   "cell_type": "code",
   "execution_count": 121,
   "id": "79ec31e4",
   "metadata": {},
   "outputs": [],
   "source": [
    "Tt=T+t"
   ]
  },
  {
   "cell_type": "code",
   "execution_count": 122,
   "id": "96957b92",
   "metadata": {},
   "outputs": [
    {
     "data": {
      "text/plain": [
       "('DIVESH',\n",
       " 'rRRRR',\n",
       " 12222234,\n",
       " False,\n",
       " 'leader',\n",
       " 1,\n",
       " 2,\n",
       " 3,\n",
       " 4,\n",
       " 5,\n",
       " 6,\n",
       " 7,\n",
       " 8,\n",
       " 'leader')"
      ]
     },
     "execution_count": 122,
     "metadata": {},
     "output_type": "execute_result"
    }
   ],
   "source": [
    "Tt"
   ]
  },
  {
   "cell_type": "code",
   "execution_count": 123,
   "id": "bf4e659f",
   "metadata": {},
   "outputs": [
    {
     "data": {
      "text/plain": [
       "2"
      ]
     },
     "execution_count": 123,
     "metadata": {},
     "output_type": "execute_result"
    }
   ],
   "source": [
    "Tt.count('leader')"
   ]
  },
  {
   "cell_type": "code",
   "execution_count": 124,
   "id": "0116fe36",
   "metadata": {},
   "outputs": [
    {
     "data": {
      "text/plain": [
       "1"
      ]
     },
     "execution_count": 124,
     "metadata": {},
     "output_type": "execute_result"
    }
   ],
   "source": [
    "Tt.count(5)"
   ]
  },
  {
   "cell_type": "code",
   "execution_count": 125,
   "id": "5826c427",
   "metadata": {},
   "outputs": [
    {
     "data": {
      "text/plain": [
       "9"
      ]
     },
     "execution_count": 125,
     "metadata": {},
     "output_type": "execute_result"
    }
   ],
   "source": [
    "Tt.index(5)"
   ]
  },
  {
   "cell_type": "code",
   "execution_count": 126,
   "id": "3561c80c",
   "metadata": {},
   "outputs": [
    {
     "data": {
      "text/plain": [
       "4"
      ]
     },
     "execution_count": 126,
     "metadata": {},
     "output_type": "execute_result"
    }
   ],
   "source": [
    "Tt.index('leader')"
   ]
  },
  {
   "cell_type": "code",
   "execution_count": 127,
   "id": "3d2775d4",
   "metadata": {},
   "outputs": [
    {
     "data": {
      "text/plain": [
       "['DIVESH', 'rRRRR', 12222234, False, 'leader']"
      ]
     },
     "execution_count": 127,
     "metadata": {},
     "output_type": "execute_result"
    }
   ],
   "source": [
    "list(T)"
   ]
  },
  {
   "cell_type": "code",
   "execution_count": 128,
   "id": "fedbc89f",
   "metadata": {},
   "outputs": [
    {
     "data": {
      "text/plain": [
       "[1, 2, 3, 4, 5, 6, 7, 8, 'leader']"
      ]
     },
     "execution_count": 128,
     "metadata": {},
     "output_type": "execute_result"
    }
   ],
   "source": [
    "list(t)"
   ]
  },
  {
   "cell_type": "code",
   "execution_count": 129,
   "id": "66825221",
   "metadata": {},
   "outputs": [
    {
     "data": {
      "text/plain": [
       "('DIVESH', 'rRRRR', 12222234, False, 'leader')"
      ]
     },
     "execution_count": 129,
     "metadata": {},
     "output_type": "execute_result"
    }
   ],
   "source": [
    "tuple(T)"
   ]
  },
  {
   "cell_type": "code",
   "execution_count": 130,
   "id": "ec09b4a7",
   "metadata": {},
   "outputs": [
    {
     "data": {
      "text/plain": [
       "(1, 2, 3, 4, 5, 6, 7, 8, 'leader')"
      ]
     },
     "execution_count": 130,
     "metadata": {},
     "output_type": "execute_result"
    }
   ],
   "source": [
    "tuple(t)"
   ]
  },
  {
   "cell_type": "code",
   "execution_count": 131,
   "id": "8a46a562",
   "metadata": {},
   "outputs": [
    {
     "data": {
      "text/plain": [
       "['DIVESH', 'rRRRR', 12222234, False, 'leader']"
      ]
     },
     "execution_count": 131,
     "metadata": {},
     "output_type": "execute_result"
    }
   ],
   "source": [
    "list(T)"
   ]
  },
  {
   "cell_type": "code",
   "execution_count": 132,
   "id": "e9d093d9",
   "metadata": {},
   "outputs": [
    {
     "data": {
      "text/plain": [
       "\"('DIVESH', 'rRRRR', 12222234, False, 'leader')\""
      ]
     },
     "execution_count": 132,
     "metadata": {},
     "output_type": "execute_result"
    }
   ],
   "source": [
    "str(T)"
   ]
  },
  {
   "cell_type": "code",
   "execution_count": 133,
   "id": "662ab510",
   "metadata": {},
   "outputs": [],
   "source": [
    "d={}"
   ]
  },
  {
   "cell_type": "code",
   "execution_count": 134,
   "id": "fea1a801",
   "metadata": {},
   "outputs": [
    {
     "data": {
      "text/plain": [
       "dict"
      ]
     },
     "execution_count": 134,
     "metadata": {},
     "output_type": "execute_result"
    }
   ],
   "source": [
    "type(d)"
   ]
  },
  {
   "cell_type": "code",
   "execution_count": 135,
   "id": "defaaa70",
   "metadata": {},
   "outputs": [],
   "source": [
    "e={1}"
   ]
  },
  {
   "cell_type": "code",
   "execution_count": 136,
   "id": "4e29fd03",
   "metadata": {},
   "outputs": [
    {
     "data": {
      "text/plain": [
       "set"
      ]
     },
     "execution_count": 136,
     "metadata": {},
     "output_type": "execute_result"
    }
   ],
   "source": [
    "type(e)"
   ]
  },
  {
   "cell_type": "code",
   "execution_count": 137,
   "id": "546ec7ae",
   "metadata": {},
   "outputs": [],
   "source": [
    "D={'Divesh':'Data Scientist','Babu':'Cricketer','Dream':'1234'}"
   ]
  },
  {
   "cell_type": "code",
   "execution_count": 138,
   "id": "175f39c8",
   "metadata": {},
   "outputs": [
    {
     "data": {
      "text/plain": [
       "dict"
      ]
     },
     "execution_count": 138,
     "metadata": {},
     "output_type": "execute_result"
    }
   ],
   "source": [
    "type(D)"
   ]
  },
  {
   "cell_type": "code",
   "execution_count": 139,
   "id": "669c1c88",
   "metadata": {},
   "outputs": [],
   "source": [
    "D1={'Divesh','Data Scientist','Babu','Cricketer','Dream','Merchant Navy'}"
   ]
  },
  {
   "cell_type": "code",
   "execution_count": 140,
   "id": "c09d8c1e",
   "metadata": {},
   "outputs": [
    {
     "data": {
      "text/plain": [
       "set"
      ]
     },
     "execution_count": 140,
     "metadata": {},
     "output_type": "execute_result"
    }
   ],
   "source": [
    "type(D1)"
   ]
  },
  {
   "cell_type": "code",
   "execution_count": 141,
   "id": "26059504",
   "metadata": {},
   "outputs": [
    {
     "data": {
      "text/plain": [
       "'Cricketer'"
      ]
     },
     "execution_count": 141,
     "metadata": {},
     "output_type": "execute_result"
    }
   ],
   "source": [
    "D['Babu']"
   ]
  },
  {
   "cell_type": "code",
   "execution_count": 142,
   "id": "694a982a",
   "metadata": {},
   "outputs": [
    {
     "data": {
      "text/plain": [
       "'Data Scientist'"
      ]
     },
     "execution_count": 142,
     "metadata": {},
     "output_type": "execute_result"
    }
   ],
   "source": [
    "D['Divesh']"
   ]
  },
  {
   "cell_type": "code",
   "execution_count": 143,
   "id": "221a5d12",
   "metadata": {},
   "outputs": [],
   "source": [
    "D1={'Divesh':'Data Scientist','Babu':'Cricketer','Dream':['Merchant Navy','Indian Railway','Data Scientist']}"
   ]
  },
  {
   "cell_type": "code",
   "execution_count": 144,
   "id": "5318a827",
   "metadata": {},
   "outputs": [
    {
     "data": {
      "text/plain": [
       "['Merchant Navy', 'Indian Railway', 'Data Scientist']"
      ]
     },
     "execution_count": 144,
     "metadata": {},
     "output_type": "execute_result"
    }
   ],
   "source": [
    "D1['Dream']"
   ]
  },
  {
   "cell_type": "markdown",
   "id": "19fade0a",
   "metadata": {},
   "source": [
    "Note : Key in the dictionary should be unique"
   ]
  },
  {
   "cell_type": "code",
   "execution_count": 145,
   "id": "81309627",
   "metadata": {},
   "outputs": [],
   "source": [
    "D1['love']=\"family\""
   ]
  },
  {
   "cell_type": "code",
   "execution_count": 146,
   "id": "19770c7c",
   "metadata": {},
   "outputs": [
    {
     "data": {
      "text/plain": [
       "{'Divesh': 'Data Scientist',\n",
       " 'Babu': 'Cricketer',\n",
       " 'Dream': ['Merchant Navy', 'Indian Railway', 'Data Scientist'],\n",
       " 'love': 'family'}"
      ]
     },
     "execution_count": 146,
     "metadata": {},
     "output_type": "execute_result"
    }
   ],
   "source": [
    "D1"
   ]
  },
  {
   "cell_type": "code",
   "execution_count": 147,
   "id": "a4a66c7e",
   "metadata": {},
   "outputs": [],
   "source": [
    "D1['love']=\"parents\""
   ]
  },
  {
   "cell_type": "code",
   "execution_count": 148,
   "id": "dbed3d81",
   "metadata": {},
   "outputs": [
    {
     "data": {
      "text/plain": [
       "{'Divesh': 'Data Scientist',\n",
       " 'Babu': 'Cricketer',\n",
       " 'Dream': ['Merchant Navy', 'Indian Railway', 'Data Scientist'],\n",
       " 'love': 'parents'}"
      ]
     },
     "execution_count": 148,
     "metadata": {},
     "output_type": "execute_result"
    }
   ],
   "source": [
    "D1"
   ]
  },
  {
   "cell_type": "code",
   "execution_count": 149,
   "id": "c96fdeff",
   "metadata": {},
   "outputs": [
    {
     "data": {
      "text/plain": [
       "{'Divesh': 'Data Scientist', 'Babu': 'Cricketer', 'Dream': '1234'}"
      ]
     },
     "execution_count": 149,
     "metadata": {},
     "output_type": "execute_result"
    }
   ],
   "source": [
    "D"
   ]
  },
  {
   "cell_type": "code",
   "execution_count": 150,
   "id": "6220aa07",
   "metadata": {},
   "outputs": [],
   "source": [
    "D1['PART-1']=D"
   ]
  },
  {
   "cell_type": "code",
   "execution_count": 151,
   "id": "60abe1a5",
   "metadata": {},
   "outputs": [
    {
     "data": {
      "text/plain": [
       "{'Divesh': 'Data Scientist',\n",
       " 'Babu': 'Cricketer',\n",
       " 'Dream': ['Merchant Navy', 'Indian Railway', 'Data Scientist'],\n",
       " 'love': 'parents',\n",
       " 'PART-1': {'Divesh': 'Data Scientist', 'Babu': 'Cricketer', 'Dream': '1234'}}"
      ]
     },
     "execution_count": 151,
     "metadata": {},
     "output_type": "execute_result"
    }
   ],
   "source": [
    "D1"
   ]
  },
  {
   "cell_type": "code",
   "execution_count": 152,
   "id": "23a4012e",
   "metadata": {},
   "outputs": [
    {
     "data": {
      "text/plain": [
       "'1234'"
      ]
     },
     "execution_count": 152,
     "metadata": {},
     "output_type": "execute_result"
    }
   ],
   "source": [
    "D1['PART-1']['Dream']"
   ]
  },
  {
   "cell_type": "code",
   "execution_count": 153,
   "id": "693c75f4",
   "metadata": {},
   "outputs": [],
   "source": [
    "D2={'_':'Merchant Navy'}"
   ]
  },
  {
   "cell_type": "code",
   "execution_count": 154,
   "id": "e5a1753e",
   "metadata": {},
   "outputs": [
    {
     "data": {
      "text/plain": [
       "'Merchant Navy'"
      ]
     },
     "execution_count": 154,
     "metadata": {},
     "output_type": "execute_result"
    }
   ],
   "source": [
    "D2['_']"
   ]
  },
  {
   "cell_type": "code",
   "execution_count": 155,
   "id": "40147dda",
   "metadata": {},
   "outputs": [],
   "source": [
    "D2={(1,2,3,4,5):'Data Scientist'}"
   ]
  },
  {
   "cell_type": "code",
   "execution_count": 156,
   "id": "5623e627",
   "metadata": {},
   "outputs": [
    {
     "data": {
      "text/plain": [
       "'Data Scientist'"
      ]
     },
     "execution_count": 156,
     "metadata": {},
     "output_type": "execute_result"
    }
   ],
   "source": [
    "D2[(1,2,3,4,5)]"
   ]
  },
  {
   "cell_type": "code",
   "execution_count": 157,
   "id": "bdd2ccf7",
   "metadata": {},
   "outputs": [
    {
     "ename": "TypeError",
     "evalue": "unhashable type: 'list'",
     "output_type": "error",
     "traceback": [
      "\u001b[1;31m---------------------------------------------------------------------------\u001b[0m",
      "\u001b[1;31mTypeError\u001b[0m                                 Traceback (most recent call last)",
      "\u001b[1;32m~\\AppData\\Local\\Temp/ipykernel_20792/636492834.py\u001b[0m in \u001b[0;36m<module>\u001b[1;34m\u001b[0m\n\u001b[1;32m----> 1\u001b[1;33m \u001b[0mD3\u001b[0m\u001b[1;33m=\u001b[0m\u001b[1;33m{\u001b[0m\u001b[1;33m[\u001b[0m\u001b[1;36m1\u001b[0m\u001b[1;33m,\u001b[0m\u001b[1;36m2\u001b[0m\u001b[1;33m,\u001b[0m\u001b[1;36m3\u001b[0m\u001b[1;33m,\u001b[0m\u001b[1;36m4\u001b[0m\u001b[1;33m,\u001b[0m\u001b[1;36m5\u001b[0m\u001b[1;33m]\u001b[0m\u001b[1;33m:\u001b[0m\u001b[1;34m'Data Scientist'\u001b[0m\u001b[1;33m}\u001b[0m\u001b[1;33m\u001b[0m\u001b[1;33m\u001b[0m\u001b[0m\n\u001b[0m",
      "\u001b[1;31mTypeError\u001b[0m: unhashable type: 'list'"
     ]
    }
   ],
   "source": [
    "D3={[1,2,3,4,5]:'Data Scientist'}"
   ]
  },
  {
   "cell_type": "code",
   "execution_count": 158,
   "id": "fec8a4f9",
   "metadata": {},
   "outputs": [
    {
     "data": {
      "text/plain": [
       "{'Divesh': 'Data Scientist', 'Babu': 'Cricketer', 'Dream': '1234'}"
      ]
     },
     "execution_count": 158,
     "metadata": {},
     "output_type": "execute_result"
    }
   ],
   "source": [
    "D"
   ]
  },
  {
   "cell_type": "code",
   "execution_count": 159,
   "id": "7cfbebbf",
   "metadata": {},
   "outputs": [
    {
     "data": {
      "text/plain": [
       "dict_keys(['Divesh', 'Babu', 'Dream'])"
      ]
     },
     "execution_count": 159,
     "metadata": {},
     "output_type": "execute_result"
    }
   ],
   "source": [
    "D.keys()"
   ]
  },
  {
   "cell_type": "code",
   "execution_count": 160,
   "id": "cf165548",
   "metadata": {},
   "outputs": [
    {
     "data": {
      "text/plain": [
       "dict_values(['Data Scientist', 'Cricketer', '1234'])"
      ]
     },
     "execution_count": 160,
     "metadata": {},
     "output_type": "execute_result"
    }
   ],
   "source": [
    "D.values()"
   ]
  },
  {
   "cell_type": "code",
   "execution_count": 161,
   "id": "e0813ae9",
   "metadata": {},
   "outputs": [
    {
     "data": {
      "text/plain": [
       "dict_items([('Divesh', 'Data Scientist'), ('Babu', 'Cricketer'), ('Dream', '1234')])"
      ]
     },
     "execution_count": 161,
     "metadata": {},
     "output_type": "execute_result"
    }
   ],
   "source": [
    "D.items()"
   ]
  },
  {
   "cell_type": "code",
   "execution_count": 162,
   "id": "aba8f88c",
   "metadata": {},
   "outputs": [],
   "source": [
    "B={1,2,3,4,5,6,7,8,9,10}"
   ]
  },
  {
   "cell_type": "code",
   "execution_count": 163,
   "id": "1c434958",
   "metadata": {},
   "outputs": [
    {
     "data": {
      "text/plain": [
       "set"
      ]
     },
     "execution_count": 163,
     "metadata": {},
     "output_type": "execute_result"
    }
   ],
   "source": [
    "type(B)"
   ]
  },
  {
   "cell_type": "code",
   "execution_count": 164,
   "id": "0b1f656c",
   "metadata": {},
   "outputs": [],
   "source": [
    "B1={1,1,1,2,2,23,4,5,5,6,6,7,7,7,8,9,10,10}"
   ]
  },
  {
   "cell_type": "code",
   "execution_count": 165,
   "id": "48445b00",
   "metadata": {},
   "outputs": [
    {
     "data": {
      "text/plain": [
       "{1, 2, 4, 5, 6, 7, 8, 9, 10, 23}"
      ]
     },
     "execution_count": 165,
     "metadata": {},
     "output_type": "execute_result"
    }
   ],
   "source": [
    "B1"
   ]
  },
  {
   "cell_type": "code",
   "execution_count": 166,
   "id": "998094a7",
   "metadata": {},
   "outputs": [],
   "source": [
    "B2={432,555,8364,63554,287,9263,2568}"
   ]
  },
  {
   "cell_type": "code",
   "execution_count": 167,
   "id": "9505ae3a",
   "metadata": {},
   "outputs": [
    {
     "data": {
      "text/plain": [
       "{287, 432, 555, 2568, 8364, 9263, 63554}"
      ]
     },
     "execution_count": 167,
     "metadata": {},
     "output_type": "execute_result"
    }
   ],
   "source": [
    "B2"
   ]
  },
  {
   "cell_type": "code",
   "execution_count": 168,
   "id": "b577b4fa",
   "metadata": {},
   "outputs": [],
   "source": [
    "B3={16432,71652,2,3,6,2856,2724,'div','bba',1863,'bdsaw'}"
   ]
  },
  {
   "cell_type": "code",
   "execution_count": 169,
   "id": "b8d755de",
   "metadata": {},
   "outputs": [
    {
     "data": {
      "text/plain": [
       "{16432, 1863, 2, 2724, 2856, 3, 6, 71652, 'bba', 'bdsaw', 'div'}"
      ]
     },
     "execution_count": 169,
     "metadata": {},
     "output_type": "execute_result"
    }
   ],
   "source": [
    "B3"
   ]
  },
  {
   "cell_type": "code",
   "execution_count": 170,
   "id": "20c029d1",
   "metadata": {},
   "outputs": [
    {
     "data": {
      "text/plain": [
       "['bdsaw', 2, 3, 71652, 2724, 6, 'bba', 2856, 1863, 16432, 'div']"
      ]
     },
     "execution_count": 170,
     "metadata": {},
     "output_type": "execute_result"
    }
   ],
   "source": [
    "list(B3)"
   ]
  },
  {
   "cell_type": "code",
   "execution_count": 171,
   "id": "a5ca54af",
   "metadata": {},
   "outputs": [
    {
     "data": {
      "text/plain": [
       "('bdsaw', 2, 3, 71652, 2724, 6, 'bba', 2856, 1863, 16432, 'div')"
      ]
     },
     "execution_count": 171,
     "metadata": {},
     "output_type": "execute_result"
    }
   ],
   "source": [
    "tuple(B3)"
   ]
  },
  {
   "cell_type": "code",
   "execution_count": 172,
   "id": "12929e3e",
   "metadata": {},
   "outputs": [],
   "source": [
    "ll=[1,2,3,3,3,4,4,5,5,5,6,6,7,7,8,9,0,1]"
   ]
  },
  {
   "cell_type": "code",
   "execution_count": 173,
   "id": "091082ef",
   "metadata": {},
   "outputs": [
    {
     "data": {
      "text/plain": [
       "{0, 1, 2, 3, 4, 5, 6, 7, 8, 9}"
      ]
     },
     "execution_count": 173,
     "metadata": {},
     "output_type": "execute_result"
    }
   ],
   "source": [
    "set(ll)"
   ]
  },
  {
   "cell_type": "code",
   "execution_count": 174,
   "id": "fd97a811",
   "metadata": {},
   "outputs": [],
   "source": [
    "l=list(set(ll))"
   ]
  },
  {
   "cell_type": "code",
   "execution_count": 175,
   "id": "397c0852",
   "metadata": {},
   "outputs": [
    {
     "data": {
      "text/plain": [
       "[0, 1, 2, 3, 4, 5, 6, 7, 8, 9]"
      ]
     },
     "execution_count": 175,
     "metadata": {},
     "output_type": "execute_result"
    }
   ],
   "source": [
    "l"
   ]
  },
  {
   "cell_type": "code",
   "execution_count": 176,
   "id": "e4e6d07a",
   "metadata": {},
   "outputs": [
    {
     "data": {
      "text/plain": [
       "{1, 2, 4, 5, 6, 7, 8, 9, 10, 23}"
      ]
     },
     "execution_count": 176,
     "metadata": {},
     "output_type": "execute_result"
    }
   ],
   "source": [
    "    B1"
   ]
  },
  {
   "cell_type": "code",
   "execution_count": 177,
   "id": "9b0164df",
   "metadata": {},
   "outputs": [],
   "source": [
    "B1.add(33)"
   ]
  },
  {
   "cell_type": "code",
   "execution_count": 178,
   "id": "ef59c1fc",
   "metadata": {},
   "outputs": [
    {
     "data": {
      "text/plain": [
       "{1, 2, 4, 5, 6, 7, 8, 9, 10, 23, 33}"
      ]
     },
     "execution_count": 178,
     "metadata": {},
     "output_type": "execute_result"
    }
   ],
   "source": [
    "B1"
   ]
  },
  {
   "cell_type": "code",
   "execution_count": 179,
   "id": "ab80af70",
   "metadata": {},
   "outputs": [],
   "source": [
    "B1.add((1,2,3,4,5))"
   ]
  },
  {
   "cell_type": "code",
   "execution_count": 180,
   "id": "2e223ce2",
   "metadata": {},
   "outputs": [
    {
     "data": {
      "text/plain": [
       "{(1, 2, 3, 4, 5), 1, 10, 2, 23, 33, 4, 5, 6, 7, 8, 9}"
      ]
     },
     "execution_count": 180,
     "metadata": {},
     "output_type": "execute_result"
    }
   ],
   "source": [
    "B1"
   ]
  },
  {
   "cell_type": "code",
   "execution_count": 181,
   "id": "5ed289a5",
   "metadata": {},
   "outputs": [],
   "source": [
    "B1.remove(33)"
   ]
  },
  {
   "cell_type": "code",
   "execution_count": 182,
   "id": "011674a5",
   "metadata": {},
   "outputs": [
    {
     "data": {
      "text/plain": [
       "{(1, 2, 3, 4, 5), 1, 10, 2, 23, 4, 5, 6, 7, 8, 9}"
      ]
     },
     "execution_count": 182,
     "metadata": {},
     "output_type": "execute_result"
    }
   ],
   "source": [
    "B1"
   ]
  },
  {
   "cell_type": "code",
   "execution_count": 183,
   "id": "dbf4af94",
   "metadata": {},
   "outputs": [
    {
     "ename": "KeyError",
     "evalue": "3333",
     "output_type": "error",
     "traceback": [
      "\u001b[1;31m---------------------------------------------------------------------------\u001b[0m",
      "\u001b[1;31mKeyError\u001b[0m                                  Traceback (most recent call last)",
      "\u001b[1;32m~\\AppData\\Local\\Temp/ipykernel_20792/2418514945.py\u001b[0m in \u001b[0;36m<module>\u001b[1;34m\u001b[0m\n\u001b[1;32m----> 1\u001b[1;33m \u001b[0mB1\u001b[0m\u001b[1;33m.\u001b[0m\u001b[0mremove\u001b[0m\u001b[1;33m(\u001b[0m\u001b[1;36m3333\u001b[0m\u001b[1;33m)\u001b[0m\u001b[1;33m\u001b[0m\u001b[1;33m\u001b[0m\u001b[0m\n\u001b[0m",
      "\u001b[1;31mKeyError\u001b[0m: 3333"
     ]
    }
   ],
   "source": [
    "B1.remove(3333)"
   ]
  },
  {
   "cell_type": "code",
   "execution_count": 184,
   "id": "728a6fad",
   "metadata": {},
   "outputs": [],
   "source": [
    "B1.discard(23)"
   ]
  },
  {
   "cell_type": "code",
   "execution_count": 185,
   "id": "fee76db7",
   "metadata": {},
   "outputs": [
    {
     "data": {
      "text/plain": [
       "{(1, 2, 3, 4, 5), 1, 10, 2, 4, 5, 6, 7, 8, 9}"
      ]
     },
     "execution_count": 185,
     "metadata": {},
     "output_type": "execute_result"
    }
   ],
   "source": [
    "B1"
   ]
  },
  {
   "cell_type": "code",
   "execution_count": 186,
   "id": "415ccc46",
   "metadata": {},
   "outputs": [],
   "source": [
    "B1.discard(2333)"
   ]
  },
  {
   "cell_type": "code",
   "execution_count": 187,
   "id": "e534b5cc",
   "metadata": {},
   "outputs": [
    {
     "data": {
      "text/plain": [
       "{(1, 2, 3, 4, 5), 1, 10, 2, 4, 5, 6, 7, 8, 9}"
      ]
     },
     "execution_count": 187,
     "metadata": {},
     "output_type": "execute_result"
    }
   ],
   "source": [
    "B1"
   ]
  },
  {
   "cell_type": "code",
   "execution_count": 196,
   "id": "43ff8f25",
   "metadata": {},
   "outputs": [
    {
     "data": {
      "text/plain": [
       "2"
      ]
     },
     "execution_count": 196,
     "metadata": {},
     "output_type": "execute_result"
    }
   ],
   "source": [
    "B1.pop()"
   ]
  },
  {
   "cell_type": "code",
   "execution_count": 189,
   "id": "7339aa1f",
   "metadata": {},
   "outputs": [
    {
     "data": {
      "text/plain": [
       "set"
      ]
     },
     "execution_count": 189,
     "metadata": {},
     "output_type": "execute_result"
    }
   ],
   "source": [
    "type(B1)"
   ]
  },
  {
   "cell_type": "code",
   "execution_count": 190,
   "id": "23501e47",
   "metadata": {},
   "outputs": [],
   "source": [
    "w=list(B1)"
   ]
  },
  {
   "cell_type": "code",
   "execution_count": 191,
   "id": "cda4585c",
   "metadata": {},
   "outputs": [
    {
     "data": {
      "text/plain": [
       "[2, 4, 5, 6, 7, 8, 9, 10, (1, 2, 3, 4, 5)]"
      ]
     },
     "execution_count": 191,
     "metadata": {},
     "output_type": "execute_result"
    }
   ],
   "source": [
    "w"
   ]
  },
  {
   "cell_type": "code",
   "execution_count": 197,
   "id": "50494596",
   "metadata": {},
   "outputs": [
    {
     "data": {
      "text/plain": [
       "(1, 2, 3, 4, 5)"
      ]
     },
     "execution_count": 197,
     "metadata": {},
     "output_type": "execute_result"
    }
   ],
   "source": [
    "w.pop()"
   ]
  },
  {
   "cell_type": "code",
   "execution_count": 198,
   "id": "00ed7a85",
   "metadata": {},
   "outputs": [
    {
     "data": {
      "text/plain": [
       "{'Divesh': 'Data Scientist', 'Babu': 'Cricketer', 'Dream': '1234'}"
      ]
     },
     "execution_count": 198,
     "metadata": {},
     "output_type": "execute_result"
    }
   ],
   "source": [
    "D"
   ]
  },
  {
   "cell_type": "code",
   "execution_count": 199,
   "id": "f13e5bff",
   "metadata": {},
   "outputs": [],
   "source": [
    "D['Babu']='Software Engineer'"
   ]
  },
  {
   "cell_type": "code",
   "execution_count": 200,
   "id": "fd3264f2",
   "metadata": {},
   "outputs": [
    {
     "data": {
      "text/plain": [
       "{'Divesh': 'Data Scientist', 'Babu': 'Software Engineer', 'Dream': '1234'}"
      ]
     },
     "execution_count": 200,
     "metadata": {},
     "output_type": "execute_result"
    }
   ],
   "source": [
    "D"
   ]
  },
  {
   "cell_type": "markdown",
   "id": "e8c760e6",
   "metadata": {},
   "source": [
    "End"
   ]
  }
 ],
 "metadata": {
  "kernelspec": {
   "display_name": "Python 3 (ipykernel)",
   "language": "python",
   "name": "python3"
  },
  "language_info": {
   "codemirror_mode": {
    "name": "ipython",
    "version": 3
   },
   "file_extension": ".py",
   "mimetype": "text/x-python",
   "name": "python",
   "nbconvert_exporter": "python",
   "pygments_lexer": "ipython3",
   "version": "3.9.7"
  }
 },
 "nbformat": 4,
 "nbformat_minor": 5
}
