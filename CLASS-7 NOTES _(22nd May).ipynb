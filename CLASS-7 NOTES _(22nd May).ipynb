{
 "cells": [
  {
   "cell_type": "code",
   "execution_count": 1,
   "id": "bb0dafd0",
   "metadata": {},
   "outputs": [
    {
     "name": "stdout",
     "output_type": "stream",
     "text": [
      "this is my first condition\n"
     ]
    }
   ],
   "source": [
    "a=10\n",
    "if a==10 :\n",
    "    print(\"this is my first condition\")\n",
    "    \n",
    "\n",
    "    "
   ]
  },
  {
   "cell_type": "code",
   "execution_count": 2,
   "id": "546f6680",
   "metadata": {},
   "outputs": [],
   "source": [
    "a=10\n",
    "if a==11 :\n",
    "    print(\"this is my first condition\")"
   ]
  },
  {
   "cell_type": "code",
   "execution_count": 3,
   "id": "209b8f47",
   "metadata": {},
   "outputs": [],
   "source": [
    "a=10\n",
    "if a>5 :\n",
    "    pass"
   ]
  },
  {
   "cell_type": "code",
   "execution_count": 4,
   "id": "fc5e8aab",
   "metadata": {},
   "outputs": [
    {
     "name": "stdout",
     "output_type": "stream",
     "text": [
      "it is TRUE\n"
     ]
    }
   ],
   "source": [
    "a = 10 \n",
    "if a>8:\n",
    "    print('it is TRUE')"
   ]
  },
  {
   "cell_type": "code",
   "execution_count": 5,
   "id": "ed922b6d",
   "metadata": {},
   "outputs": [],
   "source": [
    "a = 10 \n",
    "if a<8:\n",
    "    print('it is TRUE')"
   ]
  },
  {
   "cell_type": "code",
   "execution_count": 6,
   "id": "12b565ce",
   "metadata": {},
   "outputs": [
    {
     "name": "stdout",
     "output_type": "stream",
     "text": [
      "Your Condition is True\n"
     ]
    }
   ],
   "source": [
    "a = 10\n",
    "if a != 11:\n",
    "    print(\"Your Condition is True\")\n",
    "else :\n",
    "    print(\"Q\")\n",
    "    \n"
   ]
  },
  {
   "cell_type": "code",
   "execution_count": 7,
   "id": "3646a92a",
   "metadata": {},
   "outputs": [
    {
     "name": "stdout",
     "output_type": "stream",
     "text": [
      "Q\n"
     ]
    }
   ],
   "source": [
    "a = 10\n",
    "if a == 11:\n",
    "    print(\"Your Condition is false\")\n",
    "else :\n",
    "    print(\"Q\")"
   ]
  },
  {
   "cell_type": "code",
   "execution_count": 8,
   "id": "da3ced15",
   "metadata": {},
   "outputs": [
    {
     "name": "stdout",
     "output_type": "stream",
     "text": [
      "if all the blocks fail then 'DO THIS'\n"
     ]
    }
   ],
   "source": [
    "a = 10\n",
    "if a == 12:\n",
    "    print(\"Here we are trying to compare 10 with 12\")\n",
    "elif a == 11:\n",
    "    print(\"we are trying to compare 10 with 11\")\n",
    "else :\n",
    "    print(\"if all the blocks fail then 'DO THIS'\")"
   ]
  },
  {
   "cell_type": "code",
   "execution_count": 9,
   "id": "137eebdd",
   "metadata": {},
   "outputs": [
    {
     "name": "stdout",
     "output_type": "stream",
     "text": [
      "You are able to buy a jacket\n"
     ]
    }
   ],
   "source": [
    "price = 500\n",
    "if price > 500:\n",
    "    print(\"you may not be able to buy a jacket \")\n",
    "elif price <= 500:\n",
    "    print(\"You are able to buy a jacket\")\n"
   ]
  },
  {
   "cell_type": "code",
   "execution_count": 10,
   "id": "469e5702",
   "metadata": {},
   "outputs": [
    {
     "name": "stdout",
     "output_type": "stream",
     "text": [
      "wait for it\n"
     ]
    }
   ],
   "source": [
    "price = 500\n",
    "if price > 500:\n",
    "    print(\"you may not be able to buy a jacket \")\n",
    "elif price < 500:\n",
    "    print(\"You are able to buy a jacket\")\n",
    "else :\n",
    "    print(\"wait for it\")\n",
    "    "
   ]
  },
  {
   "cell_type": "code",
   "execution_count": 11,
   "id": "4a4ba3e2",
   "metadata": {},
   "outputs": [
    {
     "name": "stdout",
     "output_type": "stream",
     "text": [
      "You can surely buy the jacket\n"
     ]
    }
   ],
   "source": [
    "price = 500\n",
    "if price > 500:\n",
    "    print(\"you may not be able to buy a jacket \")\n",
    "elif price < 500:\n",
    "    print(\"You are able to buy a jacket\")\n",
    "elif price == 500:\n",
    "    print(\"You can surely buy the jacket\")\n",
    "else :\n",
    "    print(\"wait for it\")"
   ]
  },
  {
   "cell_type": "code",
   "execution_count": 12,
   "id": "9e986180",
   "metadata": {},
   "outputs": [
    {
     "data": {
      "text/plain": [
       "False"
      ]
     },
     "execution_count": 12,
     "metadata": {},
     "output_type": "execute_result"
    }
   ],
   "source": [
    "price >500"
   ]
  },
  {
   "cell_type": "code",
   "execution_count": 13,
   "id": "c5a98c1f",
   "metadata": {},
   "outputs": [
    {
     "data": {
      "text/plain": [
       "False"
      ]
     },
     "execution_count": 13,
     "metadata": {},
     "output_type": "execute_result"
    }
   ],
   "source": [
    "price < 500"
   ]
  },
  {
   "cell_type": "code",
   "execution_count": 14,
   "id": "74e0a585",
   "metadata": {},
   "outputs": [
    {
     "data": {
      "text/plain": [
       "True"
      ]
     },
     "execution_count": 14,
     "metadata": {},
     "output_type": "execute_result"
    }
   ],
   "source": [
    "price == 500"
   ]
  },
  {
   "cell_type": "code",
   "execution_count": 15,
   "id": "de8ce2ef",
   "metadata": {},
   "outputs": [
    {
     "data": {
      "text/plain": [
       "True"
      ]
     },
     "execution_count": 15,
     "metadata": {},
     "output_type": "execute_result"
    }
   ],
   "source": [
    "l = [1,2,3,4,5,6]\n",
    "2 in l"
   ]
  },
  {
   "cell_type": "code",
   "execution_count": 16,
   "id": "b2a8d77c",
   "metadata": {},
   "outputs": [
    {
     "data": {
      "text/plain": [
       "False"
      ]
     },
     "execution_count": 16,
     "metadata": {},
     "output_type": "execute_result"
    }
   ],
   "source": [
    "7 in l"
   ]
  },
  {
   "cell_type": "code",
   "execution_count": 17,
   "id": "b3d4e2af",
   "metadata": {},
   "outputs": [
    {
     "name": "stdout",
     "output_type": "stream",
     "text": [
      "Try to perform a task\n"
     ]
    }
   ],
   "source": [
    "if 2 in l:\n",
    "    print(\"Try to perform a task\")\n",
    "else :\n",
    "    print('do not perform the paticular task')"
   ]
  },
  {
   "cell_type": "code",
   "execution_count": 18,
   "id": "cabb9f47",
   "metadata": {},
   "outputs": [
    {
     "name": "stdout",
     "output_type": "stream",
     "text": [
      "do not perform the paticular task\n"
     ]
    }
   ],
   "source": [
    "if 10 in l:\n",
    "    print(\"Try to perform a task\")\n",
    "else :\n",
    "    print('do not perform the paticular task')"
   ]
  },
  {
   "cell_type": "code",
   "execution_count": 19,
   "id": "15b58f2f",
   "metadata": {},
   "outputs": [
    {
     "name": "stdout",
     "output_type": "stream",
     "text": [
      "Try to do a addition\n"
     ]
    }
   ],
   "source": [
    "if 1 in l:\n",
    "    print(\"Try to do a addition\")\n",
    "elif 2 in l:\n",
    "    print(\"Try to do substraction\")\n",
    "elif 3 in l:    \n",
    "    print(\"Try to do multiplication\")\n",
    "    "
   ]
  },
  {
   "cell_type": "code",
   "execution_count": 20,
   "id": "f7feed8b",
   "metadata": {},
   "outputs": [
    {
     "name": "stdout",
     "output_type": "stream",
     "text": [
      "DO SUBSTRACTION\n"
     ]
    }
   ],
   "source": [
    "if 10 in l :\n",
    "    print(\"DO ADDITION\")\n",
    "elif 2 in l :\n",
    "    print(\"DO SUBSTRACTION\")\n",
    "elif 3 in l :\n",
    "    print(\"DO MULTIPLICATION\")"
   ]
  },
  {
   "cell_type": "code",
   "execution_count": 21,
   "id": "50b1435a",
   "metadata": {},
   "outputs": [
    {
     "name": "stdout",
     "output_type": "stream",
     "text": [
      "Try to do a addition\n",
      "It is an new block\n"
     ]
    }
   ],
   "source": [
    "if 1 in l:\n",
    "    print(\"Try to do a addition\")\n",
    "elif 2 in l:\n",
    "    print(\"Try to do substraction\")\n",
    "elif 3 in l:    \n",
    "    print(\"Try to do multiplication\")\n",
    "if 4 in l:\n",
    "    print(\"It is an new block\")"
   ]
  },
  {
   "cell_type": "code",
   "execution_count": 22,
   "id": "16e5015e",
   "metadata": {},
   "outputs": [],
   "source": [
    "A = 400"
   ]
  },
  {
   "cell_type": "code",
   "execution_count": 23,
   "id": "bd99b20d",
   "metadata": {},
   "outputs": [
    {
     "name": "stdout",
     "output_type": "stream",
     "text": [
      "\n"
     ]
    }
   ],
   "source": [
    "B = input()"
   ]
  },
  {
   "cell_type": "code",
   "execution_count": 24,
   "id": "09d84b7a",
   "metadata": {},
   "outputs": [
    {
     "data": {
      "text/plain": [
       "''"
      ]
     },
     "execution_count": 24,
     "metadata": {},
     "output_type": "execute_result"
    }
   ],
   "source": [
    "B"
   ]
  },
  {
   "cell_type": "code",
   "execution_count": 25,
   "id": "0d65981a",
   "metadata": {},
   "outputs": [
    {
     "data": {
      "text/plain": [
       "str"
      ]
     },
     "execution_count": 25,
     "metadata": {},
     "output_type": "execute_result"
    }
   ],
   "source": [
    "type(B)"
   ]
  },
  {
   "cell_type": "code",
   "execution_count": 26,
   "id": "68fd5f45",
   "metadata": {},
   "outputs": [
    {
     "name": "stdout",
     "output_type": "stream",
     "text": [
      "543\n"
     ]
    }
   ],
   "source": [
    "C = int(input())"
   ]
  },
  {
   "cell_type": "code",
   "execution_count": 27,
   "id": "3ad72088",
   "metadata": {},
   "outputs": [
    {
     "data": {
      "text/plain": [
       "543"
      ]
     },
     "execution_count": 27,
     "metadata": {},
     "output_type": "execute_result"
    }
   ],
   "source": [
    "C"
   ]
  },
  {
   "cell_type": "code",
   "execution_count": null,
   "id": "2b99423b",
   "metadata": {},
   "outputs": [],
   "source": []
  },
  {
   "cell_type": "code",
   "execution_count": 5,
   "id": "65b22a68",
   "metadata": {},
   "outputs": [
    {
     "name": "stdout",
     "output_type": "stream",
     "text": [
      "199\n",
      "I will be able to buy Phone\n",
      "I will be able to buy a shoes\n",
      "I will be able to buy a chocolate\n"
     ]
    }
   ],
   "source": [
    "price = int(input())\n",
    "if price < 500:\n",
    "    print(\"I will be able to buy Phone\")\n",
    "    if price < 100 :\n",
    "        print(\"I will be able to buy a jacket\")\n",
    "    elif price < 300:\n",
    "        print(\"I will be able to buy a shoes\")\n",
    "        if price < 200 :\n",
    "            print(\"I will be able to buy a chocolate\")\n",
    "    else :\n",
    "        print(\"I wont be able to buy anything else\")\n",
    "else :\n",
    "    print(\"i wont be able to buy anything with this price tag\")"
   ]
  },
  {
   "cell_type": "code",
   "execution_count": 2,
   "id": "81733b49",
   "metadata": {},
   "outputs": [
    {
     "name": "stdout",
     "output_type": "stream",
     "text": [
      "600\n",
      "i wont be able to buy anything with this price tag\n",
      "I will buy it for next time\n"
     ]
    }
   ],
   "source": [
    "price = int(input())\n",
    "if price < 500:\n",
    "    print(\"I will be able to buy Phone\")\n",
    "    if price < 400 :\n",
    "        print(\"I will be able to buy a jacket\")\n",
    "    elif price < 300:\n",
    "        print(\"I will be able to buy a shoes\")\n",
    "    else :\n",
    "        print(\"I wont be able to buy anything else\")\n",
    "else :\n",
    "    print(\"i wont be able to buy anything with this price tag\")\n",
    "    if price > 500:\n",
    "        print(\"I will buy it for next time\")\n",
    "    "
   ]
  },
  {
   "cell_type": "code",
   "execution_count": 3,
   "id": "f0d31587",
   "metadata": {},
   "outputs": [
    {
     "name": "stdout",
     "output_type": "stream",
     "text": [
      "200\n",
      "I will not be able to clear 'GRE'\n",
      "No 'GRE'\n",
      "i will be able to get into a 'TOFFEL'\n",
      "You have failled\n"
     ]
    }
   ],
   "source": [
    "Marks = int(input())\n",
    "if Marks < 600:\n",
    "    print(\"I will not be able to clear 'GRE'\")\n",
    "    if Marks < 600:\n",
    "        print(\"No 'GRE'\")\n",
    "        if Marks < 500:\n",
    "            print(\"i will be able to get into a 'TOFFEL'\")\n",
    "            if Marks <= 200:\n",
    "                print(\"You have failled\")\n",
    "    else:\n",
    "        print(\"I will try for something else\") \n",
    "else:\n",
    "    print(\"Congratulations you have cleared 'GRE'\")"
   ]
  },
  {
   "cell_type": "code",
   "execution_count": 10,
   "id": "bd3d3de7",
   "metadata": {},
   "outputs": [
    {
     "name": "stdout",
     "output_type": "stream",
     "text": [
      "enter a floating point number-100\n",
      "Entered value is 'NEGATIVE'\n"
     ]
    }
   ],
   "source": [
    "value = float(input(\"enter a floating point number\"))\n",
    "if value >= 0:\n",
    "    if value == 0:\n",
    "        print(\"Entered value is 'ZERO'\")\n",
    "    else :\n",
    "        print(\"Entered value is 'POSITIVE'\")\n",
    "else :\n",
    "    print(\"Entered value is 'NEGATIVE'\")            "
   ]
  },
  {
   "cell_type": "markdown",
   "id": "19480bc4",
   "metadata": {},
   "source": [
    "0,0=0      fals,false=false\n",
    "0,1=1      false,true=true\n",
    "1,0=1      true,false=true\n",
    "1,1=1      true,true=true (for 'or'condition)"
   ]
  },
  {
   "cell_type": "code",
   "execution_count": 11,
   "id": "74282e3a",
   "metadata": {},
   "outputs": [
    {
     "name": "stdout",
     "output_type": "stream",
     "text": [
      "Execute the TASK\n"
     ]
    }
   ],
   "source": [
    "a=10\n",
    "if a>10 or a==10:\n",
    "    print(\"Execute the TASK\")"
   ]
  },
  {
   "cell_type": "code",
   "execution_count": 13,
   "id": "3d555e43",
   "metadata": {},
   "outputs": [],
   "source": [
    "a=10\n",
    "if a>10 or a<10:\n",
    "    print(\"Execute the TASK\")"
   ]
  },
  {
   "cell_type": "markdown",
   "id": "aa6a1fc7",
   "metadata": {},
   "source": [
    "0,0=0      fals,false=false\n",
    "0,1=0      false,true=false\n",
    "1,0=0      true,false=false\n",
    "1,1=1      true,true=true (for 'and'condition)"
   ]
  },
  {
   "cell_type": "code",
   "execution_count": 15,
   "id": "8db90170",
   "metadata": {},
   "outputs": [],
   "source": [
    "a=10\n",
    "if a>10 and a==10:\n",
    "    print(\"Execute the TASK\")"
   ]
  },
  {
   "cell_type": "code",
   "execution_count": 17,
   "id": "c87da9ca",
   "metadata": {},
   "outputs": [
    {
     "name": "stdout",
     "output_type": "stream",
     "text": [
      "Execute the TASK\n"
     ]
    }
   ],
   "source": [
    "a=10\n",
    "if a>=10 and a==10:\n",
    "    print(\"Execute the TASK\")"
   ]
  },
  {
   "cell_type": "code",
   "execution_count": 19,
   "id": "58f8c882",
   "metadata": {},
   "outputs": [],
   "source": [
    "b=\"divesh\"\n",
    "if b == \"divesh\" and b == \"Divesh\":\n",
    "    print(\"this is divesh\")\n"
   ]
  },
  {
   "cell_type": "code",
   "execution_count": 20,
   "id": "7d13845e",
   "metadata": {},
   "outputs": [
    {
     "name": "stdout",
     "output_type": "stream",
     "text": [
      "this is divesh\n"
     ]
    }
   ],
   "source": [
    "b=\"divesh\"\n",
    "if b == \"divesh\" and b == \"divesh\":\n",
    "    print(\"this is divesh\")"
   ]
  },
  {
   "cell_type": "code",
   "execution_count": 25,
   "id": "9d86090d",
   "metadata": {},
   "outputs": [],
   "source": [
    "a= 10\n",
    "b=20\n",
    "c=30\n",
    "d=40\n",
    "if a == 10 and b==20 and c==30 and d==44:\n",
    "    print(\"Hey i am abcd\")\n",
    "    a= 10"
   ]
  },
  {
   "cell_type": "code",
   "execution_count": 31,
   "id": "603b3a59",
   "metadata": {},
   "outputs": [
    {
     "name": "stdout",
     "output_type": "stream",
     "text": [
      "Hey i am abcd\n"
     ]
    }
   ],
   "source": [
    "a= 10\n",
    "b=20\n",
    "c=30\n",
    "d=40\n",
    "if a == 10 and b==20 and c==30 and d==40:\n",
    "    print(\"Hey i am abcd\")"
   ]
  },
  {
   "cell_type": "code",
   "execution_count": 32,
   "id": "5e3c93de",
   "metadata": {},
   "outputs": [
    {
     "name": "stdout",
     "output_type": "stream",
     "text": [
      "Hey i am abcd\n"
     ]
    }
   ],
   "source": [
    "a= 10\n",
    "b=20\n",
    "c=30\n",
    "d=40\n",
    "if a == 10 or b==21 or c==33 or d==44:\n",
    "    print(\"Hey i am abcd\")"
   ]
  },
  {
   "cell_type": "code",
   "execution_count": 33,
   "id": "73f3e6f2",
   "metadata": {},
   "outputs": [],
   "source": [
    "D = {'Divesh':'Data Scientist','Dikshat':'Cricketer','Pappa':'Army'}"
   ]
  },
  {
   "cell_type": "code",
   "execution_count": 35,
   "id": "d614840f",
   "metadata": {},
   "outputs": [
    {
     "name": "stdout",
     "output_type": "stream",
     "text": [
      "The Dictionary is verified\n",
      "dict_values(['Data Scientist', 'Cricketer', 'Army'])\n",
      "dict_keys(['Divesh', 'Dikshat', 'Pappa'])\n"
     ]
    }
   ],
   "source": [
    "if D['Divesh']=='Data Scientist' and D['Dikshat']=='Cricketer' and D['Pappa']=='Army':\n",
    "    print(\"The Dictionary is verified\")\n",
    "    print(D.values())\n",
    "    print(D.keys())"
   ]
  },
  {
   "cell_type": "code",
   "execution_count": 36,
   "id": "f8805c38",
   "metadata": {},
   "outputs": [],
   "source": [
    "if D['Divesh']=='Data Scientist' and D['Dikshat']=='Cricketer' and D['Pappa']=='Fire Man':\n",
    "    print(\"The Dictionary is verified\")\n",
    "    print(D.values())\n",
    "    print(D.keys())    "
   ]
  },
  {
   "cell_type": "code",
   "execution_count": 37,
   "id": "f5883975",
   "metadata": {},
   "outputs": [
    {
     "name": "stdout",
     "output_type": "stream",
     "text": [
      "Values Cannot be verified\n"
     ]
    }
   ],
   "source": [
    "if D['Divesh']=='Data Scientist' and D['Dikshat']=='Cricketer' and D['Pappa']=='Fire Man':\n",
    "    print(\"The Dictionary is verified\")\n",
    "    print(D.values())\n",
    "    print(D.keys())    \n",
    "else :\n",
    "    print(\"Values Cannot be verified\")"
   ]
  },
  {
   "cell_type": "code",
   "execution_count": 38,
   "id": "7b968cf3",
   "metadata": {},
   "outputs": [
    {
     "name": "stdout",
     "output_type": "stream",
     "text": [
      "The Dictionary is verified\n",
      "dict_values(['Data Scientist', 'Cricketer', 'Army'])\n",
      "dict_keys(['Divesh', 'Dikshat', 'Pappa'])\n"
     ]
    }
   ],
   "source": [
    "if D['Divesh']=='Data Scientist' or D['Dikshat']=='Cricketer' or D['Pappa']=='Fire Man':\n",
    "    print(\"The Dictionary is verified\")\n",
    "    print(D.values())\n",
    "    print(D.keys())    "
   ]
  },
  {
   "cell_type": "code",
   "execution_count": 1,
   "id": "24e0827d",
   "metadata": {},
   "outputs": [
    {
     "ename": "NameError",
     "evalue": "name 'D' is not defined",
     "output_type": "error",
     "traceback": [
      "\u001b[1;31m---------------------------------------------------------------------------\u001b[0m",
      "\u001b[1;31mNameError\u001b[0m                                 Traceback (most recent call last)",
      "\u001b[1;32m~\\AppData\\Local\\Temp/ipykernel_15860/205044815.py\u001b[0m in \u001b[0;36m<module>\u001b[1;34m\u001b[0m\n\u001b[1;32m----> 1\u001b[1;33m \u001b[1;32mif\u001b[0m \u001b[0mD\u001b[0m\u001b[1;33m[\u001b[0m\u001b[1;34m'Divesh'\u001b[0m\u001b[1;33m]\u001b[0m\u001b[1;33m==\u001b[0m\u001b[1;34m'Data Scientist'\u001b[0m\u001b[1;32mor\u001b[0m \u001b[0mD\u001b[0m\u001b[1;33m[\u001b[0m\u001b[1;34m'Dikshat'\u001b[0m\u001b[1;33m]\u001b[0m\u001b[1;33m==\u001b[0m\u001b[1;34m'PUBG'\u001b[0m \u001b[1;32mor\u001b[0m \u001b[0mD\u001b[0m\u001b[1;33m[\u001b[0m\u001b[1;34m'Pappa'\u001b[0m\u001b[1;33m]\u001b[0m\u001b[1;33m==\u001b[0m\u001b[1;34m'Fire Man'\u001b[0m\u001b[1;33m:\u001b[0m\u001b[1;33m\u001b[0m\u001b[1;33m\u001b[0m\u001b[0m\n\u001b[0m\u001b[0;32m      2\u001b[0m     \u001b[0mprint\u001b[0m\u001b[1;33m(\u001b[0m\u001b[1;34m\"The Dictionary is verified\"\u001b[0m\u001b[1;33m)\u001b[0m\u001b[1;33m\u001b[0m\u001b[1;33m\u001b[0m\u001b[0m\n\u001b[0;32m      3\u001b[0m     \u001b[0mprint\u001b[0m\u001b[1;33m(\u001b[0m\u001b[0mD\u001b[0m\u001b[1;33m.\u001b[0m\u001b[0mvalues\u001b[0m\u001b[1;33m(\u001b[0m\u001b[1;33m)\u001b[0m\u001b[1;33m)\u001b[0m\u001b[1;33m\u001b[0m\u001b[1;33m\u001b[0m\u001b[0m\n\u001b[0;32m      4\u001b[0m     \u001b[0mprint\u001b[0m\u001b[1;33m(\u001b[0m\u001b[0mD\u001b[0m\u001b[1;33m.\u001b[0m\u001b[0mkeys\u001b[0m\u001b[1;33m(\u001b[0m\u001b[1;33m)\u001b[0m\u001b[1;33m)\u001b[0m\u001b[1;33m\u001b[0m\u001b[1;33m\u001b[0m\u001b[0m\n",
      "\u001b[1;31mNameError\u001b[0m: name 'D' is not defined"
     ]
    }
   ],
   "source": [
    "if D['Divesh']=='Data Scientist'or D['Dikshat']=='PUBG' or D['Pappa']=='Fire Man':\n",
    "    print(\"The Dictionary is verified\")\n",
    "    print(D.values())\n",
    "    print(D.keys())    "
   ]
  },
  {
   "cell_type": "markdown",
   "id": "90137dd0",
   "metadata": {},
   "source": [
    "# LOOP "
   ]
  },
  {
   "cell_type": "code",
   "execution_count": 2,
   "id": "abe85b2a",
   "metadata": {},
   "outputs": [],
   "source": [
    "l = [1,2,3,4,'Divesh',234.55]"
   ]
  },
  {
   "cell_type": "code",
   "execution_count": 3,
   "id": "ae6a7e28",
   "metadata": {},
   "outputs": [
    {
     "name": "stdout",
     "output_type": "stream",
     "text": [
      "1\n",
      "2\n",
      "3\n",
      "4\n",
      "Divesh\n",
      "234.55\n"
     ]
    }
   ],
   "source": [
    "for i in l:\n",
    "    print(i)"
   ]
  },
  {
   "cell_type": "code",
   "execution_count": 4,
   "id": "5650c1f3",
   "metadata": {
    "scrolled": true
   },
   "outputs": [
    {
     "name": "stdout",
     "output_type": "stream",
     "text": [
      "2\n",
      "3\n",
      "4\n",
      "5\n"
     ]
    },
    {
     "ename": "TypeError",
     "evalue": "can only concatenate str (not \"int\") to str",
     "output_type": "error",
     "traceback": [
      "\u001b[1;31m---------------------------------------------------------------------------\u001b[0m",
      "\u001b[1;31mTypeError\u001b[0m                                 Traceback (most recent call last)",
      "\u001b[1;32m~\\AppData\\Local\\Temp/ipykernel_15860/949430040.py\u001b[0m in \u001b[0;36m<module>\u001b[1;34m\u001b[0m\n\u001b[0;32m      1\u001b[0m \u001b[1;32mfor\u001b[0m \u001b[0mi\u001b[0m \u001b[1;32min\u001b[0m \u001b[0ml\u001b[0m\u001b[1;33m:\u001b[0m\u001b[1;33m\u001b[0m\u001b[1;33m\u001b[0m\u001b[0m\n\u001b[1;32m----> 2\u001b[1;33m     \u001b[0mprint\u001b[0m\u001b[1;33m(\u001b[0m\u001b[0mi\u001b[0m\u001b[1;33m+\u001b[0m\u001b[1;36m1\u001b[0m\u001b[1;33m)\u001b[0m\u001b[1;33m\u001b[0m\u001b[1;33m\u001b[0m\u001b[0m\n\u001b[0m",
      "\u001b[1;31mTypeError\u001b[0m: can only concatenate str (not \"int\") to str"
     ]
    }
   ],
   "source": [
    "for i in l:\n",
    "    print(i+1)"
   ]
  },
  {
   "cell_type": "code",
   "execution_count": 5,
   "id": "d146d0b3",
   "metadata": {},
   "outputs": [
    {
     "name": "stdout",
     "output_type": "stream",
     "text": [
      "2\n",
      "3\n",
      "4\n",
      "5\n"
     ]
    }
   ],
   "source": [
    "for i in l[0:4]:\n",
    "    print(i+1)"
   ]
  },
  {
   "cell_type": "code",
   "execution_count": 6,
   "id": "e9c47388",
   "metadata": {},
   "outputs": [
    {
     "name": "stdout",
     "output_type": "stream",
     "text": [
      "2\n",
      "3\n",
      "4\n",
      "5\n",
      "Divesh1\n"
     ]
    }
   ],
   "source": [
    "for i in l:\n",
    "    if type(i)== int :\n",
    "        print(i+1)\n",
    "    elif type(i)== str:\n",
    "        print(i+str(1))\n",
    "        "
   ]
  },
  {
   "cell_type": "code",
   "execution_count": 7,
   "id": "fdf9a124",
   "metadata": {},
   "outputs": [
    {
     "name": "stdout",
     "output_type": "stream",
     "text": [
      "2\n",
      "3\n",
      "4\n",
      "5\n",
      "Divesh1\n",
      "235.55\n"
     ]
    }
   ],
   "source": [
    "for i in l:\n",
    "    if type(i)== int or type(i)== float:\n",
    "        print(i+1)\n",
    "    elif type(i)== str:\n",
    "        print(i+str(1))"
   ]
  },
  {
   "cell_type": "code",
   "execution_count": 8,
   "id": "294e988f",
   "metadata": {},
   "outputs": [
    {
     "name": "stdout",
     "output_type": "stream",
     "text": [
      "2\n",
      "3\n",
      "4\n",
      "5\n",
      "Divesh1\n",
      "235.55\n"
     ]
    }
   ],
   "source": [
    "for D in l:\n",
    "    if type(D)== int or type(D)== float:\n",
    "        print(D+1)\n",
    "    elif type(D)== str:\n",
    "        print(D+str(1))"
   ]
  },
  {
   "cell_type": "code",
   "execution_count": 11,
   "id": "71cebc29",
   "metadata": {},
   "outputs": [],
   "source": [
    "l1 = []\n",
    "for D in l:\n",
    "    if type(D) == int:\n",
    "        l1.append(D)"
   ]
  },
  {
   "cell_type": "code",
   "execution_count": 13,
   "id": "a3cbc9d9",
   "metadata": {},
   "outputs": [
    {
     "data": {
      "text/plain": [
       "[1, 2, 3, 4]"
      ]
     },
     "execution_count": 13,
     "metadata": {},
     "output_type": "execute_result"
    }
   ],
   "source": [
    "l1"
   ]
  },
  {
   "cell_type": "code",
   "execution_count": 14,
   "id": "43ce3dd6",
   "metadata": {},
   "outputs": [],
   "source": [
    "l2 = []\n",
    "for i in l :\n",
    "    if type(i) == float:\n",
    "        l2.append(i)"
   ]
  },
  {
   "cell_type": "code",
   "execution_count": 15,
   "id": "037cf653",
   "metadata": {},
   "outputs": [
    {
     "data": {
      "text/plain": [
       "[234.55]"
      ]
     },
     "execution_count": 15,
     "metadata": {},
     "output_type": "execute_result"
    }
   ],
   "source": [
    "l2"
   ]
  },
  {
   "cell_type": "code",
   "execution_count": 19,
   "id": "27d4581e",
   "metadata": {},
   "outputs": [
    {
     "data": {
      "text/plain": [
       "([1, 2, 3, 4, 'Divesh', 234.55], [1, 2, 3, 4], [234.55])"
      ]
     },
     "execution_count": 19,
     "metadata": {},
     "output_type": "execute_result"
    }
   ],
   "source": [
    "l,l1,l2"
   ]
  },
  {
   "cell_type": "code",
   "execution_count": 21,
   "id": "5cfc0dec",
   "metadata": {},
   "outputs": [],
   "source": [
    "l=[1,2,3,4,5,6,\"Divesh\",\"Sudh\"]"
   ]
  },
  {
   "cell_type": "code",
   "execution_count": 22,
   "id": "a036ff9f",
   "metadata": {},
   "outputs": [
    {
     "name": "stdout",
     "output_type": "stream",
     "text": [
      "Divesh\n"
     ]
    }
   ],
   "source": [
    "for i in l:\n",
    "    if type(i)== str:\n",
    "        if i == \"Sudh\":\n",
    "            break\n",
    "        print(i)    "
   ]
  }
 ],
 "metadata": {
  "kernelspec": {
   "display_name": "Python 3 (ipykernel)",
   "language": "python",
   "name": "python3"
  },
  "language_info": {
   "codemirror_mode": {
    "name": "ipython",
    "version": 3
   },
   "file_extension": ".py",
   "mimetype": "text/x-python",
   "name": "python",
   "nbconvert_exporter": "python",
   "pygments_lexer": "ipython3",
   "version": "3.9.7"
  }
 },
 "nbformat": 4,
 "nbformat_minor": 5
}
