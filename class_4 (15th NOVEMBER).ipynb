{
 "cells": [
  {
   "cell_type": "code",
   "execution_count": 98,
   "id": "a0f7cfeb",
   "metadata": {},
   "outputs": [],
   "source": [
    "d=\"divesh99@gmail.com__\""
   ]
  },
  {
   "cell_type": "code",
   "execution_count": 99,
   "id": "b45d74d2",
   "metadata": {},
   "outputs": [
    {
     "data": {
      "text/plain": [
       "str"
      ]
     },
     "execution_count": 99,
     "metadata": {},
     "output_type": "execute_result"
    }
   ],
   "source": [
    "type(d)"
   ]
  },
  {
   "cell_type": "code",
   "execution_count": 100,
   "id": "ce9f52b3",
   "metadata": {},
   "outputs": [
    {
     "data": {
      "text/plain": [
       "'s'"
      ]
     },
     "execution_count": 100,
     "metadata": {},
     "output_type": "execute_result"
    }
   ],
   "source": [
    "d[4]"
   ]
  },
  {
   "cell_type": "code",
   "execution_count": 101,
   "id": "188022bf",
   "metadata": {},
   "outputs": [
    {
     "data": {
      "text/plain": [
       "'@'"
      ]
     },
     "execution_count": 101,
     "metadata": {},
     "output_type": "execute_result"
    }
   ],
   "source": [
    "d[8]"
   ]
  },
  {
   "cell_type": "code",
   "execution_count": 102,
   "id": "bce5740f",
   "metadata": {},
   "outputs": [
    {
     "data": {
      "text/plain": [
       "'o'"
      ]
     },
     "execution_count": 102,
     "metadata": {},
     "output_type": "execute_result"
    }
   ],
   "source": [
    "d[-4]\n"
   ]
  },
  {
   "cell_type": "code",
   "execution_count": 103,
   "id": "df906aa8",
   "metadata": {},
   "outputs": [
    {
     "data": {
      "text/plain": [
       "'m'"
      ]
     },
     "execution_count": 103,
     "metadata": {},
     "output_type": "execute_result"
    }
   ],
   "source": [
    "d[-10]"
   ]
  },
  {
   "cell_type": "code",
   "execution_count": 104,
   "id": "93fe309e",
   "metadata": {},
   "outputs": [],
   "source": [
    "d1='dataSccientist_by_ineuron'"
   ]
  },
  {
   "cell_type": "code",
   "execution_count": 105,
   "id": "2bcf8d21",
   "metadata": {},
   "outputs": [
    {
     "data": {
      "text/plain": [
       "'c'"
      ]
     },
     "execution_count": 105,
     "metadata": {},
     "output_type": "execute_result"
    }
   ],
   "source": [
    "d1[6]"
   ]
  },
  {
   "cell_type": "code",
   "execution_count": 106,
   "id": "a6f46da0",
   "metadata": {},
   "outputs": [
    {
     "data": {
      "text/plain": [
       "'_'"
      ]
     },
     "execution_count": 106,
     "metadata": {},
     "output_type": "execute_result"
    }
   ],
   "source": [
    "d1[-8]"
   ]
  },
  {
   "cell_type": "code",
   "execution_count": 107,
   "id": "e39c646b",
   "metadata": {},
   "outputs": [],
   "source": [
    "d2='i want to become a data scientist'"
   ]
  },
  {
   "cell_type": "code",
   "execution_count": 108,
   "id": "2a63e248",
   "metadata": {},
   "outputs": [
    {
     "data": {
      "text/plain": [
       "'i want to become a data scientist'"
      ]
     },
     "execution_count": 108,
     "metadata": {},
     "output_type": "execute_result"
    }
   ],
   "source": [
    "d2"
   ]
  },
  {
   "cell_type": "code",
   "execution_count": 109,
   "id": "59b425ff",
   "metadata": {},
   "outputs": [],
   "source": [
    "d3=\"There is an high scope for data scientist's\""
   ]
  },
  {
   "cell_type": "code",
   "execution_count": 110,
   "id": "27eb0674",
   "metadata": {},
   "outputs": [
    {
     "data": {
      "text/plain": [
       "\"There is an high scope for data scientist's\""
      ]
     },
     "execution_count": 110,
     "metadata": {},
     "output_type": "execute_result"
    }
   ],
   "source": [
    "d3"
   ]
  },
  {
   "cell_type": "code",
   "execution_count": 111,
   "id": "2a457bf4",
   "metadata": {},
   "outputs": [
    {
     "data": {
      "text/plain": [
       "' '"
      ]
     },
     "execution_count": 111,
     "metadata": {},
     "output_type": "execute_result"
    }
   ],
   "source": [
    "d3[5]"
   ]
  },
  {
   "cell_type": "code",
   "execution_count": 112,
   "id": "af8a2a6d",
   "metadata": {},
   "outputs": [
    {
     "data": {
      "text/plain": [
       "\"scientist's\""
      ]
     },
     "execution_count": 112,
     "metadata": {},
     "output_type": "execute_result"
    }
   ],
   "source": [
    "d3[32:]"
   ]
  },
  {
   "cell_type": "code",
   "execution_count": 113,
   "id": "b018af73",
   "metadata": {},
   "outputs": [
    {
     "data": {
      "text/plain": [
       "\"high scope for data scientist's\""
      ]
     },
     "execution_count": 113,
     "metadata": {},
     "output_type": "execute_result"
    }
   ],
   "source": [
    "d3[12:43]"
   ]
  },
  {
   "cell_type": "code",
   "execution_count": 114,
   "id": "b84a113b",
   "metadata": {},
   "outputs": [
    {
     "data": {
      "text/plain": [
       "'ineuron'"
      ]
     },
     "execution_count": 114,
     "metadata": {},
     "output_type": "execute_result"
    }
   ],
   "source": [
    "d1[18:25]"
   ]
  },
  {
   "cell_type": "code",
   "execution_count": 115,
   "id": "7abf8539",
   "metadata": {},
   "outputs": [],
   "source": [
    "g=\"djyH igt_e.sfh_ -i/s_ 2Grh2a0ndd.u\""
   ]
  },
  {
   "cell_type": "code",
   "execution_count": 116,
   "id": "bc3b0279",
   "metadata": {},
   "outputs": [
    {
     "data": {
      "text/plain": [
       "'Hitesh is Ghandu'"
      ]
     },
     "execution_count": 116,
     "metadata": {},
     "output_type": "execute_result"
    }
   ],
   "source": [
    "g[3:34:2]"
   ]
  },
  {
   "cell_type": "code",
   "execution_count": 117,
   "id": "dcaa0e21",
   "metadata": {},
   "outputs": [],
   "source": [
    "D=\"divesh ankolekar\""
   ]
  },
  {
   "cell_type": "code",
   "execution_count": 118,
   "id": "da4cdf8e",
   "metadata": {},
   "outputs": [
    {
     "data": {
      "text/plain": [
       "'na hsevi'"
      ]
     },
     "execution_count": 118,
     "metadata": {},
     "output_type": "execute_result"
    }
   ],
   "source": [
    "D[8:0:-1]"
   ]
  },
  {
   "cell_type": "markdown",
   "id": "d16c4e66",
   "metadata": {},
   "source": []
  },
  {
   "cell_type": "code",
   "execution_count": 119,
   "id": "ff1e520d",
   "metadata": {},
   "outputs": [
    {
     "data": {
      "text/plain": [
       "'on sv'"
      ]
     },
     "execution_count": 119,
     "metadata": {},
     "output_type": "execute_result"
    }
   ],
   "source": [
    "D[10:0:-2]"
   ]
  },
  {
   "cell_type": "code",
   "execution_count": 120,
   "id": "ce0dbb7a",
   "metadata": {},
   "outputs": [
    {
     "data": {
      "text/plain": [
       "'divesh'"
      ]
     },
     "execution_count": 120,
     "metadata": {},
     "output_type": "execute_result"
    }
   ],
   "source": [
    "D[:-10]"
   ]
  },
  {
   "cell_type": "code",
   "execution_count": 121,
   "id": "f295f769",
   "metadata": {},
   "outputs": [],
   "source": [
    "A=\"ABCDEFGHIJK\""
   ]
  },
  {
   "cell_type": "code",
   "execution_count": 122,
   "id": "cad5ddbb",
   "metadata": {},
   "outputs": [
    {
     "data": {
      "text/plain": [
       "'KIGECA'"
      ]
     },
     "execution_count": 122,
     "metadata": {},
     "output_type": "execute_result"
    }
   ],
   "source": [
    "A[::-2]"
   ]
  },
  {
   "cell_type": "code",
   "execution_count": 123,
   "id": "5d5f8364",
   "metadata": {},
   "outputs": [],
   "source": [
    "DA=\"I WANT TO BE A DATA SCIENTIST\""
   ]
  },
  {
   "cell_type": "code",
   "execution_count": 124,
   "id": "3bef38ff",
   "metadata": {},
   "outputs": [
    {
     "data": {
      "text/plain": [
       "'TSITNEICS ATAD A EB OT TNAW I'"
      ]
     },
     "execution_count": 124,
     "metadata": {},
     "output_type": "execute_result"
    }
   ],
   "source": [
    "DA[::-1]"
   ]
  },
  {
   "cell_type": "code",
   "execution_count": 125,
   "id": "e3aebce3",
   "metadata": {},
   "outputs": [
    {
     "data": {
      "text/plain": [
       "'WN OB  AASINIT'"
      ]
     },
     "execution_count": 125,
     "metadata": {},
     "output_type": "execute_result"
    }
   ],
   "source": [
    " DA[2::2]"
   ]
  },
  {
   "cell_type": "code",
   "execution_count": 126,
   "id": "f26369db",
   "metadata": {},
   "outputs": [
    {
     "data": {
      "text/plain": [
       "'I WANT TO BE A DATA S'"
      ]
     },
     "execution_count": 126,
     "metadata": {},
     "output_type": "execute_result"
    }
   ],
   "source": [
    "DA[:-8:]"
   ]
  },
  {
   "cell_type": "code",
   "execution_count": 127,
   "id": "7158af10",
   "metadata": {},
   "outputs": [
    {
     "data": {
      "text/plain": [
       "'C'"
      ]
     },
     "execution_count": 127,
     "metadata": {},
     "output_type": "execute_result"
    }
   ],
   "source": [
    "DA[-8:-6:2]"
   ]
  },
  {
   "cell_type": "code",
   "execution_count": 128,
   "id": "0577d6eb",
   "metadata": {},
   "outputs": [
    {
     "data": {
      "text/plain": [
       "''"
      ]
     },
     "execution_count": 128,
     "metadata": {},
     "output_type": "execute_result"
    }
   ],
   "source": [
    "DA[-11:-16:1]"
   ]
  },
  {
   "cell_type": "code",
   "execution_count": 129,
   "id": "b3a9be30",
   "metadata": {},
   "outputs": [],
   "source": [
    "C=\"Hey Ineuron\""
   ]
  },
  {
   "cell_type": "code",
   "execution_count": 130,
   "id": "de17a51a",
   "metadata": {},
   "outputs": [
    {
     "data": {
      "text/plain": [
       "'noruenI yeH'"
      ]
     },
     "execution_count": 130,
     "metadata": {},
     "output_type": "execute_result"
    }
   ],
   "source": [
    "C[-1::-1]"
   ]
  },
  {
   "cell_type": "code",
   "execution_count": 131,
   "id": "3e619abd",
   "metadata": {},
   "outputs": [
    {
     "data": {
      "text/plain": [
       "'noruenI yeH'"
      ]
     },
     "execution_count": 131,
     "metadata": {},
     "output_type": "execute_result"
    }
   ],
   "source": [
    "C[::-1]"
   ]
  },
  {
   "cell_type": "code",
   "execution_count": 132,
   "id": "7cdf6f29",
   "metadata": {},
   "outputs": [
    {
     "data": {
      "text/plain": [
       "'Hey Ineuron'"
      ]
     },
     "execution_count": 132,
     "metadata": {},
     "output_type": "execute_result"
    }
   ],
   "source": [
    "C[::1]"
   ]
  },
  {
   "cell_type": "code",
   "execution_count": 133,
   "id": "1d465140",
   "metadata": {},
   "outputs": [
    {
     "ename": "TypeError",
     "evalue": "can only concatenate str (not \"int\") to str",
     "output_type": "error",
     "traceback": [
      "\u001b[1;31m---------------------------------------------------------------------------\u001b[0m",
      "\u001b[1;31mTypeError\u001b[0m                                 Traceback (most recent call last)",
      "\u001b[1;32m~\\AppData\\Local\\Temp/ipykernel_23660/1131456752.py\u001b[0m in \u001b[0;36m<module>\u001b[1;34m\u001b[0m\n\u001b[1;32m----> 1\u001b[1;33m \u001b[0md\u001b[0m\u001b[1;33m+\u001b[0m\u001b[1;36m1\u001b[0m\u001b[1;33m\u001b[0m\u001b[1;33m\u001b[0m\u001b[0m\n\u001b[0m",
      "\u001b[1;31mTypeError\u001b[0m: can only concatenate str (not \"int\") to str"
     ]
    }
   ],
   "source": [
    "d+1"
   ]
  },
  {
   "cell_type": "code",
   "execution_count": 134,
   "id": "48d0bf89",
   "metadata": {},
   "outputs": [
    {
     "data": {
      "text/plain": [
       "'divesh99@gmail.com__1'"
      ]
     },
     "execution_count": 134,
     "metadata": {},
     "output_type": "execute_result"
    }
   ],
   "source": [
    "d+\"1\""
   ]
  },
  {
   "cell_type": "code",
   "execution_count": 135,
   "id": "69384c7b",
   "metadata": {},
   "outputs": [
    {
     "data": {
      "text/plain": [
       "'divesh99@gmail.com___99'"
      ]
     },
     "execution_count": 135,
     "metadata": {},
     "output_type": "execute_result"
    }
   ],
   "source": [
    "d+\"_99\""
   ]
  },
  {
   "cell_type": "code",
   "execution_count": 136,
   "id": "433d01e1",
   "metadata": {},
   "outputs": [
    {
     "data": {
      "text/plain": [
       "'divesh99@gmail.com__divesh99@gmail.com__'"
      ]
     },
     "execution_count": 136,
     "metadata": {},
     "output_type": "execute_result"
    }
   ],
   "source": [
    "d*2"
   ]
  },
  {
   "cell_type": "code",
   "execution_count": 137,
   "id": "2c7e8c6d",
   "metadata": {},
   "outputs": [
    {
     "data": {
      "text/plain": [
       "'divesh99@gmail.com__divesh99@gmail.com__divesh99@gmail.com__divesh99@gmail.com__divesh99@gmail.com__divesh99@gmail.com__divesh99@gmail.com__divesh99@gmail.com__divesh99@gmail.com__divesh99@gmail.com__'"
      ]
     },
     "execution_count": 137,
     "metadata": {},
     "output_type": "execute_result"
    }
   ],
   "source": [
    "d*10"
   ]
  },
  {
   "cell_type": "code",
   "execution_count": 140,
   "id": "302cf76a",
   "metadata": {},
   "outputs": [
    {
     "data": {
      "text/plain": [
       "'divesh172641531741274'"
      ]
     },
     "execution_count": 140,
     "metadata": {},
     "output_type": "execute_result"
    }
   ],
   "source": [
    "\"divesh\"+\"172641531741274\""
   ]
  },
  {
   "cell_type": "code",
   "execution_count": 142,
   "id": "8e462bad",
   "metadata": {},
   "outputs": [
    {
     "data": {
      "text/plain": [
       "20"
      ]
     },
     "execution_count": 142,
     "metadata": {},
     "output_type": "execute_result"
    }
   ],
   "source": [
    "len(d)"
   ]
  },
  {
   "cell_type": "code",
   "execution_count": 143,
   "id": "83c22a3c",
   "metadata": {},
   "outputs": [
    {
     "data": {
      "text/plain": [
       "16"
      ]
     },
     "execution_count": 143,
     "metadata": {},
     "output_type": "execute_result"
    }
   ],
   "source": [
    "len(D)"
   ]
  },
  {
   "cell_type": "code",
   "execution_count": 144,
   "id": "0d3d340c",
   "metadata": {},
   "outputs": [],
   "source": [
    "V=\"Divesh ankolekar\""
   ]
  },
  {
   "cell_type": "code",
   "execution_count": 146,
   "id": "61895746",
   "metadata": {},
   "outputs": [
    {
     "data": {
      "text/plain": [
       "16"
      ]
     },
     "execution_count": 146,
     "metadata": {},
     "output_type": "execute_result"
    }
   ],
   "source": [
    "len(V)"
   ]
  },
  {
   "cell_type": "code",
   "execution_count": 147,
   "id": "9a4e882f",
   "metadata": {},
   "outputs": [
    {
     "data": {
      "text/plain": [
       "'divesh ankolekar'"
      ]
     },
     "execution_count": 147,
     "metadata": {},
     "output_type": "execute_result"
    }
   ],
   "source": [
    "D"
   ]
  },
  {
   "cell_type": "code",
   "execution_count": 151,
   "id": "d01a6d6c",
   "metadata": {},
   "outputs": [
    {
     "data": {
      "text/plain": [
       "1"
      ]
     },
     "execution_count": 151,
     "metadata": {},
     "output_type": "execute_result"
    }
   ],
   "source": [
    "V.count('i')"
   ]
  },
  {
   "cell_type": "code",
   "execution_count": 152,
   "id": "47ce7bb0",
   "metadata": {},
   "outputs": [
    {
     "data": {
      "text/plain": [
       "2"
      ]
     },
     "execution_count": 152,
     "metadata": {},
     "output_type": "execute_result"
    }
   ],
   "source": [
    "D.count(\"e\")"
   ]
  },
  {
   "cell_type": "code",
   "execution_count": 153,
   "id": "7ae4e7c3",
   "metadata": {},
   "outputs": [
    {
     "data": {
      "text/plain": [
       "1"
      ]
     },
     "execution_count": 153,
     "metadata": {},
     "output_type": "execute_result"
    }
   ],
   "source": [
    "D.count('ank')"
   ]
  },
  {
   "cell_type": "code",
   "execution_count": 154,
   "id": "b27a5217",
   "metadata": {},
   "outputs": [
    {
     "data": {
      "text/plain": [
       "['divesh ', 'nkolek', 'r']"
      ]
     },
     "execution_count": 154,
     "metadata": {},
     "output_type": "execute_result"
    }
   ],
   "source": [
    "D.split('a')"
   ]
  },
  {
   "cell_type": "code",
   "execution_count": 155,
   "id": "779055b6",
   "metadata": {},
   "outputs": [
    {
     "data": {
      "text/plain": [
       "['di', 'esh ankolekar']"
      ]
     },
     "execution_count": 155,
     "metadata": {},
     "output_type": "execute_result"
    }
   ],
   "source": [
    "D.split('v')"
   ]
  },
  {
   "cell_type": "code",
   "execution_count": 167,
   "id": "a142cd29",
   "metadata": {},
   "outputs": [],
   "source": [
    "dw=\"\"\"Data science is an interdisciplinary field that uses scientific methods, processes, algorithms and systems to extract knowledge and insights from noisy, structured and unstructured data,[1][2] and apply knowledge from data across a broad range of application domains. Data science is related to data mining, machine learning and big data.[3]\n",
    "\n",
    "Data science is a \"concept to unify statistics, data analysis, informatics, and their related methods\" in order to \"understand and analyse actual phenomena\" with data.[4] It uses techniques and theories drawn from many fields within the context of mathematics, statistics, computer science, information science, and domain knowledge.[3] However, data science is different from computer science and information science. Turing Award winner Jim Gray imagined data science as a \"fourth paradigm\" of science (empirical, theoretical, computational, and now data-driven) and asserted that \"everything about science is changing because of the impact of information technology\" and the data deluge.[5][6]\n",
    "\n",
    "A data scientist is someone who creates programming code and combines it with statistical knowledge to create insights from data.[7]\"\"\"\n",
    "\n"
   ]
  },
  {
   "cell_type": "code",
   "execution_count": 168,
   "id": "0d03b030",
   "metadata": {},
   "outputs": [
    {
     "data": {
      "text/plain": [
       "'Data science is an interdisciplinary field that uses scientific methods, processes, algorithms and systems to extract knowledge and insights from noisy, structured and unstructured data,[1][2] and apply knowledge from data across a broad range of application domains. Data science is related to data mining, machine learning and big data.[3]\\n\\nData science is a \"concept to unify statistics, data analysis, informatics, and their related methods\" in order to \"understand and analyse actual phenomena\" with data.[4] It uses techniques and theories drawn from many fields within the context of mathematics, statistics, computer science, information science, and domain knowledge.[3] However, data science is different from computer science and information science. Turing Award winner Jim Gray imagined data science as a \"fourth paradigm\" of science (empirical, theoretical, computational, and now data-driven) and asserted that \"everything about science is changing because of the impact of information technology\" and the data deluge.[5][6]\\n\\nA data scientist is someone who creates programming code and combines it with statistical knowledge to create insights from data.[7]'"
      ]
     },
     "execution_count": 168,
     "metadata": {},
     "output_type": "execute_result"
    }
   ],
   "source": [
    "dw"
   ]
  },
  {
   "cell_type": "code",
   "execution_count": 169,
   "id": "31cf047e",
   "metadata": {},
   "outputs": [
    {
     "data": {
      "text/plain": [
       "['Data',\n",
       " 'science',\n",
       " 'is',\n",
       " 'an',\n",
       " 'interdisciplinary',\n",
       " 'field',\n",
       " 'that',\n",
       " 'uses',\n",
       " 'scientific',\n",
       " 'methods,',\n",
       " 'processes,',\n",
       " 'algorithms',\n",
       " 'and',\n",
       " 'systems',\n",
       " 'to',\n",
       " 'extract',\n",
       " 'knowledge',\n",
       " 'and',\n",
       " 'insights',\n",
       " 'from',\n",
       " 'noisy,',\n",
       " 'structured',\n",
       " 'and',\n",
       " 'unstructured',\n",
       " 'data,[1][2]',\n",
       " 'and',\n",
       " 'apply',\n",
       " 'knowledge',\n",
       " 'from',\n",
       " 'data',\n",
       " 'across',\n",
       " 'a',\n",
       " 'broad',\n",
       " 'range',\n",
       " 'of',\n",
       " 'application',\n",
       " 'domains.',\n",
       " 'Data',\n",
       " 'science',\n",
       " 'is',\n",
       " 'related',\n",
       " 'to',\n",
       " 'data',\n",
       " 'mining,',\n",
       " 'machine',\n",
       " 'learning',\n",
       " 'and',\n",
       " 'big',\n",
       " 'data.[3]',\n",
       " 'Data',\n",
       " 'science',\n",
       " 'is',\n",
       " 'a',\n",
       " '\"concept',\n",
       " 'to',\n",
       " 'unify',\n",
       " 'statistics,',\n",
       " 'data',\n",
       " 'analysis,',\n",
       " 'informatics,',\n",
       " 'and',\n",
       " 'their',\n",
       " 'related',\n",
       " 'methods\"',\n",
       " 'in',\n",
       " 'order',\n",
       " 'to',\n",
       " '\"understand',\n",
       " 'and',\n",
       " 'analyse',\n",
       " 'actual',\n",
       " 'phenomena\"',\n",
       " 'with',\n",
       " 'data.[4]',\n",
       " 'It',\n",
       " 'uses',\n",
       " 'techniques',\n",
       " 'and',\n",
       " 'theories',\n",
       " 'drawn',\n",
       " 'from',\n",
       " 'many',\n",
       " 'fields',\n",
       " 'within',\n",
       " 'the',\n",
       " 'context',\n",
       " 'of',\n",
       " 'mathematics,',\n",
       " 'statistics,',\n",
       " 'computer',\n",
       " 'science,',\n",
       " 'information',\n",
       " 'science,',\n",
       " 'and',\n",
       " 'domain',\n",
       " 'knowledge.[3]',\n",
       " 'However,',\n",
       " 'data',\n",
       " 'science',\n",
       " 'is',\n",
       " 'different',\n",
       " 'from',\n",
       " 'computer',\n",
       " 'science',\n",
       " 'and',\n",
       " 'information',\n",
       " 'science.',\n",
       " 'Turing',\n",
       " 'Award',\n",
       " 'winner',\n",
       " 'Jim',\n",
       " 'Gray',\n",
       " 'imagined',\n",
       " 'data',\n",
       " 'science',\n",
       " 'as',\n",
       " 'a',\n",
       " '\"fourth',\n",
       " 'paradigm\"',\n",
       " 'of',\n",
       " 'science',\n",
       " '(empirical,',\n",
       " 'theoretical,',\n",
       " 'computational,',\n",
       " 'and',\n",
       " 'now',\n",
       " 'data-driven)',\n",
       " 'and',\n",
       " 'asserted',\n",
       " 'that',\n",
       " '\"everything',\n",
       " 'about',\n",
       " 'science',\n",
       " 'is',\n",
       " 'changing',\n",
       " 'because',\n",
       " 'of',\n",
       " 'the',\n",
       " 'impact',\n",
       " 'of',\n",
       " 'information',\n",
       " 'technology\"',\n",
       " 'and',\n",
       " 'the',\n",
       " 'data',\n",
       " 'deluge.[5][6]',\n",
       " 'A',\n",
       " 'data',\n",
       " 'scientist',\n",
       " 'is',\n",
       " 'someone',\n",
       " 'who',\n",
       " 'creates',\n",
       " 'programming',\n",
       " 'code',\n",
       " 'and',\n",
       " 'combines',\n",
       " 'it',\n",
       " 'with',\n",
       " 'statistical',\n",
       " 'knowledge',\n",
       " 'to',\n",
       " 'create',\n",
       " 'insights',\n",
       " 'from',\n",
       " 'data.[7]']"
      ]
     },
     "execution_count": 169,
     "metadata": {},
     "output_type": "execute_result"
    }
   ],
   "source": [
    "dw.split( )"
   ]
  },
  {
   "cell_type": "code",
   "execution_count": 173,
   "id": "6fc9ad2c",
   "metadata": {},
   "outputs": [
    {
     "data": {
      "text/plain": [
       "'systems to extract knowledge and insights from noisy, structured and unstructured data,'"
      ]
     },
     "execution_count": 173,
     "metadata": {},
     "output_type": "execute_result"
    }
   ],
   "source": [
    "dw[99:186]"
   ]
  },
  {
   "cell_type": "code",
   "execution_count": 174,
   "id": "3525f452",
   "metadata": {},
   "outputs": [
    {
     "data": {
      "text/plain": [
       "'DATA SCIENCE IS AN INTERDISCIPLINARY FIELD THAT USES SCIENTIFIC METHODS, PROCESSES, ALGORITHMS AND SYSTEMS TO EXTRACT KNOWLEDGE AND INSIGHTS FROM NOISY, STRUCTURED AND UNSTRUCTURED DATA,[1][2] AND APPLY KNOWLEDGE FROM DATA ACROSS A BROAD RANGE OF APPLICATION DOMAINS. DATA SCIENCE IS RELATED TO DATA MINING, MACHINE LEARNING AND BIG DATA.[3]\\n\\nDATA SCIENCE IS A \"CONCEPT TO UNIFY STATISTICS, DATA ANALYSIS, INFORMATICS, AND THEIR RELATED METHODS\" IN ORDER TO \"UNDERSTAND AND ANALYSE ACTUAL PHENOMENA\" WITH DATA.[4] IT USES TECHNIQUES AND THEORIES DRAWN FROM MANY FIELDS WITHIN THE CONTEXT OF MATHEMATICS, STATISTICS, COMPUTER SCIENCE, INFORMATION SCIENCE, AND DOMAIN KNOWLEDGE.[3] HOWEVER, DATA SCIENCE IS DIFFERENT FROM COMPUTER SCIENCE AND INFORMATION SCIENCE. TURING AWARD WINNER JIM GRAY IMAGINED DATA SCIENCE AS A \"FOURTH PARADIGM\" OF SCIENCE (EMPIRICAL, THEORETICAL, COMPUTATIONAL, AND NOW DATA-DRIVEN) AND ASSERTED THAT \"EVERYTHING ABOUT SCIENCE IS CHANGING BECAUSE OF THE IMPACT OF INFORMATION TECHNOLOGY\" AND THE DATA DELUGE.[5][6]\\n\\nA DATA SCIENTIST IS SOMEONE WHO CREATES PROGRAMMING CODE AND COMBINES IT WITH STATISTICAL KNOWLEDGE TO CREATE INSIGHTS FROM DATA.[7]'"
      ]
     },
     "execution_count": 174,
     "metadata": {},
     "output_type": "execute_result"
    }
   ],
   "source": [
    "dw.upper()"
   ]
  },
  {
   "cell_type": "code",
   "execution_count": 175,
   "id": "3d22b4c8",
   "metadata": {},
   "outputs": [
    {
     "data": {
      "text/plain": [
       "'data science is an interdisciplinary field that uses scientific methods, processes, algorithms and systems to extract knowledge and insights from noisy, structured and unstructured data,[1][2] and apply knowledge from data across a broad range of application domains. data science is related to data mining, machine learning and big data.[3]\\n\\ndata science is a \"concept to unify statistics, data analysis, informatics, and their related methods\" in order to \"understand and analyse actual phenomena\" with data.[4] it uses techniques and theories drawn from many fields within the context of mathematics, statistics, computer science, information science, and domain knowledge.[3] however, data science is different from computer science and information science. turing award winner jim gray imagined data science as a \"fourth paradigm\" of science (empirical, theoretical, computational, and now data-driven) and asserted that \"everything about science is changing because of the impact of information technology\" and the data deluge.[5][6]\\n\\na data scientist is someone who creates programming code and combines it with statistical knowledge to create insights from data.[7]'"
      ]
     },
     "execution_count": 175,
     "metadata": {},
     "output_type": "execute_result"
    }
   ],
   "source": [
    "dw.lower()"
   ]
  },
  {
   "cell_type": "code",
   "execution_count": 176,
   "id": "506902b4",
   "metadata": {},
   "outputs": [
    {
     "data": {
      "text/plain": [
       "'Data science is an interdisciplinary field that uses scientific methods, processes, algorithms and systems to extract knowledge and insights from noisy, structured and unstructured data,[1][2] and apply knowledge from data across a broad range of application domains. Data science is related to data mining, machine learning and big data.[3]\\n\\nData science is a \"concept to unify statistics, data analysis, informatics, and their related methods\" in order to \"understand and analyse actual phenomena\" with data.[4] It uses techniques and theories drawn from many fields within the context of mathematics, statistics, computer science, information science, and domain knowledge.[3] However, data science is different from computer science and information science. Turing Award winner Jim Gray imagined data science as a \"fourth paradigm\" of science (empirical, theoretical, computational, and now data-driven) and asserted that \"everything about science is changing because of the impact of information technology\" and the data deluge.[5][6]\\n\\nA data scientist is someone who creates programming code and combines it with statistical knowledge to create insights from data.[7]'"
      ]
     },
     "execution_count": 176,
     "metadata": {},
     "output_type": "execute_result"
    }
   ],
   "source": [
    "dw"
   ]
  },
  {
   "cell_type": "markdown",
   "id": "d58e4b02",
   "metadata": {},
   "source": [
    "# title function"
   ]
  },
  {
   "cell_type": "code",
   "execution_count": 177,
   "id": "04c27ad4",
   "metadata": {},
   "outputs": [],
   "source": [
    "DA=\"divesh ankolekar\""
   ]
  },
  {
   "cell_type": "code",
   "execution_count": 178,
   "id": "705ac24a",
   "metadata": {},
   "outputs": [
    {
     "data": {
      "text/plain": [
       "'Divesh Ankolekar'"
      ]
     },
     "execution_count": 178,
     "metadata": {},
     "output_type": "execute_result"
    }
   ],
   "source": [
    "DA.title()"
   ]
  },
  {
   "cell_type": "markdown",
   "id": "ce2bb048",
   "metadata": {},
   "source": [
    "# capitalize function"
   ]
  },
  {
   "cell_type": "code",
   "execution_count": 179,
   "id": "8436c11a",
   "metadata": {},
   "outputs": [
    {
     "data": {
      "text/plain": [
       "'Divesh ankolekar'"
      ]
     },
     "execution_count": 179,
     "metadata": {},
     "output_type": "execute_result"
    }
   ],
   "source": [
    "DA.capitalize()"
   ]
  },
  {
   "cell_type": "markdown",
   "id": "363080da",
   "metadata": {},
   "source": [
    "# swapcase function"
   ]
  },
  {
   "cell_type": "code",
   "execution_count": 181,
   "id": "88a2cdd6",
   "metadata": {},
   "outputs": [],
   "source": [
    "DB=\"DivesH aNKOLEKAr\""
   ]
  },
  {
   "cell_type": "code",
   "execution_count": 182,
   "id": "df9ab632",
   "metadata": {},
   "outputs": [
    {
     "data": {
      "text/plain": [
       "'dIVESh AnkolekaR'"
      ]
     },
     "execution_count": 182,
     "metadata": {},
     "output_type": "execute_result"
    }
   ],
   "source": [
    "DB.swapcase()"
   ]
  },
  {
   "cell_type": "code",
   "execution_count": 183,
   "id": "f18b7e6d",
   "metadata": {},
   "outputs": [
    {
     "data": {
      "text/plain": [
       "'rAKELOKNa HseviD'"
      ]
     },
     "execution_count": 183,
     "metadata": {},
     "output_type": "execute_result"
    }
   ],
   "source": [
    "''.join(reversed(DB))"
   ]
  },
  {
   "cell_type": "code",
   "execution_count": 184,
   "id": "359c9b63",
   "metadata": {},
   "outputs": [
    {
     "data": {
      "text/plain": [
       "'rAKELOKNa HseviD'"
      ]
     },
     "execution_count": 184,
     "metadata": {},
     "output_type": "execute_result"
    }
   ],
   "source": [
    "DB[::-1]"
   ]
  },
  {
   "cell_type": "markdown",
   "id": "67826b57",
   "metadata": {},
   "source": [
    "# strip function"
   ]
  },
  {
   "cell_type": "code",
   "execution_count": 185,
   "id": "6eea175d",
   "metadata": {},
   "outputs": [],
   "source": [
    "s=\"  divesh  \""
   ]
  },
  {
   "cell_type": "code",
   "execution_count": 186,
   "id": "429d7c9c",
   "metadata": {},
   "outputs": [
    {
     "data": {
      "text/plain": [
       "'divesh'"
      ]
     },
     "execution_count": 186,
     "metadata": {},
     "output_type": "execute_result"
    }
   ],
   "source": [
    "s.strip()"
   ]
  },
  {
   "cell_type": "code",
   "execution_count": 189,
   "id": "49e84dd2",
   "metadata": {},
   "outputs": [],
   "source": [
    "s1=\"  div  esh  \""
   ]
  },
  {
   "cell_type": "markdown",
   "id": "028f354f",
   "metadata": {},
   "source": [
    "# s1.strip()"
   ]
  },
  {
   "cell_type": "code",
   "execution_count": 191,
   "id": "dacfa9c5",
   "metadata": {},
   "outputs": [
    {
     "data": {
      "text/plain": [
       "'div  esh  '"
      ]
     },
     "execution_count": 191,
     "metadata": {},
     "output_type": "execute_result"
    }
   ],
   "source": [
    "s.lstrip()"
   ]
  },
  {
   "cell_type": "code",
   "execution_count": 200,
   "id": "fed4cb56",
   "metadata": {},
   "outputs": [
    {
     "data": {
      "text/plain": [
       "'  div  esh'"
      ]
     },
     "execution_count": 200,
     "metadata": {},
     "output_type": "execute_result"
    }
   ],
   "source": [
    "s.rstrip()"
   ]
  },
  {
   "cell_type": "code",
   "execution_count": 201,
   "id": "0ae37b4b",
   "metadata": {},
   "outputs": [
    {
     "data": {
      "text/plain": [
       "'d i v e s h'"
      ]
     },
     "execution_count": 201,
     "metadata": {},
     "output_type": "execute_result"
    }
   ],
   "source": [
    "\" \".join(\"divesh\")"
   ]
  },
  {
   "cell_type": "code",
   "execution_count": 202,
   "id": "11308189",
   "metadata": {},
   "outputs": [
    {
     "data": {
      "text/plain": [
       "'d9a9t9a9s9c9i9e9n9c9e'"
      ]
     },
     "execution_count": 202,
     "metadata": {},
     "output_type": "execute_result"
    }
   ],
   "source": [
    "\"9\".join('datascience')"
   ]
  },
  {
   "cell_type": "markdown",
   "id": "9467a3f0",
   "metadata": {},
   "source": [
    "# center function"
   ]
  },
  {
   "cell_type": "code",
   "execution_count": 203,
   "id": "b4c6bd20",
   "metadata": {},
   "outputs": [
    {
     "data": {
      "text/plain": [
       "'ZZdivesh ankolekarZZ'"
      ]
     },
     "execution_count": 203,
     "metadata": {},
     "output_type": "execute_result"
    }
   ],
   "source": [
    "DA.center(20,'Z')"
   ]
  },
  {
   "cell_type": "code",
   "execution_count": 204,
   "id": "0433367a",
   "metadata": {},
   "outputs": [
    {
     "data": {
      "text/plain": [
       "'#################divesh ankolekar#################'"
      ]
     },
     "execution_count": 204,
     "metadata": {},
     "output_type": "execute_result"
    }
   ],
   "source": [
    "DA.center(50,'#')"
   ]
  },
  {
   "cell_type": "markdown",
   "id": "6aba5279",
   "metadata": {},
   "source": [
    "# TRUE or FALSE"
   ]
  },
  {
   "cell_type": "code",
   "execution_count": 205,
   "id": "53104cbe",
   "metadata": {},
   "outputs": [
    {
     "data": {
      "text/plain": [
       "'divesh ankolekar'"
      ]
     },
     "execution_count": 205,
     "metadata": {},
     "output_type": "execute_result"
    }
   ],
   "source": [
    "D"
   ]
  },
  {
   "cell_type": "code",
   "execution_count": 207,
   "id": "06a83f23",
   "metadata": {},
   "outputs": [],
   "source": [
    "ds=\"DIVESH\""
   ]
  },
  {
   "cell_type": "code",
   "execution_count": 209,
   "id": "a9976c64",
   "metadata": {},
   "outputs": [
    {
     "data": {
      "text/plain": [
       "False"
      ]
     },
     "execution_count": 209,
     "metadata": {},
     "output_type": "execute_result"
    }
   ],
   "source": [
    "ds.islower()"
   ]
  },
  {
   "cell_type": "code",
   "execution_count": 210,
   "id": "f419263d",
   "metadata": {},
   "outputs": [
    {
     "data": {
      "text/plain": [
       "True"
      ]
     },
     "execution_count": 210,
     "metadata": {},
     "output_type": "execute_result"
    }
   ],
   "source": [
    "ds.isupper()"
   ]
  },
  {
   "cell_type": "code",
   "execution_count": 211,
   "id": "10324750",
   "metadata": {},
   "outputs": [],
   "source": [
    "de='divesh'"
   ]
  },
  {
   "cell_type": "code",
   "execution_count": 212,
   "id": "a7d2fafa",
   "metadata": {},
   "outputs": [
    {
     "data": {
      "text/plain": [
       "True"
      ]
     },
     "execution_count": 212,
     "metadata": {},
     "output_type": "execute_result"
    }
   ],
   "source": [
    "de.islower()"
   ]
  },
  {
   "cell_type": "code",
   "execution_count": 213,
   "id": "08362806",
   "metadata": {},
   "outputs": [],
   "source": [
    "R=\"12345\""
   ]
  },
  {
   "cell_type": "code",
   "execution_count": 214,
   "id": "4a737b25",
   "metadata": {},
   "outputs": [
    {
     "data": {
      "text/plain": [
       "True"
      ]
     },
     "execution_count": 214,
     "metadata": {},
     "output_type": "execute_result"
    }
   ],
   "source": [
    "R.isdigit()"
   ]
  },
  {
   "cell_type": "code",
   "execution_count": 217,
   "id": "162db3a5",
   "metadata": {},
   "outputs": [],
   "source": [
    "r='ywt412rgww'"
   ]
  },
  {
   "cell_type": "code",
   "execution_count": 218,
   "id": "6097bdb8",
   "metadata": {},
   "outputs": [
    {
     "data": {
      "text/plain": [
       "False"
      ]
     },
     "execution_count": 218,
     "metadata": {},
     "output_type": "execute_result"
    }
   ],
   "source": [
    "r.isdigit()"
   ]
  },
  {
   "cell_type": "code",
   "execution_count": 219,
   "id": "3c573980",
   "metadata": {},
   "outputs": [],
   "source": [
    "t=\"    \""
   ]
  },
  {
   "cell_type": "code",
   "execution_count": 220,
   "id": "e75373dd",
   "metadata": {},
   "outputs": [
    {
     "data": {
      "text/plain": [
       "True"
      ]
     },
     "execution_count": 220,
     "metadata": {},
     "output_type": "execute_result"
    }
   ],
   "source": [
    "t.isspace()"
   ]
  },
  {
   "cell_type": "code",
   "execution_count": 221,
   "id": "5b59f62e",
   "metadata": {},
   "outputs": [
    {
     "data": {
      "text/plain": [
       "False"
      ]
     },
     "execution_count": 221,
     "metadata": {},
     "output_type": "execute_result"
    }
   ],
   "source": [
    "t.isdigit()"
   ]
  },
  {
   "cell_type": "code",
   "execution_count": 224,
   "id": "72dcd5b9",
   "metadata": {},
   "outputs": [
    {
     "data": {
      "text/plain": [
       "'divesh ankolekar'"
      ]
     },
     "execution_count": 224,
     "metadata": {},
     "output_type": "execute_result"
    }
   ],
   "source": [
    "D"
   ]
  },
  {
   "cell_type": "code",
   "execution_count": 225,
   "id": "c6fca3ca",
   "metadata": {},
   "outputs": [
    {
     "data": {
      "text/plain": [
       "False"
      ]
     },
     "execution_count": 225,
     "metadata": {},
     "output_type": "execute_result"
    }
   ],
   "source": [
    "D.isalnum()"
   ]
  },
  {
   "cell_type": "code",
   "execution_count": 226,
   "id": "2be91b71",
   "metadata": {},
   "outputs": [],
   "source": [
    "e='Divesh'"
   ]
  },
  {
   "cell_type": "code",
   "execution_count": 227,
   "id": "9cee66fb",
   "metadata": {},
   "outputs": [
    {
     "data": {
      "text/plain": [
       "True"
      ]
     },
     "execution_count": 227,
     "metadata": {},
     "output_type": "execute_result"
    }
   ],
   "source": [
    "e.isalnum()"
   ]
  },
  {
   "cell_type": "code",
   "execution_count": 228,
   "id": "ab43038c",
   "metadata": {},
   "outputs": [],
   "source": [
    "x='diveshankolekar'"
   ]
  },
  {
   "cell_type": "code",
   "execution_count": 229,
   "id": "f05bded5",
   "metadata": {},
   "outputs": [
    {
     "data": {
      "text/plain": [
       "True"
      ]
     },
     "execution_count": 229,
     "metadata": {},
     "output_type": "execute_result"
    }
   ],
   "source": [
    "x.isalnum()"
   ]
  },
  {
   "cell_type": "code",
   "execution_count": 230,
   "id": "c3810878",
   "metadata": {},
   "outputs": [
    {
     "data": {
      "text/plain": [
       "True"
      ]
     },
     "execution_count": 230,
     "metadata": {},
     "output_type": "execute_result"
    }
   ],
   "source": [
    "e.isalpha()"
   ]
  },
  {
   "cell_type": "code",
   "execution_count": 231,
   "id": "6d3045d3",
   "metadata": {},
   "outputs": [],
   "source": [
    "y='5143fgwqfdy'"
   ]
  },
  {
   "cell_type": "code",
   "execution_count": 232,
   "id": "c7dff95a",
   "metadata": {},
   "outputs": [
    {
     "data": {
      "text/plain": [
       "False"
      ]
     },
     "execution_count": 232,
     "metadata": {},
     "output_type": "execute_result"
    }
   ],
   "source": [
    "y.isalpha()"
   ]
  },
  {
   "cell_type": "code",
   "execution_count": 234,
   "id": "fb94bb65",
   "metadata": {},
   "outputs": [
    {
     "data": {
      "text/plain": [
       "False"
      ]
     },
     "execution_count": 234,
     "metadata": {},
     "output_type": "execute_result"
    }
   ],
   "source": [
    "e.startswith('i')"
   ]
  },
  {
   "cell_type": "code",
   "execution_count": 236,
   "id": "a24287e4",
   "metadata": {},
   "outputs": [
    {
     "data": {
      "text/plain": [
       "True"
      ]
     },
     "execution_count": 236,
     "metadata": {},
     "output_type": "execute_result"
    }
   ],
   "source": [
    "e.startswith('D')"
   ]
  },
  {
   "cell_type": "code",
   "execution_count": 237,
   "id": "fb90b512",
   "metadata": {},
   "outputs": [
    {
     "data": {
      "text/plain": [
       "False"
      ]
     },
     "execution_count": 237,
     "metadata": {},
     "output_type": "execute_result"
    }
   ],
   "source": [
    "e.endswith(\"r\")"
   ]
  },
  {
   "cell_type": "code",
   "execution_count": 238,
   "id": "7fa6d3c6",
   "metadata": {},
   "outputs": [
    {
     "data": {
      "text/plain": [
       "True"
      ]
     },
     "execution_count": 238,
     "metadata": {},
     "output_type": "execute_result"
    }
   ],
   "source": [
    "e.endswith('h')"
   ]
  },
  {
   "cell_type": "code",
   "execution_count": 240,
   "id": "dceee7ee",
   "metadata": {},
   "outputs": [
    {
     "data": {
      "text/plain": [
       "False"
      ]
     },
     "execution_count": 240,
     "metadata": {},
     "output_type": "execute_result"
    }
   ],
   "source": [
    "e.isdigit()"
   ]
  },
  {
   "cell_type": "code",
   "execution_count": 241,
   "id": "73347415",
   "metadata": {},
   "outputs": [
    {
     "data": {
      "text/plain": [
       "False"
      ]
     },
     "execution_count": 241,
     "metadata": {},
     "output_type": "execute_result"
    }
   ],
   "source": [
    "e.isnumeric()"
   ]
  },
  {
   "cell_type": "code",
   "execution_count": 242,
   "id": "ab0a2a30",
   "metadata": {},
   "outputs": [
    {
     "data": {
      "text/plain": [
       "True"
      ]
     },
     "execution_count": 242,
     "metadata": {},
     "output_type": "execute_result"
    }
   ],
   "source": [
    "e.isascii()"
   ]
  },
  {
   "cell_type": "code",
   "execution_count": 249,
   "id": "dee43124",
   "metadata": {},
   "outputs": [],
   "source": [
    "g='sudhanshu123  '"
   ]
  },
  {
   "cell_type": "code",
   "execution_count": 251,
   "id": "1ea32019",
   "metadata": {},
   "outputs": [
    {
     "data": {
      "text/plain": [
       "False"
      ]
     },
     "execution_count": 251,
     "metadata": {},
     "output_type": "execute_result"
    }
   ],
   "source": [
    "g.isalnum()"
   ]
  },
  {
   "cell_type": "code",
   "execution_count": 254,
   "id": "3c022c9d",
   "metadata": {},
   "outputs": [],
   "source": [
    "f='123  '"
   ]
  },
  {
   "cell_type": "code",
   "execution_count": 255,
   "id": "4889461f",
   "metadata": {},
   "outputs": [
    {
     "data": {
      "text/plain": [
       "False"
      ]
     },
     "execution_count": 255,
     "metadata": {},
     "output_type": "execute_result"
    }
   ],
   "source": [
    "f.isalnum()"
   ]
  },
  {
   "cell_type": "code",
   "execution_count": 256,
   "id": "a1d298f0",
   "metadata": {},
   "outputs": [],
   "source": [
    "i='1234'"
   ]
  },
  {
   "cell_type": "code",
   "execution_count": 257,
   "id": "78affbdf",
   "metadata": {},
   "outputs": [
    {
     "data": {
      "text/plain": [
       "True"
      ]
     },
     "execution_count": 257,
     "metadata": {},
     "output_type": "execute_result"
    }
   ],
   "source": [
    "i.isalnum()"
   ]
  },
  {
   "cell_type": "markdown",
   "id": "4ac2517f",
   "metadata": {},
   "source": [
    "# expandtabs function"
   ]
  },
  {
   "cell_type": "code",
   "execution_count": 266,
   "id": "989e14bc",
   "metadata": {},
   "outputs": [],
   "source": [
    "DF='ineuron\\tdata scientist\\tbussiness analytics'"
   ]
  },
  {
   "cell_type": "code",
   "execution_count": 267,
   "id": "f453c96e",
   "metadata": {},
   "outputs": [
    {
     "data": {
      "text/plain": [
       "'ineuron data scientist  bussiness analytics'"
      ]
     },
     "execution_count": 267,
     "metadata": {},
     "output_type": "execute_result"
    }
   ],
   "source": [
    "DF.expandtabs()"
   ]
  },
  {
   "cell_type": "markdown",
   "id": "163cbe05",
   "metadata": {},
   "source": [
    "# practise"
   ]
  },
  {
   "cell_type": "code",
   "execution_count": 268,
   "id": "a3865eca",
   "metadata": {},
   "outputs": [],
   "source": [
    "p='sudhanshu'"
   ]
  },
  {
   "cell_type": "code",
   "execution_count": 273,
   "id": "c3f48150",
   "metadata": {},
   "outputs": [
    {
     "data": {
      "text/plain": [
       "'u h s n a h d u s'"
      ]
     },
     "execution_count": 273,
     "metadata": {},
     "output_type": "execute_result"
    }
   ],
   "source": [
    "\" \".join(reversed(p))"
   ]
  },
  {
   "cell_type": "markdown",
   "id": "c4446469",
   "metadata": {},
   "source": [
    "# TASK"
   ]
  },
  {
   "cell_type": "markdown",
   "id": "0b1ece3c",
   "metadata": {},
   "source": [
    "s=\"this is My First Python programming class and i am learNING python "
   ]
  }
 ],
 "metadata": {
  "kernelspec": {
   "display_name": "Python 3 (ipykernel)",
   "language": "python",
   "name": "python3"
  },
  "language_info": {
   "codemirror_mode": {
    "name": "ipython",
    "version": 3
   },
   "file_extension": ".py",
   "mimetype": "text/x-python",
   "name": "python",
   "nbconvert_exporter": "python",
   "pygments_lexer": "ipython3",
   "version": "3.9.7"
  }
 },
 "nbformat": 4,
 "nbformat_minor": 5
}
