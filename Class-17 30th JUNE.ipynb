{
 "cells": [
  {
   "cell_type": "code",
   "execution_count": 1,
   "id": "01516484",
   "metadata": {},
   "outputs": [
    {
     "data": {
      "text/plain": [
       "0"
      ]
     },
     "execution_count": 1,
     "metadata": {},
     "output_type": "execute_result"
    }
   ],
   "source": [
    "2^2"
   ]
  },
  {
   "cell_type": "code",
   "execution_count": 2,
   "id": "e6d2209b",
   "metadata": {},
   "outputs": [
    {
     "data": {
      "text/plain": [
       "5"
      ]
     },
     "execution_count": 2,
     "metadata": {},
     "output_type": "execute_result"
    }
   ],
   "source": [
    "3^6"
   ]
  },
  {
   "cell_type": "code",
   "execution_count": 3,
   "id": "6a4410aa",
   "metadata": {},
   "outputs": [
    {
     "ename": "ZeroDivisionError",
     "evalue": "division by zero",
     "output_type": "error",
     "traceback": [
      "\u001b[1;31m---------------------------------------------------------------------------\u001b[0m",
      "\u001b[1;31mZeroDivisionError\u001b[0m                         Traceback (most recent call last)",
      "\u001b[1;32m~\\AppData\\Local\\Temp/ipykernel_20492/532118508.py\u001b[0m in \u001b[0;36m<module>\u001b[1;34m\u001b[0m\n\u001b[0;32m      1\u001b[0m \u001b[0ma\u001b[0m \u001b[1;33m=\u001b[0m \u001b[1;36m10\u001b[0m\u001b[1;33m\u001b[0m\u001b[1;33m\u001b[0m\u001b[0m\n\u001b[1;32m----> 2\u001b[1;33m \u001b[0ma\u001b[0m\u001b[1;33m/\u001b[0m\u001b[1;36m0\u001b[0m\u001b[1;33m\u001b[0m\u001b[1;33m\u001b[0m\u001b[0m\n\u001b[0m",
      "\u001b[1;31mZeroDivisionError\u001b[0m: division by zero"
     ]
    }
   ],
   "source": [
    "a = 10\n",
    "a/0"
   ]
  },
  {
   "cell_type": "code",
   "execution_count": 8,
   "id": "3738120d",
   "metadata": {},
   "outputs": [
    {
     "ename": "FileNotFoundError",
     "evalue": "[Errno 2] No such file or directory: 'divv.txt'",
     "output_type": "error",
     "traceback": [
      "\u001b[1;31m---------------------------------------------------------------------------\u001b[0m",
      "\u001b[1;31mFileNotFoundError\u001b[0m                         Traceback (most recent call last)",
      "\u001b[1;32m~\\AppData\\Local\\Temp/ipykernel_20492/3377036988.py\u001b[0m in \u001b[0;36m<module>\u001b[1;34m\u001b[0m\n\u001b[1;32m----> 1\u001b[1;33m \u001b[0mf\u001b[0m \u001b[1;33m=\u001b[0m \u001b[0mopen\u001b[0m\u001b[1;33m(\u001b[0m\u001b[1;34m\"divv.txt\"\u001b[0m \u001b[1;33m,\u001b[0m \u001b[1;34m\"r\"\u001b[0m\u001b[1;33m)\u001b[0m\u001b[1;33m\u001b[0m\u001b[1;33m\u001b[0m\u001b[0m\n\u001b[0m\u001b[0;32m      2\u001b[0m \u001b[0mprint\u001b[0m\u001b[1;33m(\u001b[0m\u001b[1;34m\"this my code to handle an exception\"\u001b[0m\u001b[1;33m)\u001b[0m\u001b[1;33m\u001b[0m\u001b[1;33m\u001b[0m\u001b[0m\n",
      "\u001b[1;31mFileNotFoundError\u001b[0m: [Errno 2] No such file or directory: 'divv.txt'"
     ]
    }
   ],
   "source": [
    "f = open(\"divv.txt\" , \"r\")\n",
    "print(\"this my code to handle an exception\")"
   ]
  },
  {
   "cell_type": "code",
   "execution_count": 16,
   "id": "3b63979d",
   "metadata": {},
   "outputs": [
    {
     "name": "stdout",
     "output_type": "stream",
     "text": [
      "1.0\n"
     ]
    }
   ],
   "source": [
    "try :\n",
    "    a = 10\n",
    "    print(a/10)\n",
    "except Exception as e :\n",
    "    print(e)\n",
    "    print(\"this will be my final code after excepting an exception\")\n",
    "    "
   ]
  },
  {
   "cell_type": "code",
   "execution_count": 18,
   "id": "201b58e9",
   "metadata": {},
   "outputs": [
    {
     "name": "stdout",
     "output_type": "stream",
     "text": [
      "[Errno 2] No such file or directory: 'Divv.txt'\n",
      "CONTINUEED\n"
     ]
    }
   ],
   "source": [
    "try :\n",
    "    f = open(\"Divv.txt\" , \"r\")\n",
    "except Exception as e :\n",
    "    print(e)\n",
    "    print(\"CONTINUEED\")"
   ]
  },
  {
   "cell_type": "code",
   "execution_count": 19,
   "id": "54fe5af8",
   "metadata": {},
   "outputs": [
    {
     "ename": "FileNotFoundError",
     "evalue": "[Errno 2] No such file or directory: 'Divv.txt'",
     "output_type": "error",
     "traceback": [
      "\u001b[1;31m---------------------------------------------------------------------------\u001b[0m",
      "\u001b[1;31mFileNotFoundError\u001b[0m                         Traceback (most recent call last)",
      "\u001b[1;32m~\\AppData\\Local\\Temp/ipykernel_20492/650777441.py\u001b[0m in \u001b[0;36m<module>\u001b[1;34m\u001b[0m\n\u001b[1;32m----> 1\u001b[1;33m \u001b[0mf\u001b[0m \u001b[1;33m=\u001b[0m \u001b[0mopen\u001b[0m\u001b[1;33m(\u001b[0m\u001b[1;34m\"Divv.txt\"\u001b[0m \u001b[1;33m,\u001b[0m \u001b[1;34m\"r\"\u001b[0m\u001b[1;33m)\u001b[0m\u001b[1;33m\u001b[0m\u001b[1;33m\u001b[0m\u001b[0m\n\u001b[0m\u001b[0;32m      2\u001b[0m \u001b[0mf\u001b[0m\u001b[1;33m.\u001b[0m\u001b[0mwrite\u001b[0m\u001b[1;33m(\u001b[0m\u001b[1;34m\"this is my code\"\u001b[0m\u001b[1;33m)\u001b[0m\u001b[1;33m\u001b[0m\u001b[1;33m\u001b[0m\u001b[0m\n",
      "\u001b[1;31mFileNotFoundError\u001b[0m: [Errno 2] No such file or directory: 'Divv.txt'"
     ]
    }
   ],
   "source": [
    "f = open(\"Divv.txt\" , \"r\")\n",
    "f.write(\"this is my code\")"
   ]
  },
  {
   "cell_type": "code",
   "execution_count": 22,
   "id": "75a7b46b",
   "metadata": {},
   "outputs": [
    {
     "name": "stdout",
     "output_type": "stream",
     "text": [
      "[Errno 2] No such file or directory: 'Divv.txt'\n",
      "you can continue running your program\n"
     ]
    }
   ],
   "source": [
    "try:\n",
    "    f = open(\"Divv.txt\" , \"r\")\n",
    "    f.write(\"this is my code\")\n",
    "except Exception as e :\n",
    "    print(e)\n",
    "    print(\"you can continue running your program\" )"
   ]
  },
  {
   "cell_type": "code",
   "execution_count": 23,
   "id": "8145c917",
   "metadata": {},
   "outputs": [
    {
     "name": "stdout",
     "output_type": "stream",
     "text": [
      "[Errno 2] No such file or directory: 'Divv.txt'\n",
      "you can continue running your program\n",
      "this block will execute in every situation\n"
     ]
    }
   ],
   "source": [
    "try:\n",
    "    f = open(\"Divv.txt\" , \"r\")\n",
    "    f.write(\"this is my code\")\n",
    "except Exception as e :\n",
    "    print(e)\n",
    "    print(\"you can continue running your program\" )\n",
    "finally :\n",
    "    print(\"this block will execute in every situation\")"
   ]
  },
  {
   "cell_type": "code",
   "execution_count": 34,
   "id": "a581a40f",
   "metadata": {},
   "outputs": [],
   "source": [
    "def askintr():\n",
    "    try :\n",
    "        val = int(input(\"please enter an integer: \"))\n",
    "    except  :\n",
    "        print(\"bnp u have not entered an integer value: \")\n",
    "        try :\n",
    "            val = int(input(\"please enter ur integer again: \"))\n",
    "        except :\n",
    "            print(\"we are able to handle ur mistake for second time: \")\n",
    "    finally :\n",
    "        print(\"Sorry try again or check ur entered value\")\n",
    "            \n",
    "        "
   ]
  },
  {
   "cell_type": "code",
   "execution_count": 35,
   "id": "c36f576d",
   "metadata": {},
   "outputs": [
    {
     "name": "stdout",
     "output_type": "stream",
     "text": [
      "please enter an integer: w\n",
      "bnp u have not entered an integer value: \n",
      "please enter ur integer again: 2\n",
      "Sorry try again or check ur entered value\n"
     ]
    }
   ],
   "source": [
    "askintr()"
   ]
  },
  {
   "cell_type": "code",
   "execution_count": 1,
   "id": "51d2a64e",
   "metadata": {},
   "outputs": [],
   "source": [
    "def askint1() :\n",
    "    while True :\n",
    "        try :\n",
    "            val = int(input(\"please try to input an integer: \"))\n",
    "            break\n",
    "        except :\n",
    "            print(\"looks like you have not entered an integer\")\n",
    "            continue"
   ]
  },
  {
   "cell_type": "code",
   "execution_count": 2,
   "id": "9c301b8f",
   "metadata": {},
   "outputs": [
    {
     "name": "stdout",
     "output_type": "stream",
     "text": [
      "please try to input an integer: wrty\n",
      "looks like you have not entered an integer\n",
      "please try to input an integer: sghdjks\n",
      "looks like you have not entered an integer\n",
      "please try to input an integer: jnsd\n",
      "looks like you have not entered an integer\n",
      "please try to input an integer: 34567\n"
     ]
    }
   ],
   "source": [
    "askint1()"
   ]
  },
  {
   "cell_type": "code",
   "execution_count": 3,
   "id": "35a88081",
   "metadata": {},
   "outputs": [
    {
     "name": "stdout",
     "output_type": "stream",
     "text": [
      "please try to input an integer: dfghjkl\n",
      "looks like you have not entered an integer\n",
      "please try to input an integer: ghjkl;\n",
      "looks like you have not entered an integer\n",
      "please try to input an integer: 234567\n"
     ]
    }
   ],
   "source": [
    "    while True :\n",
    "        try :\n",
    "            val = int(input(\"please try to input an integer: \"))\n",
    "            break\n",
    "        except :\n",
    "            print(\"looks like you have not entered an integer\")\n",
    "            continue"
   ]
  },
  {
   "cell_type": "code",
   "execution_count": null,
   "id": "16bf0fd8",
   "metadata": {},
   "outputs": [],
   "source": []
  }
 ],
 "metadata": {
  "kernelspec": {
   "display_name": "Python 3 (ipykernel)",
   "language": "python",
   "name": "python3"
  },
  "language_info": {
   "codemirror_mode": {
    "name": "ipython",
    "version": 3
   },
   "file_extension": ".py",
   "mimetype": "text/x-python",
   "name": "python",
   "nbconvert_exporter": "python",
   "pygments_lexer": "ipython3",
   "version": "3.9.7"
  }
 },
 "nbformat": 4,
 "nbformat_minor": 5
}
