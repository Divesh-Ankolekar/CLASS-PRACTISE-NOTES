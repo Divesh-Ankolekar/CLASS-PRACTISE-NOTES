{
 "cells": [
  {
   "cell_type": "code",
   "execution_count": 2,
   "id": "c1eb7f9b",
   "metadata": {},
   "outputs": [
    {
     "name": "stdout",
     "output_type": "stream",
     "text": [
      "30\n"
     ]
    }
   ],
   "source": [
    "a = 10\n",
    "b = 20\n",
    "c = a + b\n",
    "print(c)"
   ]
  },
  {
   "cell_type": "code",
   "execution_count": 3,
   "id": "c994a335",
   "metadata": {},
   "outputs": [
    {
     "ename": "SyntaxError",
     "evalue": "unexpected EOF while parsing (Temp/ipykernel_4420/2163284539.py, line 4)",
     "output_type": "error",
     "traceback": [
      "\u001b[1;36m  File \u001b[1;32m\"C:\\Users\\DIVESH\\AppData\\Local\\Temp/ipykernel_4420/2163284539.py\"\u001b[1;36m, line \u001b[1;32m4\u001b[0m\n\u001b[1;33m    print(c\u001b[0m\n\u001b[1;37m           ^\u001b[0m\n\u001b[1;31mSyntaxError\u001b[0m\u001b[1;31m:\u001b[0m unexpected EOF while parsing\n"
     ]
    }
   ],
   "source": [
    "a = 10\n",
    "b = 20\n",
    "c = a + b\n",
    "print(c"
   ]
  },
  {
   "cell_type": "code",
   "execution_count": 4,
   "id": "cf45ef3c",
   "metadata": {
    "scrolled": true
   },
   "outputs": [
    {
     "ename": "TypeError",
     "evalue": "unsupported operand type(s) for +: 'int' and 'str'",
     "output_type": "error",
     "traceback": [
      "\u001b[1;31m---------------------------------------------------------------------------\u001b[0m",
      "\u001b[1;31mTypeError\u001b[0m                                 Traceback (most recent call last)",
      "\u001b[1;32m~\\AppData\\Local\\Temp/ipykernel_4420/259237795.py\u001b[0m in \u001b[0;36m<module>\u001b[1;34m\u001b[0m\n\u001b[0;32m      1\u001b[0m \u001b[0ma\u001b[0m \u001b[1;33m=\u001b[0m \u001b[1;36m10\u001b[0m\u001b[1;33m\u001b[0m\u001b[1;33m\u001b[0m\u001b[0m\n\u001b[0;32m      2\u001b[0m \u001b[0mb\u001b[0m \u001b[1;33m=\u001b[0m \u001b[1;34m\"s\"\u001b[0m\u001b[1;33m\u001b[0m\u001b[1;33m\u001b[0m\u001b[0m\n\u001b[1;32m----> 3\u001b[1;33m \u001b[0mc\u001b[0m \u001b[1;33m=\u001b[0m \u001b[0ma\u001b[0m \u001b[1;33m+\u001b[0m \u001b[0mb\u001b[0m\u001b[1;33m\u001b[0m\u001b[1;33m\u001b[0m\u001b[0m\n\u001b[0m\u001b[0;32m      4\u001b[0m \u001b[0mprint\u001b[0m\u001b[1;33m(\u001b[0m\u001b[0mc\u001b[0m\u001b[1;33m)\u001b[0m\u001b[1;33m\u001b[0m\u001b[1;33m\u001b[0m\u001b[0m\n",
      "\u001b[1;31mTypeError\u001b[0m: unsupported operand type(s) for +: 'int' and 'str'"
     ]
    }
   ],
   "source": [
    "a = 10\n",
    "b = \"s\"\n",
    "c = a + b\n",
    "print(c)"
   ]
  },
  {
   "cell_type": "code",
   "execution_count": 11,
   "id": "78d1f7c6",
   "metadata": {},
   "outputs": [
    {
     "name": "stdout",
     "output_type": "stream",
     "text": [
      "enter first number10\n",
      "enter second number20\n",
      "0.5\n",
      "200\n"
     ]
    }
   ],
   "source": [
    "a = int(input(\"enter first number\"))\n",
    "b = int(input(\"enter second number\"))\n",
    "c = a/b\n",
    "print(c)\n",
    "d = a * b\n",
    "print(d)\n"
   ]
  },
  {
   "cell_type": "code",
   "execution_count": null,
   "id": "f9bde600",
   "metadata": {},
   "outputs": [],
   "source": [
    "try\n",
    "except\n",
    "else\n",
    "raise\n",
    "finally"
   ]
  },
  {
   "cell_type": "code",
   "execution_count": 14,
   "id": "841b4280",
   "metadata": {},
   "outputs": [
    {
     "name": "stdout",
     "output_type": "stream",
     "text": [
      "enter first number10\n",
      "enter second number0\n",
      "b should not be Zero\n"
     ]
    }
   ],
   "source": [
    "a = int(input(\"enter first number\"))\n",
    "b = int(input(\"enter second number\"))\n",
    "try:\n",
    "    c = a/b\n",
    "    print(c)\n",
    "except:\n",
    "    print(\"b should not be Zero\")"
   ]
  },
  {
   "cell_type": "code",
   "execution_count": 1,
   "id": "ebff4268",
   "metadata": {},
   "outputs": [
    {
     "name": "stdout",
     "output_type": "stream",
     "text": [
      "enter first number20\n",
      "enter second number40\n",
      "0.5\n",
      "60\n"
     ]
    }
   ],
   "source": [
    "a = int(input(\"enter first number\"))\n",
    "b = int(input(\"enter second number\"))\n",
    "try:\n",
    "    c = a/b\n",
    "    print(c)\n",
    "except:\n",
    "    print(\"b should not be Zero\")\n",
    "d = a + b\n",
    "print(d)"
   ]
  },
  {
   "cell_type": "code",
   "execution_count": 11,
   "id": "2c5e1d7c",
   "metadata": {},
   "outputs": [
    {
     "name": "stdout",
     "output_type": "stream",
     "text": [
      "enter first number20\n",
      "enter second numbere\n",
      "b should only be Number \n",
      "enter first number20\n",
      "enter second number30\n",
      "0.6666666666666666\n"
     ]
    }
   ],
   "source": [
    "while True :\n",
    "    try:\n",
    "        a = int(input(\"enter first number\"))\n",
    "        b = int(input(\"enter second number\"))        \n",
    "        c = a/b\n",
    "        print(c) \n",
    "        break\n",
    "    except ZeroDivisionError:\n",
    "        print(\"b should not be Zero\")\n",
    "    except ValueError:\n",
    "        print(\"b should only be Number \")"
   ]
  },
  {
   "cell_type": "code",
   "execution_count": 1,
   "id": "bf73d018",
   "metadata": {},
   "outputs": [
    {
     "name": "stdout",
     "output_type": "stream",
     "text": [
      "enter first number20\n",
      "enter second number22\n",
      "0.9090909090909091\n"
     ]
    }
   ],
   "source": [
    "a = int(input(\"enter first number\"))\n",
    "b = int(input(\"enter second number\"))\n",
    "try:\n",
    "    c = a/b\n",
    "    print(c)\n",
    "except:\n",
    "    print(\"b should not be Zero\")"
   ]
  },
  {
   "cell_type": "code",
   "execution_count": 5,
   "id": "99ac7edc",
   "metadata": {},
   "outputs": [
    {
     "name": "stdout",
     "output_type": "stream",
     "text": [
      "enter first number10\n",
      "enter second numbera\n"
     ]
    },
    {
     "ename": "ValueError",
     "evalue": "invalid literal for int() with base 10: 'a'",
     "output_type": "error",
     "traceback": [
      "\u001b[1;31m---------------------------------------------------------------------------\u001b[0m",
      "\u001b[1;31mValueError\u001b[0m                                Traceback (most recent call last)",
      "\u001b[1;32m~\\AppData\\Local\\Temp/ipykernel_27640/920570470.py\u001b[0m in \u001b[0;36m<module>\u001b[1;34m\u001b[0m\n\u001b[0;32m      1\u001b[0m \u001b[0ma\u001b[0m \u001b[1;33m=\u001b[0m \u001b[0mint\u001b[0m\u001b[1;33m(\u001b[0m\u001b[0minput\u001b[0m\u001b[1;33m(\u001b[0m\u001b[1;34m\"enter first number\"\u001b[0m\u001b[1;33m)\u001b[0m\u001b[1;33m)\u001b[0m\u001b[1;33m\u001b[0m\u001b[1;33m\u001b[0m\u001b[0m\n\u001b[1;32m----> 2\u001b[1;33m \u001b[0mb\u001b[0m \u001b[1;33m=\u001b[0m \u001b[0mint\u001b[0m\u001b[1;33m(\u001b[0m\u001b[0minput\u001b[0m\u001b[1;33m(\u001b[0m\u001b[1;34m\"enter second number\"\u001b[0m\u001b[1;33m)\u001b[0m\u001b[1;33m)\u001b[0m\u001b[1;33m\u001b[0m\u001b[1;33m\u001b[0m\u001b[0m\n\u001b[0m\u001b[0;32m      3\u001b[0m \u001b[1;32mtry\u001b[0m\u001b[1;33m:\u001b[0m\u001b[1;33m\u001b[0m\u001b[1;33m\u001b[0m\u001b[0m\n\u001b[0;32m      4\u001b[0m     \u001b[0mc\u001b[0m \u001b[1;33m=\u001b[0m \u001b[0ma\u001b[0m\u001b[1;33m/\u001b[0m\u001b[0mb\u001b[0m\u001b[1;33m\u001b[0m\u001b[1;33m\u001b[0m\u001b[0m\n\u001b[0;32m      5\u001b[0m     \u001b[0mprint\u001b[0m\u001b[1;33m(\u001b[0m\u001b[0mc\u001b[0m\u001b[1;33m)\u001b[0m\u001b[1;33m\u001b[0m\u001b[1;33m\u001b[0m\u001b[0m\n",
      "\u001b[1;31mValueError\u001b[0m: invalid literal for int() with base 10: 'a'"
     ]
    }
   ],
   "source": [
    "a = int(input(\"enter first number\"))\n",
    "b = int(input(\"enter second number\"))\n",
    "try:\n",
    "    c = a/b\n",
    "    print(c)\n",
    "    d = a + b\n",
    "    print(d)    \n",
    "except (ZeroDivisionError,TypeError):\n",
    "    print(\"b should not be Zero or b should only be Numeric \")"
   ]
  },
  {
   "cell_type": "code",
   "execution_count": 2,
   "id": "1186f0c8",
   "metadata": {},
   "outputs": [
    {
     "name": "stdout",
     "output_type": "stream",
     "text": [
      "enter first number20\n",
      "enter second number30\n",
      "0.6666666666666666\n",
      "50\n"
     ]
    }
   ],
   "source": [
    "a = int(input(\"enter first number\"))\n",
    "b = int(input(\"enter second number\"))\n",
    "try:\n",
    "    c = a/b\n",
    "    print(c)\n",
    "    d = a + b\n",
    "    print(d)    \n",
    "except (ZeroDivisionError,TypeError):\n",
    "    print(\"b should not be Zero or b should only be Numeric \")"
   ]
  },
  {
   "cell_type": "code",
   "execution_count": 1,
   "id": "d9df8c8a",
   "metadata": {},
   "outputs": [
    {
     "name": "stdout",
     "output_type": "stream",
     "text": [
      "1st Value30\n",
      "2nd Value45\n"
     ]
    }
   ],
   "source": [
    "while True:\n",
    "    try:\n",
    "        a = int(input(\"1st Value\"))\n",
    "        b = int(input(\"2nd Value\"))\n",
    "        c = a/b\n",
    "        break\n",
    "    except:\n",
    "        print(\"String Value Not Allowed\")"
   ]
  },
  {
   "cell_type": "code",
   "execution_count": 6,
   "id": "929f4758",
   "metadata": {},
   "outputs": [
    {
     "name": "stdout",
     "output_type": "stream",
     "text": [
      "1st Value298\n",
      "2nd Value0\n",
      "Value Cannot be Zero\n",
      "1st Value34\n",
      "2nd Value45\n",
      "Div is 0.7555555555555555\n"
     ]
    }
   ],
   "source": [
    "while True:\n",
    "    try:\n",
    "        a = int(input(\"1st Value\"))\n",
    "        b = int(input(\"2nd Value\"))\n",
    "        c = a/b\n",
    "        print('Div is' , c)\n",
    "        break\n",
    "    except ValueError:\n",
    "        print(\"String Value Not Allowed\")\n",
    "    except ZeroDivisionError:\n",
    "        print(\"Value Cannot be Zero\")"
   ]
  },
  {
   "cell_type": "code",
   "execution_count": 7,
   "id": "0b2ab37e",
   "metadata": {},
   "outputs": [
    {
     "name": "stdout",
     "output_type": "stream",
     "text": [
      "1st Value1232\n",
      "2nd Value0\n",
      "division by zero\n",
      "1st Value234\n",
      "2nd Value24\n",
      "Div is 9.75\n"
     ]
    }
   ],
   "source": [
    "while True:\n",
    "    try:\n",
    "        a = int(input(\"1st Value\"))\n",
    "        b = int(input(\"2nd Value\"))\n",
    "        c = a/b\n",
    "        print('Div is' , c)\n",
    "        break\n",
    "    except ZeroDivisionError as e :\n",
    "        print(e)"
   ]
  },
  {
   "cell_type": "code",
   "execution_count": 12,
   "id": "1840c4b4",
   "metadata": {},
   "outputs": [
    {
     "name": "stdout",
     "output_type": "stream",
     "text": [
      "1st Value: 34560\n",
      "2nd Value: 0\n",
      "(<class 'ZeroDivisionError'>, ZeroDivisionError('division by zero'), <traceback object at 0x000001CA7920D740>)\n",
      "1st Value: 456\n",
      "2nd Value: ghj\n",
      "(<class 'ValueError'>, ValueError(\"invalid literal for int() with base 10: 'ghj'\"), <traceback object at 0x000001CA7920D740>)\n",
      "1st Value: 3457\n",
      "2nd Value: 789\n",
      "Div is 4.3814955640050695\n"
     ]
    }
   ],
   "source": [
    "import sys\n",
    "while True:\n",
    "    try:\n",
    "        a = int(input(\"1st Value: \"))\n",
    "        b = int(input(\"2nd Value: \"))\n",
    "        c = a/b\n",
    "        print('Div is' , c)\n",
    "        break\n",
    "    except :\n",
    "        print(sys.exc_info())"
   ]
  },
  {
   "cell_type": "code",
   "execution_count": 3,
   "id": "f8bde1f5",
   "metadata": {},
   "outputs": [
    {
     "name": "stdout",
     "output_type": "stream",
     "text": [
      "1st Value: 5678\n",
      "2nd Value: 0\n",
      "Exeption Class <class 'ZeroDivisionError'>\n",
      "Exeption Message division by zero\n",
      "Line Number <traceback object at 0x00000222EFFD8080>\n",
      "1st Value: 34567\n",
      "2nd Value: e\n",
      "Exeption Class <class 'ValueError'>\n",
      "Exeption Message invalid literal for int() with base 10: 'e'\n",
      "Line Number <traceback object at 0x00000222EFFFF240>\n",
      "1st Value: 567\n",
      "2nd Value: 45\n",
      "Div is 12.6\n"
     ]
    }
   ],
   "source": [
    "import sys\n",
    "while True:\n",
    "    try:\n",
    "        a = int(input(\"1st Value: \"))\n",
    "        b = int(input(\"2nd Value: \"))\n",
    "        c = a/b\n",
    "        print('Div is' , c)\n",
    "        break\n",
    "    except :\n",
    "        a,b,c = sys.exc_info()\n",
    "        print(\"Exeption Class\" , a )\n",
    "        print(\"Exeption Message\" , b )\n",
    "        print(\"Line Number\" , c)"
   ]
  },
  {
   "cell_type": "code",
   "execution_count": 2,
   "id": "5bc7fb0c",
   "metadata": {},
   "outputs": [
    {
     "name": "stdout",
     "output_type": "stream",
     "text": [
      "1st Value: 34567\n",
      "2nd Value: 0\n",
      "Exeption Class <class 'ZeroDivisionError'>\n",
      "Exeption Message division by zero\n"
     ]
    },
    {
     "ename": "AttributeError",
     "evalue": "'traceback' object has no attribute 'tb_linenob'",
     "output_type": "error",
     "traceback": [
      "\u001b[1;31m---------------------------------------------------------------------------\u001b[0m",
      "\u001b[1;31mZeroDivisionError\u001b[0m                         Traceback (most recent call last)",
      "\u001b[1;32m~\\AppData\\Local\\Temp/ipykernel_25956/2726674358.py\u001b[0m in \u001b[0;36m<module>\u001b[1;34m\u001b[0m\n\u001b[0;32m      5\u001b[0m         \u001b[0mb\u001b[0m \u001b[1;33m=\u001b[0m \u001b[0mint\u001b[0m\u001b[1;33m(\u001b[0m\u001b[0minput\u001b[0m\u001b[1;33m(\u001b[0m\u001b[1;34m\"2nd Value: \"\u001b[0m\u001b[1;33m)\u001b[0m\u001b[1;33m)\u001b[0m\u001b[1;33m\u001b[0m\u001b[1;33m\u001b[0m\u001b[0m\n\u001b[1;32m----> 6\u001b[1;33m         \u001b[0mc\u001b[0m \u001b[1;33m=\u001b[0m \u001b[0ma\u001b[0m\u001b[1;33m/\u001b[0m\u001b[0mb\u001b[0m\u001b[1;33m\u001b[0m\u001b[1;33m\u001b[0m\u001b[0m\n\u001b[0m\u001b[0;32m      7\u001b[0m         \u001b[0mprint\u001b[0m\u001b[1;33m(\u001b[0m\u001b[1;34m'Div is'\u001b[0m \u001b[1;33m,\u001b[0m \u001b[0mc\u001b[0m\u001b[1;33m)\u001b[0m\u001b[1;33m\u001b[0m\u001b[1;33m\u001b[0m\u001b[0m\n",
      "\u001b[1;31mZeroDivisionError\u001b[0m: division by zero",
      "\nDuring handling of the above exception, another exception occurred:\n",
      "\u001b[1;31mAttributeError\u001b[0m                            Traceback (most recent call last)",
      "\u001b[1;32m~\\AppData\\Local\\Temp/ipykernel_25956/2726674358.py\u001b[0m in \u001b[0;36m<module>\u001b[1;34m\u001b[0m\n\u001b[0;32m     11\u001b[0m         \u001b[0mprint\u001b[0m\u001b[1;33m(\u001b[0m\u001b[1;34m\"Exeption Class\"\u001b[0m \u001b[1;33m,\u001b[0m \u001b[0ma\u001b[0m \u001b[1;33m)\u001b[0m\u001b[1;33m\u001b[0m\u001b[1;33m\u001b[0m\u001b[0m\n\u001b[0;32m     12\u001b[0m         \u001b[0mprint\u001b[0m\u001b[1;33m(\u001b[0m\u001b[1;34m\"Exeption Message\"\u001b[0m \u001b[1;33m,\u001b[0m \u001b[0mb\u001b[0m \u001b[1;33m)\u001b[0m\u001b[1;33m\u001b[0m\u001b[1;33m\u001b[0m\u001b[0m\n\u001b[1;32m---> 13\u001b[1;33m         \u001b[0mprint\u001b[0m\u001b[1;33m(\u001b[0m\u001b[1;34m\"Line Number\"\u001b[0m \u001b[1;33m,\u001b[0m \u001b[0mc\u001b[0m\u001b[1;33m.\u001b[0m\u001b[0mtb_linenob\u001b[0m\u001b[1;33m)\u001b[0m\u001b[1;33m\u001b[0m\u001b[1;33m\u001b[0m\u001b[0m\n\u001b[0m",
      "\u001b[1;31mAttributeError\u001b[0m: 'traceback' object has no attribute 'tb_linenob'"
     ]
    }
   ],
   "source": [
    "import sys\n",
    "while True:\n",
    "    try:\n",
    "        a = int(input(\"1st Value: \"))\n",
    "        b = int(input(\"2nd Value: \"))\n",
    "        c = a/b\n",
    "        print('Div is' , c)\n",
    "        break\n",
    "    except :\n",
    "        a,b,c = sys.exc_info()\n",
    "        print(\"Exeption Class\" , a )\n",
    "        print(\"Exeption Message\" , b )\n",
    "        print(\"Line Number\" , c.tb_linenob)"
   ]
  },
  {
   "cell_type": "code",
   "execution_count": 2,
   "id": "67dedc58",
   "metadata": {},
   "outputs": [
    {
     "name": "stdout",
     "output_type": "stream",
     "text": [
      "1st Value: 345678\n",
      "2nd Value: 0\n",
      "Exeption Class <class 'ZeroDivisionError'>\n",
      "Exeption Message division by zero\n",
      "Line Number 6\n",
      "1st Value: 2345678\n",
      "2nd Value: h\n",
      "Exeption Class <class 'ValueError'>\n",
      "Exeption Message invalid literal for int() with base 10: 'h'\n",
      "Line Number 5\n",
      "1st Value: 456789\n",
      "2nd Value: 79\n",
      "Div is 5782.139240506329\n"
     ]
    }
   ],
   "source": [
    "import sys\n",
    "while True:\n",
    "    try:\n",
    "        a = int(input(\"1st Value: \"))\n",
    "        b = int(input(\"2nd Value: \"))\n",
    "        c = a/b\n",
    "        print('Div is' , c)\n",
    "        break\n",
    "    except :\n",
    "        a,b,c = sys.exc_info()\n",
    "        print(\"Exeption Class\" , a )\n",
    "        print(\"Exeption Message\" , b )\n",
    "        print(\"Line Number\" , c.tb_lineno)"
   ]
  },
  {
   "cell_type": "code",
   "execution_count": 3,
   "id": "70124889",
   "metadata": {},
   "outputs": [
    {
     "name": "stdout",
     "output_type": "stream",
     "text": [
      "1st Value: 345678\n",
      "2nd Value: 0\n",
      "Traceback (most recent call last):\n",
      "  File \"C:\\Users\\DIVESH\\AppData\\Local\\Temp/ipykernel_28456/2691237691.py\", line 6, in <module>\n",
      "    c = a/b\n",
      "ZeroDivisionError: division by zero\n",
      "\n",
      "1st Value: 67\n",
      "2nd Value: 23\n",
      "Div is 2.9130434782608696\n"
     ]
    }
   ],
   "source": [
    "import traceback\n",
    "while True:\n",
    "    try:\n",
    "        a = int(input(\"1st Value: \"))\n",
    "        b = int(input(\"2nd Value: \"))\n",
    "        c = a/b\n",
    "        print('Div is' , c)\n",
    "        break\n",
    "    except :\n",
    "        print(traceback.format_exc())\n",
    "  "
   ]
  },
  {
   "cell_type": "code",
   "execution_count": 4,
   "id": "05e9586e",
   "metadata": {},
   "outputs": [],
   "source": [
    "#raise exeption"
   ]
  },
  {
   "cell_type": "code",
   "execution_count": 6,
   "id": "113108dd",
   "metadata": {},
   "outputs": [],
   "source": [
    "#at custom line"
   ]
  },
  {
   "cell_type": "code",
   "execution_count": 11,
   "id": "621f9546",
   "metadata": {},
   "outputs": [
    {
     "name": "stdout",
     "output_type": "stream",
     "text": [
      "first number: 0\n",
      "Second Number: 678\n"
     ]
    },
    {
     "data": {
      "text/plain": [
       "0.0"
      ]
     },
     "execution_count": 11,
     "metadata": {},
     "output_type": "execute_result"
    }
   ],
   "source": [
    "a = int(input(\"first number: \"))\n",
    "b = int(input(\"Second Number: \"))\n",
    "a/b"
   ]
  },
  {
   "cell_type": "code",
   "execution_count": 12,
   "id": "11f55c09",
   "metadata": {},
   "outputs": [
    {
     "name": "stdout",
     "output_type": "stream",
     "text": [
      "first number: 45678\n",
      "Second Number: 0\n"
     ]
    },
    {
     "ename": "ZeroDivisionError",
     "evalue": "division by zero",
     "output_type": "error",
     "traceback": [
      "\u001b[1;31m---------------------------------------------------------------------------\u001b[0m",
      "\u001b[1;31mZeroDivisionError\u001b[0m                         Traceback (most recent call last)",
      "\u001b[1;32m~\\AppData\\Local\\Temp/ipykernel_28456/4140887974.py\u001b[0m in \u001b[0;36m<module>\u001b[1;34m\u001b[0m\n\u001b[0;32m      1\u001b[0m \u001b[0ma\u001b[0m \u001b[1;33m=\u001b[0m \u001b[0mint\u001b[0m\u001b[1;33m(\u001b[0m\u001b[0minput\u001b[0m\u001b[1;33m(\u001b[0m\u001b[1;34m\"first number: \"\u001b[0m\u001b[1;33m)\u001b[0m\u001b[1;33m)\u001b[0m\u001b[1;33m\u001b[0m\u001b[1;33m\u001b[0m\u001b[0m\n\u001b[0;32m      2\u001b[0m \u001b[0mb\u001b[0m \u001b[1;33m=\u001b[0m \u001b[0mint\u001b[0m\u001b[1;33m(\u001b[0m\u001b[0minput\u001b[0m\u001b[1;33m(\u001b[0m\u001b[1;34m\"Second Number: \"\u001b[0m\u001b[1;33m)\u001b[0m\u001b[1;33m)\u001b[0m\u001b[1;33m\u001b[0m\u001b[1;33m\u001b[0m\u001b[0m\n\u001b[1;32m----> 3\u001b[1;33m \u001b[0ma\u001b[0m\u001b[1;33m/\u001b[0m\u001b[0mb\u001b[0m\u001b[1;33m\u001b[0m\u001b[1;33m\u001b[0m\u001b[0m\n\u001b[0m",
      "\u001b[1;31mZeroDivisionError\u001b[0m: division by zero"
     ]
    }
   ],
   "source": [
    "a = int(input(\"first number: \"))\n",
    "b = int(input(\"Second Number: \"))\n",
    "a/b"
   ]
  },
  {
   "cell_type": "code",
   "execution_count": 2,
   "id": "3aa89890",
   "metadata": {},
   "outputs": [
    {
     "name": "stdout",
     "output_type": "stream",
     "text": [
      "First Number: 100\n",
      "Second Number: 0\n",
      "Please enter Non Zero Dinominator\n",
      "First Number: 30\n",
      "Second Number: -1\n",
      "Negative Number Not Allowed\n",
      "First Number: 75\n",
      "Second Number: rr\n",
      "Please enter integer only\n",
      "First Number: 100\n",
      "Second Number: 0\n",
      "Please enter Non Zero Dinominator\n",
      "First Number: 0\n",
      "Second Number: 100\n",
      "Division is 0.0\n"
     ]
    }
   ],
   "source": [
    "while True:\n",
    "    try:\n",
    "        a = int(input(\"First Number: \"))\n",
    "        b = int(input(\"Second Number: \"))\n",
    "        if a<0 or b<0 : \n",
    "            raise Exception(\"Negative Number Not Allowed\")\n",
    "        c = a/b\n",
    "        print('Division is' , c)\n",
    "        break\n",
    "    except ValueError:\n",
    "        print(\"Please enter integer only\")\n",
    "    except ZeroDivisionError:\n",
    "        print(\"Please enter Non Zero Dinominator\")\n",
    "    except Exception as e :\n",
    "        print(e)\n",
    "        "
   ]
  },
  {
   "cell_type": "code",
   "execution_count": null,
   "id": "9edcf1cc",
   "metadata": {},
   "outputs": [
    {
     "name": "stdout",
     "output_type": "stream",
     "text": [
      "First Number: 100\n",
      "Second Number: -20\n",
      "name 'NegativeNumberException' is not defined\n"
     ]
    }
   ],
   "source": [
    "while True:\n",
    "    try:\n",
    "        a = int(input(\"First Number: \"))\n",
    "        b = int(input(\"Second Number: \"))\n",
    "        if a<0 or b<0 : \n",
    "            raise Exception(\"Negative Number Not Allowed\")\n",
    "        c = a/b\n",
    "        print('Division is' , c)\n",
    "        break\n",
    "    except ValueError:\n",
    "        print(\"Please enter integer only\")\n",
    "    except ZeroDivisionError:\n",
    "        print(\"Please enter Non Zero Dinominator\")\n",
    "    except Exception as e :\n",
    "        print(e)"
   ]
  },
  {
   "cell_type": "code",
   "execution_count": 1,
   "id": "8603db05",
   "metadata": {},
   "outputs": [],
   "source": [
    "class NativeNumberException(Exception) :\n",
    "    pass"
   ]
  },
  {
   "cell_type": "code",
   "execution_count": null,
   "id": "44087317",
   "metadata": {},
   "outputs": [
    {
     "name": "stdout",
     "output_type": "stream",
     "text": [
      "First Number: 100\n",
      "Second Number: -20\n",
      "Negative Number Not Allowed\n"
     ]
    }
   ],
   "source": [
    "while True:\n",
    "    try:\n",
    "        a = int(input(\"First Number: \"))\n",
    "        b = int(input(\"Second Number: \"))\n",
    "        if a<0 or b<0 : \n",
    "            raise Exception(\"Negative Number Not Allowed\")\n",
    "        c = a/b\n",
    "        print('Division is' , c)\n",
    "        break\n",
    "    except ValueError:\n",
    "        print(\"Please enter integer only\")\n",
    "    except ZeroDivisionError:\n",
    "        print(\"Please enter Non Zero Dinominator\")\n",
    "    except Exception as e :\n",
    "        print(e)"
   ]
  },
  {
   "cell_type": "markdown",
   "id": "c0898821",
   "metadata": {},
   "source": [
    "# Final block"
   ]
  },
  {
   "cell_type": "code",
   "execution_count": 2,
   "id": "1907f36f",
   "metadata": {},
   "outputs": [
    {
     "name": "stdout",
     "output_type": "stream",
     "text": [
      "First Number: 6567\n",
      "Second Number: 0\n",
      "Dont use dinominator as Zero\n",
      "Hello\n",
      "Python\n"
     ]
    }
   ],
   "source": [
    "try:\n",
    "    a = int(input(\"First Number: \"))\n",
    "    b = int(input(\"Second Number: \"))\n",
    "    c = a/b\n",
    "    print(c)\n",
    "except:\n",
    "    print(\"Dont use dinominator as Zero\")\n",
    "    \n",
    "print(\"Hello\")\n",
    "print(\"Python\")"
   ]
  },
  {
   "cell_type": "code",
   "execution_count": 7,
   "id": "1ab7fc3c",
   "metadata": {},
   "outputs": [
    {
     "name": "stdout",
     "output_type": "stream",
     "text": [
      "First Number: 100\n",
      "Second Number: 01\n",
      "100.0\n",
      "Hello\n",
      "Python\n"
     ]
    }
   ],
   "source": [
    "try:\n",
    "    a = int(input(\"First Number: \"))\n",
    "    b = int(input(\"Second Number: \"))\n",
    "    c = a/b\n",
    "    print(c)\n",
    "except:\n",
    "    print(\"Dont use dinominator as Zero\")\n",
    "    \n",
    "finally:\n",
    "    print(\"Hello\")\n",
    "    print(\"Python\")"
   ]
  },
  {
   "cell_type": "code",
   "execution_count": 6,
   "id": "45ee50c0",
   "metadata": {},
   "outputs": [],
   "source": [
    "#suppose we have created a data base & if we forgot to close the connection\n",
    "\n",
    "#cloud service if those app we forgot to terminate"
   ]
  },
  {
   "cell_type": "code",
   "execution_count": 11,
   "id": "0f19cd1d",
   "metadata": {},
   "outputs": [
    {
     "name": "stdout",
     "output_type": "stream",
     "text": [
      "First Number: 200\n",
      "Second Number: 40\n",
      "5.0\n",
      "Python\n",
      "Rocks\n"
     ]
    }
   ],
   "source": [
    "try:\n",
    "    a = int(input(\"First Number: \"))\n",
    "    b = int(input(\"Second Number: \"))\n",
    "    c = a/b\n",
    "    print(c)\n",
    "except:\n",
    "    print(\"Dont use dinominator as Zero\")\n",
    "else:    \n",
    "    print(\"Python\")\n",
    "    print(\"Rocks\")"
   ]
  },
  {
   "cell_type": "code",
   "execution_count": null,
   "id": "21814bd6",
   "metadata": {},
   "outputs": [],
   "source": []
  }
 ],
 "metadata": {
  "kernelspec": {
   "display_name": "Python 3 (ipykernel)",
   "language": "python",
   "name": "python3"
  },
  "language_info": {
   "codemirror_mode": {
    "name": "ipython",
    "version": 3
   },
   "file_extension": ".py",
   "mimetype": "text/x-python",
   "name": "python",
   "nbconvert_exporter": "python",
   "pygments_lexer": "ipython3",
   "version": "3.9.7"
  }
 },
 "nbformat": 4,
 "nbformat_minor": 5
}
