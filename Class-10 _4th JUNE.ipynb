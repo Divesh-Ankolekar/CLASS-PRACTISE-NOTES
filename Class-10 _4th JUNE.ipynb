{
 "cells": [
  {
   "cell_type": "code",
   "execution_count": 48,
   "id": "fcf2980e",
   "metadata": {},
   "outputs": [],
   "source": [
    "S = \"This is My First Python Programming Class and i am learning python string and its function\""
   ]
  },
  {
   "cell_type": "markdown",
   "id": "8a198ffe",
   "metadata": {},
   "source": [
    "# TASK-1"
   ]
  },
  {
   "cell_type": "code",
   "execution_count": 49,
   "id": "23ca6c06",
   "metadata": {},
   "outputs": [
    {
     "data": {
      "text/plain": [
       "'TssyityoPgmnCsa alrnph rgni ni'"
      ]
     },
     "execution_count": 49,
     "metadata": {},
     "output_type": "execute_result"
    }
   ],
   "source": [
    "S[0:300:3]"
   ]
  },
  {
   "cell_type": "code",
   "execution_count": 50,
   "id": "a9884cb6",
   "metadata": {},
   "outputs": [
    {
     "data": {
      "text/plain": [
       "'noitcnuf sti dna gnirts nohtyp gninrael ma i dna ssalC gnimmargorP nohtyP tsriF yM si sihT'"
      ]
     },
     "execution_count": 50,
     "metadata": {},
     "output_type": "execute_result"
    }
   ],
   "source": [
    "S[::-1]"
   ]
  },
  {
   "cell_type": "code",
   "execution_count": 51,
   "id": "33ab96e1",
   "metadata": {},
   "outputs": [
    {
     "data": {
      "text/plain": [
       "'THIS IS MY FIRST PYTHON PROGRAMMING CLASS AND I AM LEARNING PYTHON STRING AND ITS FUNCTION'"
      ]
     },
     "execution_count": 51,
     "metadata": {},
     "output_type": "execute_result"
    }
   ],
   "source": [
    "S.upper()"
   ]
  },
  {
   "cell_type": "code",
   "execution_count": 52,
   "id": "067a9576",
   "metadata": {},
   "outputs": [
    {
     "data": {
      "text/plain": [
       "['This',\n",
       " 'is',\n",
       " 'My',\n",
       " 'First',\n",
       " 'Python',\n",
       " 'Programming',\n",
       " 'Class',\n",
       " 'and',\n",
       " 'i',\n",
       " 'am',\n",
       " 'learning',\n",
       " 'python',\n",
       " 'string',\n",
       " 'and',\n",
       " 'its',\n",
       " 'function']"
      ]
     },
     "execution_count": 52,
     "metadata": {},
     "output_type": "execute_result"
    }
   ],
   "source": [
    "S.split()"
   ]
  },
  {
   "cell_type": "code",
   "execution_count": 53,
   "id": "66ff1ae4",
   "metadata": {},
   "outputs": [
    {
     "data": {
      "text/plain": [
       "'this is my first python programming class and i am learning python string and its function'"
      ]
     },
     "execution_count": 53,
     "metadata": {},
     "output_type": "execute_result"
    }
   ],
   "source": [
    "S.lower()"
   ]
  },
  {
   "cell_type": "code",
   "execution_count": 54,
   "id": "293583db",
   "metadata": {},
   "outputs": [
    {
     "data": {
      "text/plain": [
       "['This is My Firs',\n",
       " ' Py',\n",
       " 'hon Programming Class and i am learning py',\n",
       " 'hon s',\n",
       " 'ring and i',\n",
       " 's func',\n",
       " 'ion']"
      ]
     },
     "execution_count": 54,
     "metadata": {},
     "output_type": "execute_result"
    }
   ],
   "source": [
    "S.split('t')"
   ]
  },
  {
   "cell_type": "code",
   "execution_count": 55,
   "id": "9061e21d",
   "metadata": {},
   "outputs": [
    {
     "data": {
      "text/plain": [
       "'This is my first python programming class and i am learning python string and its function'"
      ]
     },
     "execution_count": 55,
     "metadata": {},
     "output_type": "execute_result"
    }
   ],
   "source": [
    "S.capitalize()"
   ]
  },
  {
   "cell_type": "code",
   "execution_count": 56,
   "id": "76a5c601",
   "metadata": {},
   "outputs": [],
   "source": [
    "#Difference Between isalnum and isalpha?"
   ]
  },
  {
   "cell_type": "code",
   "execution_count": 57,
   "id": "24973503",
   "metadata": {},
   "outputs": [],
   "source": [
    "w = \"divisdatascience7173261\""
   ]
  },
  {
   "cell_type": "code",
   "execution_count": 58,
   "id": "133eee31",
   "metadata": {},
   "outputs": [
    {
     "data": {
      "text/plain": [
       "True"
      ]
     },
     "execution_count": 58,
     "metadata": {},
     "output_type": "execute_result"
    }
   ],
   "source": [
    "w.isalnum()"
   ]
  },
  {
   "cell_type": "code",
   "execution_count": 59,
   "id": "de4225e7",
   "metadata": {},
   "outputs": [],
   "source": [
    "e='123jdh1231'"
   ]
  },
  {
   "cell_type": "code",
   "execution_count": 60,
   "id": "51e94c4d",
   "metadata": {},
   "outputs": [
    {
     "data": {
      "text/plain": [
       "True"
      ]
     },
     "execution_count": 60,
     "metadata": {},
     "output_type": "execute_result"
    }
   ],
   "source": [
    "e.isalnum()"
   ]
  },
  {
   "cell_type": "code",
   "execution_count": 61,
   "id": "9111fc17",
   "metadata": {},
   "outputs": [],
   "source": [
    "r='24525167'"
   ]
  },
  {
   "cell_type": "code",
   "execution_count": 62,
   "id": "8a4736aa",
   "metadata": {},
   "outputs": [
    {
     "data": {
      "text/plain": [
       "True"
      ]
     },
     "execution_count": 62,
     "metadata": {},
     "output_type": "execute_result"
    }
   ],
   "source": [
    "r.isnumeric()"
   ]
  },
  {
   "cell_type": "code",
   "execution_count": 63,
   "id": "4967c07e",
   "metadata": {},
   "outputs": [
    {
     "data": {
      "text/plain": [
       "'Div     Is      working     as     a    DataScientist'"
      ]
     },
     "execution_count": 63,
     "metadata": {},
     "output_type": "execute_result"
    }
   ],
   "source": [
    "D = 'Div\\tIs\\tworking     as     a\\tDataScientist'\n",
    "D.expandtabs()"
   ]
  },
  {
   "cell_type": "code",
   "execution_count": 64,
   "id": "aa4e8acd",
   "metadata": {},
   "outputs": [
    {
     "data": {
      "text/plain": [
       "'Data Scientist'"
      ]
     },
     "execution_count": 64,
     "metadata": {},
     "output_type": "execute_result"
    }
   ],
   "source": [
    "d = '       Data Scientist      '\n",
    "d.strip()"
   ]
  },
  {
   "cell_type": "code",
   "execution_count": 65,
   "id": "a3407a68",
   "metadata": {},
   "outputs": [
    {
     "data": {
      "text/plain": [
       "'       Data Scientist'"
      ]
     },
     "execution_count": 65,
     "metadata": {},
     "output_type": "execute_result"
    }
   ],
   "source": [
    "d.rstrip()"
   ]
  },
  {
   "cell_type": "code",
   "execution_count": 66,
   "id": "d3d42641",
   "metadata": {},
   "outputs": [
    {
     "data": {
      "text/plain": [
       "'Data Scientist      '"
      ]
     },
     "execution_count": 66,
     "metadata": {},
     "output_type": "execute_result"
    }
   ],
   "source": [
    "d.lstrip()"
   ]
  },
  {
   "cell_type": "code",
   "execution_count": 67,
   "id": "0816403f",
   "metadata": {},
   "outputs": [],
   "source": [
    "dd = '1234, div , data scientis'"
   ]
  },
  {
   "cell_type": "code",
   "execution_count": 68,
   "id": "51052a10",
   "metadata": {},
   "outputs": [
    {
     "data": {
      "text/plain": [
       "'1234, Divesh , data scientis'"
      ]
     },
     "execution_count": 68,
     "metadata": {},
     "output_type": "execute_result"
    }
   ],
   "source": [
    "dd.replace(\"div\" , \"Divesh\")"
   ]
  },
  {
   "cell_type": "code",
   "execution_count": 69,
   "id": "55c7ae59",
   "metadata": {},
   "outputs": [
    {
     "data": {
      "text/plain": [
       "'###Data Scientist###'"
      ]
     },
     "execution_count": 69,
     "metadata": {},
     "output_type": "execute_result"
    }
   ],
   "source": [
    "D= 'Data Scientist'\n",
    "D.center(20 , '#')\n"
   ]
  },
  {
   "cell_type": "markdown",
   "id": "c04cc43a",
   "metadata": {},
   "source": [
    "# TASK-2"
   ]
  },
  {
   "cell_type": "code",
   "execution_count": 1,
   "id": "a5cd7428",
   "metadata": {},
   "outputs": [],
   "source": [
    "l = [3,4,5,6,7,[23,456,67,8,78,78],[345,56,87,8,98,9],(234,6657,6) ,  {\"key1\":\"sudh\" , 234:[23,45,656]}]"
   ]
  },
  {
   "cell_type": "code",
   "execution_count": 2,
   "id": "506bc973",
   "metadata": {},
   "outputs": [],
   "source": [
    "l.reverse()"
   ]
  },
  {
   "cell_type": "code",
   "execution_count": 3,
   "id": "05065ab5",
   "metadata": {},
   "outputs": [
    {
     "data": {
      "text/plain": [
       "[{'key1': 'sudh', 234: [23, 45, 656]},\n",
       " (234, 6657, 6),\n",
       " [345, 56, 87, 8, 98, 9],\n",
       " [23, 456, 67, 8, 78, 78],\n",
       " 7,\n",
       " 6,\n",
       " 5,\n",
       " 4,\n",
       " 3]"
      ]
     },
     "execution_count": 3,
     "metadata": {},
     "output_type": "execute_result"
    }
   ],
   "source": [
    "l"
   ]
  },
  {
   "cell_type": "code",
   "execution_count": 4,
   "id": "00aadb06",
   "metadata": {},
   "outputs": [
    {
     "data": {
      "text/plain": [
       "[3,\n",
       " 4,\n",
       " 5,\n",
       " 6,\n",
       " 7,\n",
       " [23, 456, 67, 8, 78, 78],\n",
       " [345, 56, 87, 8, 98, 9],\n",
       " (234, 6657, 6),\n",
       " {'key1': 'sudh', 234: [23, 45, 656]}]"
      ]
     },
     "execution_count": 4,
     "metadata": {},
     "output_type": "execute_result"
    }
   ],
   "source": [
    "l[::-1]"
   ]
  },
  {
   "cell_type": "code",
   "execution_count": 9,
   "id": "17f4dd45",
   "metadata": {},
   "outputs": [
    {
     "data": {
      "text/plain": [
       "4"
      ]
     },
     "execution_count": 9,
     "metadata": {},
     "output_type": "execute_result"
    }
   ],
   "source": [
    "l[7]"
   ]
  },
  {
   "cell_type": "code",
   "execution_count": 11,
   "id": "a4acea1c",
   "metadata": {},
   "outputs": [],
   "source": [
    "l = [3,4,5,6,7,[23,456,67,8,78,78],[345,56,87,8,98,9],(234,6657,6) ,  {\"key1\":\"sudh\" , 234:[23,45,656]}]"
   ]
  },
  {
   "cell_type": "code",
   "execution_count": 16,
   "id": "69b34d00",
   "metadata": {},
   "outputs": [
    {
     "data": {
      "text/plain": [
       "234"
      ]
     },
     "execution_count": 16,
     "metadata": {},
     "output_type": "execute_result"
    }
   ],
   "source": [
    "l[7][0]"
   ]
  },
  {
   "cell_type": "code",
   "execution_count": 20,
   "id": "1795c2fd",
   "metadata": {},
   "outputs": [
    {
     "data": {
      "text/plain": [
       "234"
      ]
     },
     "execution_count": 20,
     "metadata": {},
     "output_type": "execute_result"
    }
   ],
   "source": [
    "list(l[8].keys())[1]"
   ]
  },
  {
   "cell_type": "code",
   "execution_count": 23,
   "id": "2d126212",
   "metadata": {},
   "outputs": [
    {
     "name": "stdout",
     "output_type": "stream",
     "text": [
      "234\n",
      "234\n"
     ]
    }
   ],
   "source": [
    "print(l[7][0])\n",
    "print(list(l[8].keys())[1])"
   ]
  },
  {
   "cell_type": "code",
   "execution_count": 24,
   "id": "169503ce",
   "metadata": {},
   "outputs": [
    {
     "data": {
      "text/plain": [
       "456"
      ]
     },
     "execution_count": 24,
     "metadata": {},
     "output_type": "execute_result"
    }
   ],
   "source": [
    "l[5][1]"
   ]
  },
  {
   "cell_type": "code",
   "execution_count": 25,
   "id": "dbe2eeca",
   "metadata": {},
   "outputs": [
    {
     "data": {
      "text/plain": [
       "[[23, 456, 67, 8, 78, 78], [345, 56, 87, 8, 98, 9]]"
      ]
     },
     "execution_count": 25,
     "metadata": {},
     "output_type": "execute_result"
    }
   ],
   "source": [
    "l[5:7]"
   ]
  },
  {
   "cell_type": "code",
   "execution_count": 28,
   "id": "b1745640",
   "metadata": {},
   "outputs": [
    {
     "data": {
      "text/plain": [
       "'sudh'"
      ]
     },
     "execution_count": 28,
     "metadata": {},
     "output_type": "execute_result"
    }
   ],
   "source": [
    "l[8]['key1']"
   ]
  },
  {
   "cell_type": "code",
   "execution_count": 29,
   "id": "2c6f8910",
   "metadata": {},
   "outputs": [
    {
     "data": {
      "text/plain": [
       "['key1', 234]"
      ]
     },
     "execution_count": 29,
     "metadata": {},
     "output_type": "execute_result"
    }
   ],
   "source": [
    "list(l[8].keys())"
   ]
  },
  {
   "cell_type": "code",
   "execution_count": 31,
   "id": "16571fcf",
   "metadata": {},
   "outputs": [
    {
     "data": {
      "text/plain": [
       "['sudh', [23, 45, 656]]"
      ]
     },
     "execution_count": 31,
     "metadata": {},
     "output_type": "execute_result"
    }
   ],
   "source": [
    "list(l[8].values())"
   ]
  },
  {
   "cell_type": "markdown",
   "id": "88d79eb0",
   "metadata": {},
   "source": [
    "# TASK-3"
   ]
  },
  {
   "cell_type": "code",
   "execution_count": null,
   "id": "076f132e",
   "metadata": {},
   "outputs": [],
   "source": []
  }
 ],
 "metadata": {
  "kernelspec": {
   "display_name": "Python 3 (ipykernel)",
   "language": "python",
   "name": "python3"
  },
  "language_info": {
   "codemirror_mode": {
    "name": "ipython",
    "version": 3
   },
   "file_extension": ".py",
   "mimetype": "text/x-python",
   "name": "python",
   "nbconvert_exporter": "python",
   "pygments_lexer": "ipython3",
   "version": "3.9.7"
  }
 },
 "nbformat": 4,
 "nbformat_minor": 5
}
