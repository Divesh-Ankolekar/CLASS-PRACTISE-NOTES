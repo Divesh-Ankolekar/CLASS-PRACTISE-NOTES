{
 "cells": [
  {
   "cell_type": "code",
   "execution_count": 9,
   "id": "3594e2d0",
   "metadata": {},
   "outputs": [],
   "source": [
    "def test(a,b) :\n",
    "    '''this is my  function for addition'''\n",
    "    return a + b\n",
    "    "
   ]
  },
  {
   "cell_type": "code",
   "execution_count": 10,
   "id": "59071615",
   "metadata": {},
   "outputs": [
    {
     "data": {
      "text/plain": [
       "20"
      ]
     },
     "execution_count": 10,
     "metadata": {},
     "output_type": "execute_result"
    }
   ],
   "source": [
    "test(10,10)"
   ]
  },
  {
   "cell_type": "code",
   "execution_count": 5,
   "id": "4d858705",
   "metadata": {},
   "outputs": [
    {
     "data": {
      "text/plain": [
       "'Divesh is Data Scientist'"
      ]
     },
     "execution_count": 5,
     "metadata": {},
     "output_type": "execute_result"
    }
   ],
   "source": [
    "test(\"Divesh is\" , ' Data Scientist')"
   ]
  },
  {
   "cell_type": "code",
   "execution_count": 6,
   "id": "63d14628",
   "metadata": {},
   "outputs": [
    {
     "data": {
      "text/plain": [
       "50"
      ]
     },
     "execution_count": 6,
     "metadata": {},
     "output_type": "execute_result"
    }
   ],
   "source": [
    "test(a = 10 , b = 40)"
   ]
  },
  {
   "cell_type": "code",
   "execution_count": 11,
   "id": "d921fc1b",
   "metadata": {},
   "outputs": [
    {
     "name": "stdout",
     "output_type": "stream",
     "text": [
      "\n"
     ]
    }
   ],
   "source": [
    "print()"
   ]
  },
  {
   "cell_type": "code",
   "execution_count": 17,
   "id": "f7145803",
   "metadata": {},
   "outputs": [],
   "source": [
    "def test1(a,b,c,d,e) :\n",
    "    return a,b,c"
   ]
  },
  {
   "cell_type": "code",
   "execution_count": 19,
   "id": "74e6a5ed",
   "metadata": {},
   "outputs": [
    {
     "ename": "TypeError",
     "evalue": "test1() missing 3 required positional arguments: 'c', 'd', and 'e'",
     "output_type": "error",
     "traceback": [
      "\u001b[1;31m---------------------------------------------------------------------------\u001b[0m",
      "\u001b[1;31mTypeError\u001b[0m                                 Traceback (most recent call last)",
      "\u001b[1;32m~\\AppData\\Local\\Temp/ipykernel_764/4010785962.py\u001b[0m in \u001b[0;36m<module>\u001b[1;34m\u001b[0m\n\u001b[1;32m----> 1\u001b[1;33m \u001b[0mtest1\u001b[0m\u001b[1;33m(\u001b[0m\u001b[1;36m3\u001b[0m\u001b[1;33m,\u001b[0m\u001b[1;36m4\u001b[0m\u001b[1;33m)\u001b[0m\u001b[1;33m\u001b[0m\u001b[1;33m\u001b[0m\u001b[0m\n\u001b[0m",
      "\u001b[1;31mTypeError\u001b[0m: test1() missing 3 required positional arguments: 'c', 'd', and 'e'"
     ]
    }
   ],
   "source": [
    "test1(3,4)"
   ]
  },
  {
   "cell_type": "code",
   "execution_count": 21,
   "id": "d8b7739c",
   "metadata": {},
   "outputs": [],
   "source": [
    "def test(*a) :\n",
    "    return a"
   ]
  },
  {
   "cell_type": "code",
   "execution_count": 22,
   "id": "016a6f6e",
   "metadata": {},
   "outputs": [
    {
     "data": {
      "text/plain": [
       "(1234, 753671298)"
      ]
     },
     "execution_count": 22,
     "metadata": {},
     "output_type": "execute_result"
    }
   ],
   "source": [
    "test(1234,753671298)"
   ]
  },
  {
   "cell_type": "code",
   "execution_count": 27,
   "id": "8136ec3c",
   "metadata": {},
   "outputs": [
    {
     "data": {
      "text/plain": [
       "(8, 932, 645, 9)"
      ]
     },
     "execution_count": 27,
     "metadata": {},
     "output_type": "execute_result"
    }
   ],
   "source": [
    "test(8,932,645,9)"
   ]
  },
  {
   "cell_type": "code",
   "execution_count": 28,
   "id": "5ef0cf21",
   "metadata": {},
   "outputs": [],
   "source": [
    "def test5(*a) :\n",
    "    l = []\n",
    "    for i in a :\n",
    "        l.append(i)\n",
    "    return l    "
   ]
  },
  {
   "cell_type": "code",
   "execution_count": 29,
   "id": "9f9e34be",
   "metadata": {},
   "outputs": [
    {
     "data": {
      "text/plain": [
       "[66471723, 892374, 7346, 92477, 9348]"
      ]
     },
     "execution_count": 29,
     "metadata": {},
     "output_type": "execute_result"
    }
   ],
   "source": [
    "test5(66471723,892374,7346,92477,9348)"
   ]
  },
  {
   "cell_type": "code",
   "execution_count": 30,
   "id": "7b526bbe",
   "metadata": {},
   "outputs": [
    {
     "data": {
      "text/plain": [
       "[66471723, (89, 2), 374, [7346, 92477], 9348]"
      ]
     },
     "execution_count": 30,
     "metadata": {},
     "output_type": "execute_result"
    }
   ],
   "source": [
    "test5(66471723,(89,2),374,[7346,92477],9348)"
   ]
  },
  {
   "cell_type": "code",
   "execution_count": 31,
   "id": "eebcead3",
   "metadata": {},
   "outputs": [
    {
     "data": {
      "text/plain": [
       "[2, 3, 45, 6, 34]"
      ]
     },
     "execution_count": 31,
     "metadata": {},
     "output_type": "execute_result"
    }
   ],
   "source": [
    "test5(2,3,45,6,34)"
   ]
  },
  {
   "cell_type": "code",
   "execution_count": 36,
   "id": "5b4e6e08",
   "metadata": {},
   "outputs": [],
   "source": [
    "def test6(a,b,c,d, *m) :\n",
    "    return a,b,c,d, m"
   ]
  },
  {
   "cell_type": "code",
   "execution_count": 37,
   "id": "056e5f28",
   "metadata": {},
   "outputs": [
    {
     "data": {
      "text/plain": [
       "(1, 2, 3, 4, (5, 6, 7, 8))"
      ]
     },
     "execution_count": 37,
     "metadata": {},
     "output_type": "execute_result"
    }
   ],
   "source": [
    "test6(1,2,3,4,5,6,7,8)"
   ]
  },
  {
   "cell_type": "code",
   "execution_count": 46,
   "id": "079f1157",
   "metadata": {},
   "outputs": [],
   "source": [
    "def test7(*m , a , b , c , d , e) :\n",
    "    return m, a,b,c,d,e"
   ]
  },
  {
   "cell_type": "code",
   "execution_count": 47,
   "id": "9f8a3f96",
   "metadata": {},
   "outputs": [
    {
     "ename": "TypeError",
     "evalue": "test7() missing 5 required keyword-only arguments: 'a', 'b', 'c', 'd', and 'e'",
     "output_type": "error",
     "traceback": [
      "\u001b[1;31m---------------------------------------------------------------------------\u001b[0m",
      "\u001b[1;31mTypeError\u001b[0m                                 Traceback (most recent call last)",
      "\u001b[1;32m~\\AppData\\Local\\Temp/ipykernel_764/4224102170.py\u001b[0m in \u001b[0;36m<module>\u001b[1;34m\u001b[0m\n\u001b[1;32m----> 1\u001b[1;33m \u001b[0mtest7\u001b[0m\u001b[1;33m(\u001b[0m\u001b[1;36m1\u001b[0m\u001b[1;33m,\u001b[0m\u001b[1;36m3\u001b[0m\u001b[1;33m,\u001b[0m\u001b[1;36m4\u001b[0m\u001b[1;33m,\u001b[0m\u001b[1;36m5\u001b[0m\u001b[1;33m,\u001b[0m\u001b[1;36m6\u001b[0m\u001b[1;33m,\u001b[0m\u001b[1;36m7\u001b[0m\u001b[1;33m,\u001b[0m\u001b[1;36m8\u001b[0m\u001b[1;33m)\u001b[0m\u001b[1;33m\u001b[0m\u001b[1;33m\u001b[0m\u001b[0m\n\u001b[0m",
      "\u001b[1;31mTypeError\u001b[0m: test7() missing 5 required keyword-only arguments: 'a', 'b', 'c', 'd', and 'e'"
     ]
    }
   ],
   "source": [
    "test7(1,3,4,5,6,7,8)"
   ]
  },
  {
   "cell_type": "code",
   "execution_count": 48,
   "id": "d04a84f9",
   "metadata": {},
   "outputs": [
    {
     "data": {
      "text/plain": [
       "((1, 3, 5, 6, 6, 5, 7, 3), 4, 5, 6, 7, 8)"
      ]
     },
     "execution_count": 48,
     "metadata": {},
     "output_type": "execute_result"
    }
   ],
   "source": [
    "test7(1,3,5,6,6,5,7,3, a = 4, b = 5, c = 6, d = 7, e = 8)"
   ]
  },
  {
   "cell_type": "code",
   "execution_count": 49,
   "id": "11751035",
   "metadata": {},
   "outputs": [],
   "source": [
    "def test8(**Divesh):\n",
    "    return Divesh"
   ]
  },
  {
   "cell_type": "code",
   "execution_count": 51,
   "id": "2560adb0",
   "metadata": {},
   "outputs": [
    {
     "data": {
      "text/plain": [
       "{'a': 1, 'b': 2, 'c': 3, 'd': 4, 'e': 5, 'f': 6}"
      ]
     },
     "execution_count": 51,
     "metadata": {},
     "output_type": "execute_result"
    }
   ],
   "source": [
    "test8(a=1,b=2,c=3,d=4,e=5,f=6)"
   ]
  },
  {
   "cell_type": "code",
   "execution_count": 54,
   "id": "8ad003a6",
   "metadata": {},
   "outputs": [],
   "source": [
    "d = {'a': 1, 'b': 2, 'c': 3, 'd': 4, 'e': 5, 'f': 6}"
   ]
  },
  {
   "cell_type": "code",
   "execution_count": 55,
   "id": "2ec106d4",
   "metadata": {},
   "outputs": [
    {
     "ename": "TypeError",
     "evalue": "test8() takes 0 positional arguments but 1 was given",
     "output_type": "error",
     "traceback": [
      "\u001b[1;31m---------------------------------------------------------------------------\u001b[0m",
      "\u001b[1;31mTypeError\u001b[0m                                 Traceback (most recent call last)",
      "\u001b[1;32m~\\AppData\\Local\\Temp/ipykernel_764/2123698705.py\u001b[0m in \u001b[0;36m<module>\u001b[1;34m\u001b[0m\n\u001b[1;32m----> 1\u001b[1;33m \u001b[0mtest8\u001b[0m\u001b[1;33m(\u001b[0m\u001b[0md\u001b[0m\u001b[1;33m)\u001b[0m\u001b[1;33m\u001b[0m\u001b[1;33m\u001b[0m\u001b[0m\n\u001b[0m",
      "\u001b[1;31mTypeError\u001b[0m: test8() takes 0 positional arguments but 1 was given"
     ]
    }
   ],
   "source": [
    "test8(d)"
   ]
  },
  {
   "cell_type": "code",
   "execution_count": 58,
   "id": "644df741",
   "metadata": {},
   "outputs": [
    {
     "data": {
      "text/plain": [
       "{'a': 1, 'b': 2, 'c': 3, 'd': (1, 2, 3, 4, 6), 'e': [78223, 39427], 'f': 6}"
      ]
     },
     "execution_count": 58,
     "metadata": {},
     "output_type": "execute_result"
    }
   ],
   "source": [
    "test8(a=1,b=2,c=3,d=(1,2,3,4,6) ,e=[78223,39427],f=6)"
   ]
  },
  {
   "cell_type": "code",
   "execution_count": 59,
   "id": "ae8b53cc",
   "metadata": {},
   "outputs": [],
   "source": [
    "def btest(*m , **s):\n",
    "    return m , s"
   ]
  },
  {
   "cell_type": "code",
   "execution_count": 60,
   "id": "d2da7a36",
   "metadata": {},
   "outputs": [
    {
     "data": {
      "text/plain": [
       "((623, 8673, 253, 375), {'a': 1, 'b': 2, 'c': 3, 'd': 4, 'e': 5, 'f': 6})"
      ]
     },
     "execution_count": 60,
     "metadata": {},
     "output_type": "execute_result"
    }
   ],
   "source": [
    "btest(623,8673,253,375 ,a=1,b=2,c=3,d=4,e=5,f=6 )"
   ]
  },
  {
   "cell_type": "code",
   "execution_count": 64,
   "id": "ccbae597",
   "metadata": {},
   "outputs": [],
   "source": [
    "def ctest(*m) :\n",
    "    n=0\n",
    "    for i in m :\n",
    "        if type(i) == int :\n",
    "            n = n + i\n",
    "    return n        "
   ]
  },
  {
   "cell_type": "code",
   "execution_count": 65,
   "id": "8adc159e",
   "metadata": {},
   "outputs": [
    {
     "data": {
      "text/plain": [
       "44"
      ]
     },
     "execution_count": 65,
     "metadata": {},
     "output_type": "execute_result"
    }
   ],
   "source": [
    "ctest(1,2,3,4,5,6,8,7,8)"
   ]
  },
  {
   "cell_type": "code",
   "execution_count": 66,
   "id": "e62aaa31",
   "metadata": {},
   "outputs": [],
   "source": [
    "def dtest(*m) :\n",
    "    n=1\n",
    "    for i in m :\n",
    "        if type(i) == int :\n",
    "            n = n * i\n",
    "    return n"
   ]
  },
  {
   "cell_type": "code",
   "execution_count": 70,
   "id": "daea11b8",
   "metadata": {},
   "outputs": [
    {
     "data": {
      "text/plain": [
       "64800"
      ]
     },
     "execution_count": 70,
     "metadata": {},
     "output_type": "execute_result"
    }
   ],
   "source": [
    "dtest(1,2,3,4,5,6,9,10)"
   ]
  },
  {
   "cell_type": "markdown",
   "id": "35fd8e6d",
   "metadata": {},
   "source": [
    "# lambda function"
   ]
  },
  {
   "cell_type": "code",
   "execution_count": 72,
   "id": "ccc1db6a",
   "metadata": {},
   "outputs": [],
   "source": [
    "n = lambda a , b : a + b "
   ]
  },
  {
   "cell_type": "code",
   "execution_count": 73,
   "id": "5b089ab8",
   "metadata": {},
   "outputs": [
    {
     "data": {
      "text/plain": [
       "9"
      ]
     },
     "execution_count": 73,
     "metadata": {},
     "output_type": "execute_result"
    }
   ],
   "source": [
    "n(4,5)"
   ]
  },
  {
   "cell_type": "code",
   "execution_count": 74,
   "id": "f68b62d1",
   "metadata": {},
   "outputs": [],
   "source": [
    "def testb(a,b):\n",
    "    return a + b"
   ]
  },
  {
   "cell_type": "code",
   "execution_count": 76,
   "id": "09885cd9",
   "metadata": {},
   "outputs": [
    {
     "data": {
      "text/plain": [
       "9"
      ]
     },
     "execution_count": 76,
     "metadata": {},
     "output_type": "execute_result"
    }
   ],
   "source": [
    "testb(4,5)"
   ]
  },
  {
   "cell_type": "code",
   "execution_count": 77,
   "id": "52b91dec",
   "metadata": {},
   "outputs": [
    {
     "data": {
      "text/plain": [
       "100"
      ]
     },
     "execution_count": 77,
     "metadata": {},
     "output_type": "execute_result"
    }
   ],
   "source": [
    "n(10,90)"
   ]
  },
  {
   "cell_type": "code",
   "execution_count": 78,
   "id": "64949c13",
   "metadata": {},
   "outputs": [
    {
     "data": {
      "text/plain": [
       "(1, 2, 3, 4, 5, 6, 7, 8)"
      ]
     },
     "execution_count": 78,
     "metadata": {},
     "output_type": "execute_result"
    }
   ],
   "source": [
    "b = lambda *Divesh : Divesh \n",
    "b(1,2,3,4,5,6,7,8)"
   ]
  },
  {
   "cell_type": "code",
   "execution_count": 83,
   "id": "ed06fab5",
   "metadata": {},
   "outputs": [
    {
     "name": "stdout",
     "output_type": "stream",
     "text": [
      "[2, 3, 1, 4, 5, 6, 5, 7, 8, 9, 8]\n"
     ]
    }
   ],
   "source": [
    "t = (2,3,1,4,5,6,5,7,8,9,8)\n",
    "l = []\n",
    "for i in t :\n",
    "    l.append(i)\n",
    "print(l)\n",
    "    "
   ]
  },
  {
   "cell_type": "code",
   "execution_count": 84,
   "id": "fd79802f",
   "metadata": {},
   "outputs": [
    {
     "data": {
      "text/plain": [
       "[2, 3, 1, 4, 5, 6, 5, 7, 8, 9, 8]"
      ]
     },
     "execution_count": 84,
     "metadata": {},
     "output_type": "execute_result"
    }
   ],
   "source": [
    "[i for i in t]"
   ]
  },
  {
   "cell_type": "code",
   "execution_count": 2,
   "id": "5797dd72",
   "metadata": {},
   "outputs": [],
   "source": [
    "D = \"Data Scientist\""
   ]
  },
  {
   "cell_type": "code",
   "execution_count": 3,
   "id": "4079a4dc",
   "metadata": {},
   "outputs": [
    {
     "data": {
      "text/plain": [
       "['D', 'a', 't', 'a', ' ', 'S', 'c', 'i', 'e', 'n', 't', 'i', 's', 't']"
      ]
     },
     "execution_count": 3,
     "metadata": {},
     "output_type": "execute_result"
    }
   ],
   "source": [
    "[i for i in D]"
   ]
  },
  {
   "cell_type": "code",
   "execution_count": 7,
   "id": "afa7f1ce",
   "metadata": {},
   "outputs": [
    {
     "data": {
      "text/plain": [
       "[0, 1, 4, 9, 16, 25, 36, 49, 64, 81]"
      ]
     },
     "execution_count": 7,
     "metadata": {},
     "output_type": "execute_result"
    }
   ],
   "source": [
    "[i*i for i in range(10)]"
   ]
  },
  {
   "cell_type": "code",
   "execution_count": 8,
   "id": "7b1bf1fe",
   "metadata": {},
   "outputs": [],
   "source": [
    "l = []\n",
    "for i in range(10) :\n",
    "    l.append(i*i)"
   ]
  },
  {
   "cell_type": "code",
   "execution_count": 9,
   "id": "0133383b",
   "metadata": {},
   "outputs": [
    {
     "data": {
      "text/plain": [
       "[0, 1, 4, 9, 16, 25, 36, 49, 64, 81]"
      ]
     },
     "execution_count": 9,
     "metadata": {},
     "output_type": "execute_result"
    }
   ],
   "source": [
    "l"
   ]
  },
  {
   "cell_type": "code",
   "execution_count": 10,
   "id": "794e0884",
   "metadata": {},
   "outputs": [],
   "source": [
    "l = lambda *x : [i for i in x]"
   ]
  },
  {
   "cell_type": "code",
   "execution_count": 15,
   "id": "55e08cce",
   "metadata": {},
   "outputs": [
    {
     "data": {
      "text/plain": [
       "[4, 5, 34, 5, 6, 6, 7]"
      ]
     },
     "execution_count": 15,
     "metadata": {},
     "output_type": "execute_result"
    }
   ],
   "source": [
    "l(4,5,34,5,6,6,7)        #Printing the List"
   ]
  },
  {
   "cell_type": "code",
   "execution_count": 16,
   "id": "0148179a",
   "metadata": {},
   "outputs": [],
   "source": [
    "l1 = lambda *x : [i**2 for i in x]"
   ]
  },
  {
   "cell_type": "code",
   "execution_count": 17,
   "id": "463400d9",
   "metadata": {},
   "outputs": [
    {
     "data": {
      "text/plain": [
       "[1, 4, 9, 16, 25, 36, 49, 64]"
      ]
     },
     "execution_count": 17,
     "metadata": {},
     "output_type": "execute_result"
    }
   ],
   "source": [
    "l1(1,2,3,4,5,6,7,8)      #Squaring"
   ]
  },
  {
   "cell_type": "code",
   "execution_count": 18,
   "id": "2babe2cf",
   "metadata": {},
   "outputs": [
    {
     "ename": "NameError",
     "evalue": "name 'testt' is not defined",
     "output_type": "error",
     "traceback": [
      "\u001b[1;31m---------------------------------------------------------------------------\u001b[0m",
      "\u001b[1;31mNameError\u001b[0m                                 Traceback (most recent call last)",
      "\u001b[1;32m~\\AppData\\Local\\Temp/ipykernel_12400/1872106023.py\u001b[0m in \u001b[0;36m<module>\u001b[1;34m\u001b[0m\n\u001b[1;32m----> 1\u001b[1;33m \u001b[0mtestt\u001b[0m\u001b[1;33m(\u001b[0m\u001b[0ma\u001b[0m \u001b[1;33m=\u001b[0m \u001b[1;36m7\u001b[0m \u001b[1;33m,\u001b[0m \u001b[0mb\u001b[0m \u001b[1;33m=\u001b[0m \u001b[1;34m\"Divesh\"\u001b[0m \u001b[1;33m,\u001b[0m \u001b[0mc\u001b[0m \u001b[1;33m=\u001b[0m \u001b[1;36m345\u001b[0m \u001b[1;33m,\u001b[0m \u001b[0md\u001b[0m \u001b[1;33m=\u001b[0m \u001b[1;34m\"Data\"\u001b[0m \u001b[1;33m,\u001b[0m \u001b[0ml\u001b[0m \u001b[1;33m=\u001b[0m \u001b[1;33m[\u001b[0m\u001b[1;36m1\u001b[0m\u001b[1;33m,\u001b[0m\u001b[1;36m2\u001b[0m\u001b[1;33m,\u001b[0m\u001b[1;36m3\u001b[0m\u001b[1;33m,\u001b[0m\u001b[1;36m45\u001b[0m\u001b[1;33m,\u001b[0m \u001b[1;34m\"Science\"\u001b[0m\u001b[1;33m]\u001b[0m\u001b[1;33m)\u001b[0m\u001b[1;33m\u001b[0m\u001b[1;33m\u001b[0m\u001b[0m\n\u001b[0m",
      "\u001b[1;31mNameError\u001b[0m: name 'testt' is not defined"
     ]
    }
   ],
   "source": [
    "(a = 7 , b = \"Divesh\" , c = 345 , d = \"Data\" , l = [1,2,3,45, \"Science\"])testt"
   ]
  },
  {
   "cell_type": "code",
   "execution_count": 25,
   "id": "69699d2a",
   "metadata": {},
   "outputs": [],
   "source": [
    "def testt(**a) :\n",
    "    count = 0\n",
    "    for i in  a.values() :\n",
    "        if type(i) == str or type(i) == list :\n",
    "            count=count+1\n",
    "    return count         \n",
    "            \n",
    "            \n",
    "            \n"
   ]
  },
  {
   "cell_type": "code",
   "execution_count": 26,
   "id": "707ada93",
   "metadata": {},
   "outputs": [
    {
     "data": {
      "text/plain": [
       "3"
      ]
     },
     "execution_count": 26,
     "metadata": {},
     "output_type": "execute_result"
    }
   ],
   "source": [
    "testt(a = 7 , b = \"Divesh\" , c = 345 , d = \"Data\" , l = [1,2,3,45, \"Science\"])"
   ]
  },
  {
   "cell_type": "code",
   "execution_count": 27,
   "id": "0a174ff8",
   "metadata": {},
   "outputs": [],
   "source": [
    "def testd(**d) :\n",
    "    return list(d.values())"
   ]
  },
  {
   "cell_type": "code",
   "execution_count": 28,
   "id": "5641ed80",
   "metadata": {},
   "outputs": [
    {
     "data": {
      "text/plain": [
       "[7, 'Divesh', 345, 'Data', [1, 2, 3, 45, 'Science']]"
      ]
     },
     "execution_count": 28,
     "metadata": {},
     "output_type": "execute_result"
    }
   ],
   "source": [
    "testd(a = 7 , b = \"Divesh\" , c = 345 , d = \"Data\" , l = [1,2,3,45, \"Science\"])"
   ]
  },
  {
   "cell_type": "code",
   "execution_count": null,
   "id": "00bdee2c",
   "metadata": {},
   "outputs": [],
   "source": []
  }
 ],
 "metadata": {
  "kernelspec": {
   "display_name": "Python 3 (ipykernel)",
   "language": "python",
   "name": "python3"
  },
  "language_info": {
   "codemirror_mode": {
    "name": "ipython",
    "version": 3
   },
   "file_extension": ".py",
   "mimetype": "text/x-python",
   "name": "python",
   "nbconvert_exporter": "python",
   "pygments_lexer": "ipython3",
   "version": "3.9.7"
  }
 },
 "nbformat": 4,
 "nbformat_minor": 5
}
